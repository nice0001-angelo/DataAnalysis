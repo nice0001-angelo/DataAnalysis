{
 "cells": [
  {
   "cell_type": "markdown",
   "metadata": {},
   "source": [
    "# 네이버쇼핑\n",
    "\n",
    "## #01.필요한 모듈 참조"
   ]
  },
  {
   "cell_type": "code",
   "execution_count": 5,
   "metadata": {},
   "outputs": [],
   "source": [
    "import requests                       # -> 웹페이지 요청 모듈\n",
    "import os                             # -> 날짜 처리 모듈\n",
    "import urllib                         # -> 파이썬 기본 모듈\n",
    "import datetime as dt                 # -> 날짜 처리 모듈\n",
    "from bs4 import BeautifulSoup         # -> 웹페이지 소스코드 분석 모듈\n",
    "from pandas import DataFrame          # -> 데이터프레임"
   ]
  },
  {
   "cell_type": "markdown",
   "metadata": {},
   "source": [
    "## #02. 수집 준비\n",
    "\n",
    "1) 접속을 수행하기 위한 session 객체 생성"
   ]
  },
  {
   "cell_type": "code",
   "execution_count": 2,
   "metadata": {},
   "outputs": [],
   "source": [
    "user_agent = \"Mozilla/5.0 (Windows NT 10.0; Win64; x64) AppleWebKit/537.36 (KHTML, like Gecko) Chrome/77.0.3865.120 Safari/537.36\"\n",
    "\n",
    "session = requests.Session()\n",
    "session.headers.update({'User-agent':user_agent, 'referer':None})"
   ]
  },
  {
   "cell_type": "markdown",
   "metadata": {},
   "source": [
    "2) 접근할 페이지주소(네이버 쇼핑에 대한 검색 결과 주소)\n",
    "\n",
    "필요한 변수 지정"
   ]
  },
  {
   "cell_type": "code",
   "execution_count": 3,
   "metadata": {},
   "outputs": [],
   "source": [
    "keyword = \"카메라\"   # 검색어\n",
    "max_page = 5         #가져올 최대 페이지"
   ]
  },
  {
   "cell_type": "markdown",
   "metadata": {},
   "source": [
    "URLEncoding을 적용한 접속 주소 만들기"
   ]
  },
  {
   "cell_type": "code",
   "execution_count": 9,
   "metadata": {},
   "outputs": [],
   "source": [
    "page_url = \"https://search.shopping.naver.com/search/all.nhn\"\n",
    "params = {\"originquery\":keyword, \"pagingIndex\" : 1,\"pagingSize\":40, \"viewType\" : \"list\", \"sort\":\"rel\",\"frm\":\"NVSHATC\", \"query\":keyword}"
   ]
  },
  {
   "cell_type": "markdown",
   "metadata": {},
   "source": [
    "## #03. 반복을 통한 페이지 컨텐츠 수집"
   ]
  },
  {
   "cell_type": "code",
   "execution_count": 10,
   "metadata": {},
   "outputs": [
    {
     "name": "stdout",
     "output_type": "stream",
     "text": [
      "https://search.shopping.naver.com/search/all.nhn?originquery=%EC%B9%B4%EB%A9%94%EB%9D%BC&pagingIndex=1&pagingSize=40&viewType=list&sort=rel&frm=NVSHATC&query=%EC%B9%B4%EB%A9%94%EB%9D%BC\n",
      "https://search.shopping.naver.com/search/all.nhn?originquery=%EC%B9%B4%EB%A9%94%EB%9D%BC&pagingIndex=2&pagingSize=40&viewType=list&sort=rel&frm=NVSHATC&query=%EC%B9%B4%EB%A9%94%EB%9D%BC\n",
      "https://search.shopping.naver.com/search/all.nhn?originquery=%EC%B9%B4%EB%A9%94%EB%9D%BC&pagingIndex=3&pagingSize=40&viewType=list&sort=rel&frm=NVSHATC&query=%EC%B9%B4%EB%A9%94%EB%9D%BC\n",
      "https://search.shopping.naver.com/search/all.nhn?originquery=%EC%B9%B4%EB%A9%94%EB%9D%BC&pagingIndex=4&pagingSize=40&viewType=list&sort=rel&frm=NVSHATC&query=%EC%B9%B4%EB%A9%94%EB%9D%BC\n",
      "https://search.shopping.naver.com/search/all.nhn?originquery=%EC%B9%B4%EB%A9%94%EB%9D%BC&pagingIndex=5&pagingSize=40&viewType=list&sort=rel&frm=NVSHATC&query=%EC%B9%B4%EB%A9%94%EB%9D%BC\n"
     ]
    }
   ],
   "source": [
    "for page_no in range(1, max_page+1):\n",
    "    params['pagingIndex'] = page_no\n",
    "    query = urllib.parse.urlencode(params)\n",
    "    content_url = page_url + \"?\" + query\n",
    "    print(content_url)"
   ]
  },
  {
   "cell_type": "code",
   "execution_count": null,
   "metadata": {},
   "outputs": [],
   "source": []
  },
  {
   "cell_type": "code",
   "execution_count": null,
   "metadata": {},
   "outputs": [],
   "source": []
  },
  {
   "cell_type": "code",
   "execution_count": null,
   "metadata": {},
   "outputs": [],
   "source": []
  },
  {
   "cell_type": "code",
   "execution_count": null,
   "metadata": {},
   "outputs": [],
   "source": []
  }
 ],
 "metadata": {
  "kernelspec": {
   "display_name": "Python 3",
   "language": "python",
   "name": "python3"
  },
  "language_info": {
   "codemirror_mode": {
    "name": "ipython",
    "version": 3
   },
   "file_extension": ".py",
   "mimetype": "text/x-python",
   "name": "python",
   "nbconvert_exporter": "python",
   "pygments_lexer": "ipython3",
   "version": "3.7.4"
  }
 },
 "nbformat": 4,
 "nbformat_minor": 4
}
