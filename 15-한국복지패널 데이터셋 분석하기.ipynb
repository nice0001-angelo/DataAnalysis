{
 "cells": [
  {
   "cell_type": "markdown",
   "metadata": {},
   "source": [
    "# 한국복지패널 데이터셋 분석하기\n",
    "\n",
    "- https://www.koweps.re.kr:442\n",
    "        \n",
    "- 우리 나라의 각종 사회조사를 시행하고 데이터를 공개하는 사이트\n",
    "- SAS라는 통계 분석 프로그램을 사용한 데이터 셋 파일을 제공\n",
    "    - R로는 이 파일을 함수를 이용해 바로 불러올 수 있으나 Python은 불가능.\n",
    "    - 예제에서 사용되는 데이터셋은 2017년도 조사 자료를 R에서 Excel형식으로 내보낸 파일임\n",
    "    - 데이터셋의 각 변수명에 대한 의미는 http://itaper.co.kr/demo/python/codebook-excel.7z 참조"
   ]
  },
  {
   "cell_type": "markdown",
   "metadata": {},
   "source": [
    "-----------------------\n",
    "## #01. 필요한 패키지 및 샘플 데이터 가져오기"
   ]
  },
  {
   "cell_type": "code",
   "execution_count": 1,
   "metadata": {},
   "outputs": [],
   "source": [
    "import numpy\n",
    "from pandas import DataFrame\n",
    "from pandas import ExcelFile\n",
    "from matplotlib import pyplot"
   ]
  },
  {
   "cell_type": "code",
   "execution_count": 2,
   "metadata": {},
   "outputs": [],
   "source": [
    "# 엑셀 파일을 원격으로 내려받아 데이터프레임으로 변환(다소 시간이 소요된다)\n",
    "xlsx = ExcelFile(\"http://itpaper.co.kr/demo/python/dataset2017.xlsx\")\n",
    "df = xlsx.parse(xlsx.sheet_names[0])"
   ]
  },
  {
   "cell_type": "code",
   "execution_count": 3,
   "metadata": {},
   "outputs": [
    {
     "data": {
      "text/html": [
       "<div>\n",
       "<style scoped>\n",
       "    .dataframe tbody tr th:only-of-type {\n",
       "        vertical-align: middle;\n",
       "    }\n",
       "\n",
       "    .dataframe tbody tr th {\n",
       "        vertical-align: top;\n",
       "    }\n",
       "\n",
       "    .dataframe thead th {\n",
       "        text-align: right;\n",
       "    }\n",
       "</style>\n",
       "<table border=\"1\" class=\"dataframe\">\n",
       "  <thead>\n",
       "    <tr style=\"text-align: right;\">\n",
       "      <th></th>\n",
       "      <th>h12_id</th>\n",
       "      <th>h12_ind</th>\n",
       "      <th>h12_sn</th>\n",
       "      <th>h12_merkey</th>\n",
       "      <th>h_new</th>\n",
       "      <th>h12_cobf</th>\n",
       "      <th>p12_wgl</th>\n",
       "      <th>p12_wsl</th>\n",
       "      <th>p12_wgc</th>\n",
       "      <th>p12_wsc</th>\n",
       "      <th>...</th>\n",
       "      <th>da12_326</th>\n",
       "      <th>da12_327</th>\n",
       "      <th>da12_328</th>\n",
       "      <th>da12_6aq14</th>\n",
       "      <th>da12_6aq15</th>\n",
       "      <th>h12_pers_income1</th>\n",
       "      <th>h12_pers_income2</th>\n",
       "      <th>h12_pers_income3</th>\n",
       "      <th>h12_pers_income4</th>\n",
       "      <th>h12_pers_income5</th>\n",
       "    </tr>\n",
       "  </thead>\n",
       "  <tbody>\n",
       "    <tr>\n",
       "      <td>0</td>\n",
       "      <td>1</td>\n",
       "      <td>1</td>\n",
       "      <td>1</td>\n",
       "      <td>10101</td>\n",
       "      <td>0</td>\n",
       "      <td>NaN</td>\n",
       "      <td>953.482054</td>\n",
       "      <td>0.286943</td>\n",
       "      <td>948.140524</td>\n",
       "      <td>0.285336</td>\n",
       "      <td>...</td>\n",
       "      <td>NaN</td>\n",
       "      <td>NaN</td>\n",
       "      <td>NaN</td>\n",
       "      <td>NaN</td>\n",
       "      <td>NaN</td>\n",
       "      <td>NaN</td>\n",
       "      <td>NaN</td>\n",
       "      <td>NaN</td>\n",
       "      <td>0</td>\n",
       "      <td>NaN</td>\n",
       "    </tr>\n",
       "    <tr>\n",
       "      <td>1</td>\n",
       "      <td>2</td>\n",
       "      <td>1</td>\n",
       "      <td>1</td>\n",
       "      <td>20101</td>\n",
       "      <td>0</td>\n",
       "      <td>NaN</td>\n",
       "      <td>1238.891352</td>\n",
       "      <td>0.372835</td>\n",
       "      <td>1238.891352</td>\n",
       "      <td>0.372835</td>\n",
       "      <td>...</td>\n",
       "      <td>NaN</td>\n",
       "      <td>NaN</td>\n",
       "      <td>NaN</td>\n",
       "      <td>NaN</td>\n",
       "      <td>NaN</td>\n",
       "      <td>NaN</td>\n",
       "      <td>NaN</td>\n",
       "      <td>NaN</td>\n",
       "      <td>0</td>\n",
       "      <td>NaN</td>\n",
       "    </tr>\n",
       "    <tr>\n",
       "      <td>2</td>\n",
       "      <td>3</td>\n",
       "      <td>1</td>\n",
       "      <td>1</td>\n",
       "      <td>30101</td>\n",
       "      <td>0</td>\n",
       "      <td>NaN</td>\n",
       "      <td>1282.051947</td>\n",
       "      <td>0.385824</td>\n",
       "      <td>1282.051947</td>\n",
       "      <td>0.385824</td>\n",
       "      <td>...</td>\n",
       "      <td>NaN</td>\n",
       "      <td>NaN</td>\n",
       "      <td>NaN</td>\n",
       "      <td>NaN</td>\n",
       "      <td>NaN</td>\n",
       "      <td>NaN</td>\n",
       "      <td>NaN</td>\n",
       "      <td>NaN</td>\n",
       "      <td>0</td>\n",
       "      <td>NaN</td>\n",
       "    </tr>\n",
       "    <tr>\n",
       "      <td>3</td>\n",
       "      <td>4</td>\n",
       "      <td>1</td>\n",
       "      <td>1</td>\n",
       "      <td>40101</td>\n",
       "      <td>0</td>\n",
       "      <td>NaN</td>\n",
       "      <td>1066.327201</td>\n",
       "      <td>0.320903</td>\n",
       "      <td>1066.327201</td>\n",
       "      <td>0.320903</td>\n",
       "      <td>...</td>\n",
       "      <td>NaN</td>\n",
       "      <td>NaN</td>\n",
       "      <td>NaN</td>\n",
       "      <td>NaN</td>\n",
       "      <td>NaN</td>\n",
       "      <td>NaN</td>\n",
       "      <td>3418.0</td>\n",
       "      <td>NaN</td>\n",
       "      <td>0</td>\n",
       "      <td>NaN</td>\n",
       "    </tr>\n",
       "    <tr>\n",
       "      <td>4</td>\n",
       "      <td>4</td>\n",
       "      <td>1</td>\n",
       "      <td>1</td>\n",
       "      <td>40101</td>\n",
       "      <td>0</td>\n",
       "      <td>NaN</td>\n",
       "      <td>1390.617192</td>\n",
       "      <td>0.418496</td>\n",
       "      <td>1382.826774</td>\n",
       "      <td>0.416151</td>\n",
       "      <td>...</td>\n",
       "      <td>NaN</td>\n",
       "      <td>NaN</td>\n",
       "      <td>NaN</td>\n",
       "      <td>NaN</td>\n",
       "      <td>NaN</td>\n",
       "      <td>NaN</td>\n",
       "      <td>NaN</td>\n",
       "      <td>NaN</td>\n",
       "      <td>0</td>\n",
       "      <td>NaN</td>\n",
       "    </tr>\n",
       "  </tbody>\n",
       "</table>\n",
       "<p>5 rows × 1191 columns</p>\n",
       "</div>"
      ],
      "text/plain": [
       "   h12_id  h12_ind  h12_sn  h12_merkey  h_new  h12_cobf      p12_wgl  \\\n",
       "0       1        1       1       10101      0       NaN   953.482054   \n",
       "1       2        1       1       20101      0       NaN  1238.891352   \n",
       "2       3        1       1       30101      0       NaN  1282.051947   \n",
       "3       4        1       1       40101      0       NaN  1066.327201   \n",
       "4       4        1       1       40101      0       NaN  1390.617192   \n",
       "\n",
       "    p12_wsl      p12_wgc   p12_wsc  ...  da12_326  da12_327  da12_328  \\\n",
       "0  0.286943   948.140524  0.285336  ...       NaN       NaN       NaN   \n",
       "1  0.372835  1238.891352  0.372835  ...       NaN       NaN       NaN   \n",
       "2  0.385824  1282.051947  0.385824  ...       NaN       NaN       NaN   \n",
       "3  0.320903  1066.327201  0.320903  ...       NaN       NaN       NaN   \n",
       "4  0.418496  1382.826774  0.416151  ...       NaN       NaN       NaN   \n",
       "\n",
       "   da12_6aq14  da12_6aq15  h12_pers_income1  h12_pers_income2  \\\n",
       "0         NaN         NaN               NaN               NaN   \n",
       "1         NaN         NaN               NaN               NaN   \n",
       "2         NaN         NaN               NaN               NaN   \n",
       "3         NaN         NaN               NaN            3418.0   \n",
       "4         NaN         NaN               NaN               NaN   \n",
       "\n",
       "   h12_pers_income3  h12_pers_income4  h12_pers_income5  \n",
       "0               NaN                 0               NaN  \n",
       "1               NaN                 0               NaN  \n",
       "2               NaN                 0               NaN  \n",
       "3               NaN                 0               NaN  \n",
       "4               NaN                 0               NaN  \n",
       "\n",
       "[5 rows x 1191 columns]"
      ]
     },
     "execution_count": 3,
     "metadata": {},
     "output_type": "execute_result"
    }
   ],
   "source": [
    "df.head()"
   ]
  },
  {
   "cell_type": "markdown",
   "metadata": {},
   "source": [
    "http://itpaper.co.kr/demo/python/dataset2017_fieldname.jpg<br>\n",
    "http://itpaper.co.kr/demo/python/dataset2017_area.jpg<br>\n",
    "http://itpaper.co.kr/demo/python/rsample.html\n"
   ]
  },
  {
   "cell_type": "markdown",
   "metadata": {},
   "source": [
    "분석예제 1) 조사대상들에 대한 성별 분포"
   ]
  },
  {
   "cell_type": "code",
   "execution_count": 4,
   "metadata": {},
   "outputs": [
    {
     "data": {
      "text/html": [
       "<div>\n",
       "<style scoped>\n",
       "    .dataframe tbody tr th:only-of-type {\n",
       "        vertical-align: middle;\n",
       "    }\n",
       "\n",
       "    .dataframe tbody tr th {\n",
       "        vertical-align: top;\n",
       "    }\n",
       "\n",
       "    .dataframe thead th {\n",
       "        text-align: right;\n",
       "    }\n",
       "</style>\n",
       "<table border=\"1\" class=\"dataframe\">\n",
       "  <thead>\n",
       "    <tr style=\"text-align: right;\">\n",
       "      <th></th>\n",
       "      <th>h12_id</th>\n",
       "      <th>h12_ind</th>\n",
       "      <th>h12_sn</th>\n",
       "      <th>h12_merkey</th>\n",
       "      <th>h_new</th>\n",
       "      <th>h12_cobf</th>\n",
       "      <th>p12_wgl</th>\n",
       "      <th>p12_wsl</th>\n",
       "      <th>p12_wgc</th>\n",
       "      <th>p12_wsc</th>\n",
       "      <th>...</th>\n",
       "      <th>da12_326</th>\n",
       "      <th>da12_327</th>\n",
       "      <th>da12_328</th>\n",
       "      <th>da12_6aq14</th>\n",
       "      <th>da12_6aq15</th>\n",
       "      <th>h12_pers_income1</th>\n",
       "      <th>h12_pers_income2</th>\n",
       "      <th>h12_pers_income3</th>\n",
       "      <th>h12_pers_income4</th>\n",
       "      <th>h12_pers_income5</th>\n",
       "    </tr>\n",
       "  </thead>\n",
       "  <tbody>\n",
       "    <tr>\n",
       "      <td>0</td>\n",
       "      <td>1</td>\n",
       "      <td>1</td>\n",
       "      <td>1</td>\n",
       "      <td>10101</td>\n",
       "      <td>0</td>\n",
       "      <td>NaN</td>\n",
       "      <td>953.482054</td>\n",
       "      <td>0.286943</td>\n",
       "      <td>948.140524</td>\n",
       "      <td>0.285336</td>\n",
       "      <td>...</td>\n",
       "      <td>NaN</td>\n",
       "      <td>NaN</td>\n",
       "      <td>NaN</td>\n",
       "      <td>NaN</td>\n",
       "      <td>NaN</td>\n",
       "      <td>NaN</td>\n",
       "      <td>NaN</td>\n",
       "      <td>NaN</td>\n",
       "      <td>0</td>\n",
       "      <td>NaN</td>\n",
       "    </tr>\n",
       "    <tr>\n",
       "      <td>1</td>\n",
       "      <td>2</td>\n",
       "      <td>1</td>\n",
       "      <td>1</td>\n",
       "      <td>20101</td>\n",
       "      <td>0</td>\n",
       "      <td>NaN</td>\n",
       "      <td>1238.891352</td>\n",
       "      <td>0.372835</td>\n",
       "      <td>1238.891352</td>\n",
       "      <td>0.372835</td>\n",
       "      <td>...</td>\n",
       "      <td>NaN</td>\n",
       "      <td>NaN</td>\n",
       "      <td>NaN</td>\n",
       "      <td>NaN</td>\n",
       "      <td>NaN</td>\n",
       "      <td>NaN</td>\n",
       "      <td>NaN</td>\n",
       "      <td>NaN</td>\n",
       "      <td>0</td>\n",
       "      <td>NaN</td>\n",
       "    </tr>\n",
       "    <tr>\n",
       "      <td>2</td>\n",
       "      <td>3</td>\n",
       "      <td>1</td>\n",
       "      <td>1</td>\n",
       "      <td>30101</td>\n",
       "      <td>0</td>\n",
       "      <td>NaN</td>\n",
       "      <td>1282.051947</td>\n",
       "      <td>0.385824</td>\n",
       "      <td>1282.051947</td>\n",
       "      <td>0.385824</td>\n",
       "      <td>...</td>\n",
       "      <td>NaN</td>\n",
       "      <td>NaN</td>\n",
       "      <td>NaN</td>\n",
       "      <td>NaN</td>\n",
       "      <td>NaN</td>\n",
       "      <td>NaN</td>\n",
       "      <td>NaN</td>\n",
       "      <td>NaN</td>\n",
       "      <td>0</td>\n",
       "      <td>NaN</td>\n",
       "    </tr>\n",
       "    <tr>\n",
       "      <td>3</td>\n",
       "      <td>4</td>\n",
       "      <td>1</td>\n",
       "      <td>1</td>\n",
       "      <td>40101</td>\n",
       "      <td>0</td>\n",
       "      <td>NaN</td>\n",
       "      <td>1066.327201</td>\n",
       "      <td>0.320903</td>\n",
       "      <td>1066.327201</td>\n",
       "      <td>0.320903</td>\n",
       "      <td>...</td>\n",
       "      <td>NaN</td>\n",
       "      <td>NaN</td>\n",
       "      <td>NaN</td>\n",
       "      <td>NaN</td>\n",
       "      <td>NaN</td>\n",
       "      <td>NaN</td>\n",
       "      <td>3418.0</td>\n",
       "      <td>NaN</td>\n",
       "      <td>0</td>\n",
       "      <td>NaN</td>\n",
       "    </tr>\n",
       "    <tr>\n",
       "      <td>4</td>\n",
       "      <td>4</td>\n",
       "      <td>1</td>\n",
       "      <td>1</td>\n",
       "      <td>40101</td>\n",
       "      <td>0</td>\n",
       "      <td>NaN</td>\n",
       "      <td>1390.617192</td>\n",
       "      <td>0.418496</td>\n",
       "      <td>1382.826774</td>\n",
       "      <td>0.416151</td>\n",
       "      <td>...</td>\n",
       "      <td>NaN</td>\n",
       "      <td>NaN</td>\n",
       "      <td>NaN</td>\n",
       "      <td>NaN</td>\n",
       "      <td>NaN</td>\n",
       "      <td>NaN</td>\n",
       "      <td>NaN</td>\n",
       "      <td>NaN</td>\n",
       "      <td>0</td>\n",
       "      <td>NaN</td>\n",
       "    </tr>\n",
       "    <tr>\n",
       "      <td>...</td>\n",
       "      <td>...</td>\n",
       "      <td>...</td>\n",
       "      <td>...</td>\n",
       "      <td>...</td>\n",
       "      <td>...</td>\n",
       "      <td>...</td>\n",
       "      <td>...</td>\n",
       "      <td>...</td>\n",
       "      <td>...</td>\n",
       "      <td>...</td>\n",
       "      <td>...</td>\n",
       "      <td>...</td>\n",
       "      <td>...</td>\n",
       "      <td>...</td>\n",
       "      <td>...</td>\n",
       "      <td>...</td>\n",
       "      <td>...</td>\n",
       "      <td>...</td>\n",
       "      <td>...</td>\n",
       "      <td>...</td>\n",
       "      <td>...</td>\n",
       "    </tr>\n",
       "    <tr>\n",
       "      <td>15417</td>\n",
       "      <td>9800</td>\n",
       "      <td>7</td>\n",
       "      <td>1</td>\n",
       "      <td>98000701</td>\n",
       "      <td>1</td>\n",
       "      <td>NaN</td>\n",
       "      <td>735.488155</td>\n",
       "      <td>0.221339</td>\n",
       "      <td>735.488155</td>\n",
       "      <td>0.221339</td>\n",
       "      <td>...</td>\n",
       "      <td>NaN</td>\n",
       "      <td>NaN</td>\n",
       "      <td>NaN</td>\n",
       "      <td>NaN</td>\n",
       "      <td>NaN</td>\n",
       "      <td>NaN</td>\n",
       "      <td>979.0</td>\n",
       "      <td>NaN</td>\n",
       "      <td>0</td>\n",
       "      <td>NaN</td>\n",
       "    </tr>\n",
       "    <tr>\n",
       "      <td>15418</td>\n",
       "      <td>9800</td>\n",
       "      <td>7</td>\n",
       "      <td>1</td>\n",
       "      <td>98000701</td>\n",
       "      <td>1</td>\n",
       "      <td>NaN</td>\n",
       "      <td>898.395613</td>\n",
       "      <td>0.270365</td>\n",
       "      <td>898.395613</td>\n",
       "      <td>0.270365</td>\n",
       "      <td>...</td>\n",
       "      <td>NaN</td>\n",
       "      <td>NaN</td>\n",
       "      <td>NaN</td>\n",
       "      <td>NaN</td>\n",
       "      <td>NaN</td>\n",
       "      <td>NaN</td>\n",
       "      <td>NaN</td>\n",
       "      <td>NaN</td>\n",
       "      <td>0</td>\n",
       "      <td>NaN</td>\n",
       "    </tr>\n",
       "    <tr>\n",
       "      <td>15419</td>\n",
       "      <td>9800</td>\n",
       "      <td>7</td>\n",
       "      <td>1</td>\n",
       "      <td>98000701</td>\n",
       "      <td>1</td>\n",
       "      <td>NaN</td>\n",
       "      <td>2686.353997</td>\n",
       "      <td>0.808438</td>\n",
       "      <td>2676.190322</td>\n",
       "      <td>0.805379</td>\n",
       "      <td>...</td>\n",
       "      <td>NaN</td>\n",
       "      <td>NaN</td>\n",
       "      <td>NaN</td>\n",
       "      <td>NaN</td>\n",
       "      <td>NaN</td>\n",
       "      <td>NaN</td>\n",
       "      <td>868.0</td>\n",
       "      <td>NaN</td>\n",
       "      <td>0</td>\n",
       "      <td>NaN</td>\n",
       "    </tr>\n",
       "    <tr>\n",
       "      <td>15420</td>\n",
       "      <td>9800</td>\n",
       "      <td>7</td>\n",
       "      <td>1</td>\n",
       "      <td>98000701</td>\n",
       "      <td>1</td>\n",
       "      <td>NaN</td>\n",
       "      <td>841.651153</td>\n",
       "      <td>0.253288</td>\n",
       "      <td>841.651153</td>\n",
       "      <td>0.253288</td>\n",
       "      <td>...</td>\n",
       "      <td>NaN</td>\n",
       "      <td>NaN</td>\n",
       "      <td>NaN</td>\n",
       "      <td>NaN</td>\n",
       "      <td>NaN</td>\n",
       "      <td>NaN</td>\n",
       "      <td>518.0</td>\n",
       "      <td>NaN</td>\n",
       "      <td>0</td>\n",
       "      <td>NaN</td>\n",
       "    </tr>\n",
       "    <tr>\n",
       "      <td>15421</td>\n",
       "      <td>9800</td>\n",
       "      <td>7</td>\n",
       "      <td>1</td>\n",
       "      <td>98000701</td>\n",
       "      <td>1</td>\n",
       "      <td>NaN</td>\n",
       "      <td>643.650245</td>\n",
       "      <td>0.193702</td>\n",
       "      <td>643.650245</td>\n",
       "      <td>0.193702</td>\n",
       "      <td>...</td>\n",
       "      <td>NaN</td>\n",
       "      <td>NaN</td>\n",
       "      <td>NaN</td>\n",
       "      <td>NaN</td>\n",
       "      <td>NaN</td>\n",
       "      <td>NaN</td>\n",
       "      <td>NaN</td>\n",
       "      <td>NaN</td>\n",
       "      <td>0</td>\n",
       "      <td>NaN</td>\n",
       "    </tr>\n",
       "  </tbody>\n",
       "</table>\n",
       "<p>15422 rows × 1191 columns</p>\n",
       "</div>"
      ],
      "text/plain": [
       "       h12_id  h12_ind  h12_sn  h12_merkey  h_new  h12_cobf      p12_wgl  \\\n",
       "0           1        1       1       10101      0       NaN   953.482054   \n",
       "1           2        1       1       20101      0       NaN  1238.891352   \n",
       "2           3        1       1       30101      0       NaN  1282.051947   \n",
       "3           4        1       1       40101      0       NaN  1066.327201   \n",
       "4           4        1       1       40101      0       NaN  1390.617192   \n",
       "...       ...      ...     ...         ...    ...       ...          ...   \n",
       "15417    9800        7       1    98000701      1       NaN   735.488155   \n",
       "15418    9800        7       1    98000701      1       NaN   898.395613   \n",
       "15419    9800        7       1    98000701      1       NaN  2686.353997   \n",
       "15420    9800        7       1    98000701      1       NaN   841.651153   \n",
       "15421    9800        7       1    98000701      1       NaN   643.650245   \n",
       "\n",
       "        p12_wsl      p12_wgc   p12_wsc  ...  da12_326  da12_327  da12_328  \\\n",
       "0      0.286943   948.140524  0.285336  ...       NaN       NaN       NaN   \n",
       "1      0.372835  1238.891352  0.372835  ...       NaN       NaN       NaN   \n",
       "2      0.385824  1282.051947  0.385824  ...       NaN       NaN       NaN   \n",
       "3      0.320903  1066.327201  0.320903  ...       NaN       NaN       NaN   \n",
       "4      0.418496  1382.826774  0.416151  ...       NaN       NaN       NaN   \n",
       "...         ...          ...       ...  ...       ...       ...       ...   \n",
       "15417  0.221339   735.488155  0.221339  ...       NaN       NaN       NaN   \n",
       "15418  0.270365   898.395613  0.270365  ...       NaN       NaN       NaN   \n",
       "15419  0.808438  2676.190322  0.805379  ...       NaN       NaN       NaN   \n",
       "15420  0.253288   841.651153  0.253288  ...       NaN       NaN       NaN   \n",
       "15421  0.193702   643.650245  0.193702  ...       NaN       NaN       NaN   \n",
       "\n",
       "       da12_6aq14  da12_6aq15  h12_pers_income1  h12_pers_income2  \\\n",
       "0             NaN         NaN               NaN               NaN   \n",
       "1             NaN         NaN               NaN               NaN   \n",
       "2             NaN         NaN               NaN               NaN   \n",
       "3             NaN         NaN               NaN            3418.0   \n",
       "4             NaN         NaN               NaN               NaN   \n",
       "...           ...         ...               ...               ...   \n",
       "15417         NaN         NaN               NaN             979.0   \n",
       "15418         NaN         NaN               NaN               NaN   \n",
       "15419         NaN         NaN               NaN             868.0   \n",
       "15420         NaN         NaN               NaN             518.0   \n",
       "15421         NaN         NaN               NaN               NaN   \n",
       "\n",
       "       h12_pers_income3  h12_pers_income4  h12_pers_income5  \n",
       "0                   NaN                 0               NaN  \n",
       "1                   NaN                 0               NaN  \n",
       "2                   NaN                 0               NaN  \n",
       "3                   NaN                 0               NaN  \n",
       "4                   NaN                 0               NaN  \n",
       "...                 ...               ...               ...  \n",
       "15417               NaN                 0               NaN  \n",
       "15418               NaN                 0               NaN  \n",
       "15419               NaN                 0               NaN  \n",
       "15420               NaN                 0               NaN  \n",
       "15421               NaN                 0               NaN  \n",
       "\n",
       "[15422 rows x 1191 columns]"
      ]
     },
     "execution_count": 4,
     "metadata": {},
     "output_type": "execute_result"
    }
   ],
   "source": [
    "# 데이터프레임 복제\n",
    "cp=df.copy()\n",
    "cp"
   ]
  },
  {
   "cell_type": "code",
   "execution_count": 5,
   "metadata": {},
   "outputs": [
    {
     "data": {
      "text/html": [
       "<div>\n",
       "<style scoped>\n",
       "    .dataframe tbody tr th:only-of-type {\n",
       "        vertical-align: middle;\n",
       "    }\n",
       "\n",
       "    .dataframe tbody tr th {\n",
       "        vertical-align: top;\n",
       "    }\n",
       "\n",
       "    .dataframe thead th {\n",
       "        text-align: right;\n",
       "    }\n",
       "</style>\n",
       "<table border=\"1\" class=\"dataframe\">\n",
       "  <thead>\n",
       "    <tr style=\"text-align: right;\">\n",
       "      <th></th>\n",
       "      <th>h12_g3</th>\n",
       "      <th>h12_g4</th>\n",
       "      <th>h12_g10</th>\n",
       "      <th>h12_g11</th>\n",
       "      <th>h12_eco9</th>\n",
       "      <th>p1202_8aq1</th>\n",
       "      <th>h12_reg7</th>\n",
       "    </tr>\n",
       "  </thead>\n",
       "  <tbody>\n",
       "    <tr>\n",
       "      <td>0</td>\n",
       "      <td>2</td>\n",
       "      <td>1936</td>\n",
       "      <td>2</td>\n",
       "      <td>2</td>\n",
       "      <td>NaN</td>\n",
       "      <td>NaN</td>\n",
       "      <td>1</td>\n",
       "    </tr>\n",
       "    <tr>\n",
       "      <td>1</td>\n",
       "      <td>2</td>\n",
       "      <td>1945</td>\n",
       "      <td>2</td>\n",
       "      <td>2</td>\n",
       "      <td>NaN</td>\n",
       "      <td>NaN</td>\n",
       "      <td>1</td>\n",
       "    </tr>\n",
       "    <tr>\n",
       "      <td>2</td>\n",
       "      <td>1</td>\n",
       "      <td>1948</td>\n",
       "      <td>2</td>\n",
       "      <td>2</td>\n",
       "      <td>NaN</td>\n",
       "      <td>NaN</td>\n",
       "      <td>1</td>\n",
       "    </tr>\n",
       "    <tr>\n",
       "      <td>3</td>\n",
       "      <td>1</td>\n",
       "      <td>1942</td>\n",
       "      <td>3</td>\n",
       "      <td>1</td>\n",
       "      <td>762.0</td>\n",
       "      <td>108.9</td>\n",
       "      <td>1</td>\n",
       "    </tr>\n",
       "    <tr>\n",
       "      <td>4</td>\n",
       "      <td>2</td>\n",
       "      <td>1923</td>\n",
       "      <td>2</td>\n",
       "      <td>1</td>\n",
       "      <td>NaN</td>\n",
       "      <td>NaN</td>\n",
       "      <td>1</td>\n",
       "    </tr>\n",
       "    <tr>\n",
       "      <td>...</td>\n",
       "      <td>...</td>\n",
       "      <td>...</td>\n",
       "      <td>...</td>\n",
       "      <td>...</td>\n",
       "      <td>...</td>\n",
       "      <td>...</td>\n",
       "      <td>...</td>\n",
       "    </tr>\n",
       "    <tr>\n",
       "      <td>15417</td>\n",
       "      <td>2</td>\n",
       "      <td>1967</td>\n",
       "      <td>1</td>\n",
       "      <td>1</td>\n",
       "      <td>952.0</td>\n",
       "      <td>NaN</td>\n",
       "      <td>5</td>\n",
       "    </tr>\n",
       "    <tr>\n",
       "      <td>15418</td>\n",
       "      <td>2</td>\n",
       "      <td>1992</td>\n",
       "      <td>5</td>\n",
       "      <td>1</td>\n",
       "      <td>NaN</td>\n",
       "      <td>NaN</td>\n",
       "      <td>5</td>\n",
       "    </tr>\n",
       "    <tr>\n",
       "      <td>15419</td>\n",
       "      <td>1</td>\n",
       "      <td>1995</td>\n",
       "      <td>5</td>\n",
       "      <td>1</td>\n",
       "      <td>521.0</td>\n",
       "      <td>72.0</td>\n",
       "      <td>5</td>\n",
       "    </tr>\n",
       "    <tr>\n",
       "      <td>15420</td>\n",
       "      <td>2</td>\n",
       "      <td>1998</td>\n",
       "      <td>5</td>\n",
       "      <td>1</td>\n",
       "      <td>432.0</td>\n",
       "      <td>NaN</td>\n",
       "      <td>5</td>\n",
       "    </tr>\n",
       "    <tr>\n",
       "      <td>15421</td>\n",
       "      <td>1</td>\n",
       "      <td>2001</td>\n",
       "      <td>0</td>\n",
       "      <td>1</td>\n",
       "      <td>NaN</td>\n",
       "      <td>NaN</td>\n",
       "      <td>5</td>\n",
       "    </tr>\n",
       "  </tbody>\n",
       "</table>\n",
       "<p>15422 rows × 7 columns</p>\n",
       "</div>"
      ],
      "text/plain": [
       "       h12_g3  h12_g4  h12_g10  h12_g11  h12_eco9  p1202_8aq1  h12_reg7\n",
       "0           2    1936        2        2       NaN         NaN         1\n",
       "1           2    1945        2        2       NaN         NaN         1\n",
       "2           1    1948        2        2       NaN         NaN         1\n",
       "3           1    1942        3        1     762.0       108.9         1\n",
       "4           2    1923        2        1       NaN         NaN         1\n",
       "...       ...     ...      ...      ...       ...         ...       ...\n",
       "15417       2    1967        1        1     952.0         NaN         5\n",
       "15418       2    1992        5        1       NaN         NaN         5\n",
       "15419       1    1995        5        1     521.0        72.0         5\n",
       "15420       2    1998        5        1     432.0         NaN         5\n",
       "15421       1    2001        0        1       NaN         NaN         5\n",
       "\n",
       "[15422 rows x 7 columns]"
      ]
     },
     "execution_count": 5,
     "metadata": {},
     "output_type": "execute_result"
    }
   ],
   "source": [
    "cp_ = cp.filter(['h12_g3','h12_g4','h12_g10','h12_g11','h12_eco9','p1202_8aq1','h12_reg7'])\n",
    "cp_ = DataFrame(cp_)\n",
    "cp_"
   ]
  },
  {
   "cell_type": "code",
   "execution_count": 6,
   "metadata": {},
   "outputs": [
    {
     "data": {
      "text/html": [
       "<div>\n",
       "<style scoped>\n",
       "    .dataframe tbody tr th:only-of-type {\n",
       "        vertical-align: middle;\n",
       "    }\n",
       "\n",
       "    .dataframe tbody tr th {\n",
       "        vertical-align: top;\n",
       "    }\n",
       "\n",
       "    .dataframe thead th {\n",
       "        text-align: right;\n",
       "    }\n",
       "</style>\n",
       "<table border=\"1\" class=\"dataframe\">\n",
       "  <thead>\n",
       "    <tr style=\"text-align: right;\">\n",
       "      <th></th>\n",
       "      <th>h12_g3</th>\n",
       "    </tr>\n",
       "  </thead>\n",
       "  <tbody>\n",
       "    <tr>\n",
       "      <td>0</td>\n",
       "      <td>2</td>\n",
       "    </tr>\n",
       "    <tr>\n",
       "      <td>1</td>\n",
       "      <td>2</td>\n",
       "    </tr>\n",
       "    <tr>\n",
       "      <td>2</td>\n",
       "      <td>1</td>\n",
       "    </tr>\n",
       "    <tr>\n",
       "      <td>3</td>\n",
       "      <td>1</td>\n",
       "    </tr>\n",
       "    <tr>\n",
       "      <td>4</td>\n",
       "      <td>2</td>\n",
       "    </tr>\n",
       "    <tr>\n",
       "      <td>...</td>\n",
       "      <td>...</td>\n",
       "    </tr>\n",
       "    <tr>\n",
       "      <td>15417</td>\n",
       "      <td>2</td>\n",
       "    </tr>\n",
       "    <tr>\n",
       "      <td>15418</td>\n",
       "      <td>2</td>\n",
       "    </tr>\n",
       "    <tr>\n",
       "      <td>15419</td>\n",
       "      <td>1</td>\n",
       "    </tr>\n",
       "    <tr>\n",
       "      <td>15420</td>\n",
       "      <td>2</td>\n",
       "    </tr>\n",
       "    <tr>\n",
       "      <td>15421</td>\n",
       "      <td>1</td>\n",
       "    </tr>\n",
       "  </tbody>\n",
       "</table>\n",
       "<p>15422 rows × 1 columns</p>\n",
       "</div>"
      ],
      "text/plain": [
       "       h12_g3\n",
       "0           2\n",
       "1           2\n",
       "2           1\n",
       "3           1\n",
       "4           2\n",
       "...       ...\n",
       "15417       2\n",
       "15418       2\n",
       "15419       1\n",
       "15420       2\n",
       "15421       1\n",
       "\n",
       "[15422 rows x 1 columns]"
      ]
     },
     "execution_count": 6,
     "metadata": {},
     "output_type": "execute_result"
    }
   ],
   "source": [
    "cp1 = cp_.filter(['h12_g3'])\n",
    "cp1 = DataFrame(cp1)\n",
    "cp1"
   ]
  },
  {
   "cell_type": "code",
   "execution_count": 7,
   "metadata": {},
   "outputs": [
    {
     "data": {
      "text/html": [
       "<div>\n",
       "<style scoped>\n",
       "    .dataframe tbody tr th:only-of-type {\n",
       "        vertical-align: middle;\n",
       "    }\n",
       "\n",
       "    .dataframe tbody tr th {\n",
       "        vertical-align: top;\n",
       "    }\n",
       "\n",
       "    .dataframe thead th {\n",
       "        text-align: right;\n",
       "    }\n",
       "</style>\n",
       "<table border=\"1\" class=\"dataframe\">\n",
       "  <thead>\n",
       "    <tr style=\"text-align: right;\">\n",
       "      <th></th>\n",
       "      <th>성별</th>\n",
       "    </tr>\n",
       "  </thead>\n",
       "  <tbody>\n",
       "    <tr>\n",
       "      <td>0</td>\n",
       "      <td>2</td>\n",
       "    </tr>\n",
       "    <tr>\n",
       "      <td>1</td>\n",
       "      <td>2</td>\n",
       "    </tr>\n",
       "    <tr>\n",
       "      <td>2</td>\n",
       "      <td>1</td>\n",
       "    </tr>\n",
       "    <tr>\n",
       "      <td>3</td>\n",
       "      <td>1</td>\n",
       "    </tr>\n",
       "    <tr>\n",
       "      <td>4</td>\n",
       "      <td>2</td>\n",
       "    </tr>\n",
       "    <tr>\n",
       "      <td>...</td>\n",
       "      <td>...</td>\n",
       "    </tr>\n",
       "    <tr>\n",
       "      <td>15417</td>\n",
       "      <td>2</td>\n",
       "    </tr>\n",
       "    <tr>\n",
       "      <td>15418</td>\n",
       "      <td>2</td>\n",
       "    </tr>\n",
       "    <tr>\n",
       "      <td>15419</td>\n",
       "      <td>1</td>\n",
       "    </tr>\n",
       "    <tr>\n",
       "      <td>15420</td>\n",
       "      <td>2</td>\n",
       "    </tr>\n",
       "    <tr>\n",
       "      <td>15421</td>\n",
       "      <td>1</td>\n",
       "    </tr>\n",
       "  </tbody>\n",
       "</table>\n",
       "<p>15422 rows × 1 columns</p>\n",
       "</div>"
      ],
      "text/plain": [
       "       성별\n",
       "0       2\n",
       "1       2\n",
       "2       1\n",
       "3       1\n",
       "4       2\n",
       "...    ..\n",
       "15417   2\n",
       "15418   2\n",
       "15419   1\n",
       "15420   2\n",
       "15421   1\n",
       "\n",
       "[15422 rows x 1 columns]"
      ]
     },
     "execution_count": 7,
     "metadata": {},
     "output_type": "execute_result"
    }
   ],
   "source": [
    "cp1_=cp1.rename(columns={'h12_g3':'성별'})\n",
    "cp1_"
   ]
  },
  {
   "cell_type": "code",
   "execution_count": 8,
   "metadata": {},
   "outputs": [
    {
     "data": {
      "text/plain": [
       "2    8440\n",
       "1    6982\n",
       "Name: 성별, dtype: int64"
      ]
     },
     "execution_count": 8,
     "metadata": {},
     "output_type": "execute_result"
    }
   ],
   "source": [
    "#성별의 데이터 분포 확인\n",
    "cp1_['성별'].value_counts()"
   ]
  },
  {
   "cell_type": "code",
   "execution_count": 9,
   "metadata": {},
   "outputs": [
    {
     "data": {
      "text/html": [
       "<div>\n",
       "<style scoped>\n",
       "    .dataframe tbody tr th:only-of-type {\n",
       "        vertical-align: middle;\n",
       "    }\n",
       "\n",
       "    .dataframe tbody tr th {\n",
       "        vertical-align: top;\n",
       "    }\n",
       "\n",
       "    .dataframe thead th {\n",
       "        text-align: right;\n",
       "    }\n",
       "</style>\n",
       "<table border=\"1\" class=\"dataframe\">\n",
       "  <thead>\n",
       "    <tr style=\"text-align: right;\">\n",
       "      <th></th>\n",
       "      <th>성별</th>\n",
       "    </tr>\n",
       "  </thead>\n",
       "  <tbody>\n",
       "    <tr>\n",
       "      <td>0</td>\n",
       "      <td>여자</td>\n",
       "    </tr>\n",
       "    <tr>\n",
       "      <td>1</td>\n",
       "      <td>여자</td>\n",
       "    </tr>\n",
       "    <tr>\n",
       "      <td>2</td>\n",
       "      <td>남자</td>\n",
       "    </tr>\n",
       "    <tr>\n",
       "      <td>3</td>\n",
       "      <td>남자</td>\n",
       "    </tr>\n",
       "    <tr>\n",
       "      <td>4</td>\n",
       "      <td>여자</td>\n",
       "    </tr>\n",
       "    <tr>\n",
       "      <td>...</td>\n",
       "      <td>...</td>\n",
       "    </tr>\n",
       "    <tr>\n",
       "      <td>15417</td>\n",
       "      <td>여자</td>\n",
       "    </tr>\n",
       "    <tr>\n",
       "      <td>15418</td>\n",
       "      <td>여자</td>\n",
       "    </tr>\n",
       "    <tr>\n",
       "      <td>15419</td>\n",
       "      <td>남자</td>\n",
       "    </tr>\n",
       "    <tr>\n",
       "      <td>15420</td>\n",
       "      <td>여자</td>\n",
       "    </tr>\n",
       "    <tr>\n",
       "      <td>15421</td>\n",
       "      <td>남자</td>\n",
       "    </tr>\n",
       "  </tbody>\n",
       "</table>\n",
       "<p>15422 rows × 1 columns</p>\n",
       "</div>"
      ],
      "text/plain": [
       "       성별\n",
       "0      여자\n",
       "1      여자\n",
       "2      남자\n",
       "3      남자\n",
       "4      여자\n",
       "...    ..\n",
       "15417  여자\n",
       "15418  여자\n",
       "15419  남자\n",
       "15420  여자\n",
       "15421  남자\n",
       "\n",
       "[15422 rows x 1 columns]"
      ]
     },
     "execution_count": 9,
     "metadata": {},
     "output_type": "execute_result"
    }
   ],
   "source": [
    "# 성별값을 반환\n",
    "cp1_['성별'] = numpy.where(cp1_['성별'] == 1,'남자','여자')\n",
    "cp1_"
   ]
  },
  {
   "cell_type": "code",
   "execution_count": 10,
   "metadata": {},
   "outputs": [
    {
     "data": {
      "text/html": [
       "<div>\n",
       "<style scoped>\n",
       "    .dataframe tbody tr th:only-of-type {\n",
       "        vertical-align: middle;\n",
       "    }\n",
       "\n",
       "    .dataframe tbody tr th {\n",
       "        vertical-align: top;\n",
       "    }\n",
       "\n",
       "    .dataframe thead th {\n",
       "        text-align: right;\n",
       "    }\n",
       "</style>\n",
       "<table border=\"1\" class=\"dataframe\">\n",
       "  <thead>\n",
       "    <tr style=\"text-align: right;\">\n",
       "      <th></th>\n",
       "      <th>성별</th>\n",
       "    </tr>\n",
       "  </thead>\n",
       "  <tbody>\n",
       "    <tr>\n",
       "      <td>여자</td>\n",
       "      <td>8440</td>\n",
       "    </tr>\n",
       "    <tr>\n",
       "      <td>남자</td>\n",
       "      <td>6982</td>\n",
       "    </tr>\n",
       "  </tbody>\n",
       "</table>\n",
       "</div>"
      ],
      "text/plain": [
       "      성별\n",
       "여자  8440\n",
       "남자  6982"
      ]
     },
     "execution_count": 10,
     "metadata": {},
     "output_type": "execute_result"
    }
   ],
   "source": [
    "# 변환된 값에 의한 성별 데이터 분포를 데이터프레임으로 만들기\n",
    "vcount = cp1_['성별'].value_counts()\n",
    "type(vcount)\n",
    "성별df = DataFrame(vcount)\n",
    "성별df"
   ]
  },
  {
   "cell_type": "code",
   "execution_count": 11,
   "metadata": {},
   "outputs": [
    {
     "data": {
      "text/html": [
       "<div>\n",
       "<style scoped>\n",
       "    .dataframe tbody tr th:only-of-type {\n",
       "        vertical-align: middle;\n",
       "    }\n",
       "\n",
       "    .dataframe tbody tr th {\n",
       "        vertical-align: top;\n",
       "    }\n",
       "\n",
       "    .dataframe thead th {\n",
       "        text-align: right;\n",
       "    }\n",
       "</style>\n",
       "<table border=\"1\" class=\"dataframe\">\n",
       "  <thead>\n",
       "    <tr style=\"text-align: right;\">\n",
       "      <th></th>\n",
       "      <th>명</th>\n",
       "    </tr>\n",
       "  </thead>\n",
       "  <tbody>\n",
       "    <tr>\n",
       "      <td>여자</td>\n",
       "      <td>8440</td>\n",
       "    </tr>\n",
       "    <tr>\n",
       "      <td>남자</td>\n",
       "      <td>6982</td>\n",
       "    </tr>\n",
       "  </tbody>\n",
       "</table>\n",
       "</div>"
      ],
      "text/plain": [
       "       명\n",
       "여자  8440\n",
       "남자  6982"
      ]
     },
     "execution_count": 11,
     "metadata": {},
     "output_type": "execute_result"
    }
   ],
   "source": [
    "#생성된 데이터 프레임의 컬럼이름 변경\n",
    "성별df.rename(columns={'성별':'명'}, inplace = True)\n",
    "성별df"
   ]
  },
  {
   "cell_type": "code",
   "execution_count": 12,
   "metadata": {},
   "outputs": [
    {
     "data": {
      "image/png": "[encoded data removed]",
      "text/plain": [
       "<Figure size 1440x864 with 1 Axes>"
      ]
     },
     "metadata": {
      "needs_background": "light"
     },
     "output_type": "display_data"
    }
   ],
   "source": [
    "# 한글폰트, 그래픽 크기 설정\n",
    "pyplot.rcParams[\"font.family\"] = 'Malgun Gothic'\n",
    "pyplot.rcParams[\"font.size\"] = 16\n",
    "pyplot.rcParams[\"figure.figsize\"] = (20,12)\n",
    "\n",
    "\n",
    "성별df.plot.bar(rot=0)\n",
    "pyplot.grid()\n",
    "pyplot.legend()\n",
    "pyplot.title(\"조사대상들에 대한 성별 분포\")\n",
    "pyplot.xlabel(\"성별\")\n",
    "pyplot.ylabel(\"명\")\n",
    "\n",
    "# 그래프에 텍스트 표시하기\n",
    "for i, v in enumerate(list(성별df['명'])):\n",
    "    txt = \"%d명\" % v\n",
    "    pyplot.text(i,v,txt, fontsize=14, color ='#000099',horizontalalignment='center',verticalalignment='bottom')\n",
    "pyplot.show()"
   ]
  },
  {
   "cell_type": "markdown",
   "metadata": {},
   "source": [
    "분석예제 2) 성별에 따른 월급 차이 분석"
   ]
  },
  {
   "cell_type": "code",
   "execution_count": 13,
   "metadata": {},
   "outputs": [
    {
     "data": {
      "text/html": [
       "<div>\n",
       "<style scoped>\n",
       "    .dataframe tbody tr th:only-of-type {\n",
       "        vertical-align: middle;\n",
       "    }\n",
       "\n",
       "    .dataframe tbody tr th {\n",
       "        vertical-align: top;\n",
       "    }\n",
       "\n",
       "    .dataframe thead th {\n",
       "        text-align: right;\n",
       "    }\n",
       "</style>\n",
       "<table border=\"1\" class=\"dataframe\">\n",
       "  <thead>\n",
       "    <tr style=\"text-align: right;\">\n",
       "      <th></th>\n",
       "      <th>h12_g3</th>\n",
       "      <th>p1202_8aq1</th>\n",
       "    </tr>\n",
       "  </thead>\n",
       "  <tbody>\n",
       "    <tr>\n",
       "      <td>0</td>\n",
       "      <td>2</td>\n",
       "      <td>NaN</td>\n",
       "    </tr>\n",
       "    <tr>\n",
       "      <td>1</td>\n",
       "      <td>2</td>\n",
       "      <td>NaN</td>\n",
       "    </tr>\n",
       "    <tr>\n",
       "      <td>2</td>\n",
       "      <td>1</td>\n",
       "      <td>NaN</td>\n",
       "    </tr>\n",
       "    <tr>\n",
       "      <td>3</td>\n",
       "      <td>1</td>\n",
       "      <td>108.9</td>\n",
       "    </tr>\n",
       "    <tr>\n",
       "      <td>4</td>\n",
       "      <td>2</td>\n",
       "      <td>NaN</td>\n",
       "    </tr>\n",
       "    <tr>\n",
       "      <td>...</td>\n",
       "      <td>...</td>\n",
       "      <td>...</td>\n",
       "    </tr>\n",
       "    <tr>\n",
       "      <td>15417</td>\n",
       "      <td>2</td>\n",
       "      <td>NaN</td>\n",
       "    </tr>\n",
       "    <tr>\n",
       "      <td>15418</td>\n",
       "      <td>2</td>\n",
       "      <td>NaN</td>\n",
       "    </tr>\n",
       "    <tr>\n",
       "      <td>15419</td>\n",
       "      <td>1</td>\n",
       "      <td>72.0</td>\n",
       "    </tr>\n",
       "    <tr>\n",
       "      <td>15420</td>\n",
       "      <td>2</td>\n",
       "      <td>NaN</td>\n",
       "    </tr>\n",
       "    <tr>\n",
       "      <td>15421</td>\n",
       "      <td>1</td>\n",
       "      <td>NaN</td>\n",
       "    </tr>\n",
       "  </tbody>\n",
       "</table>\n",
       "<p>15422 rows × 2 columns</p>\n",
       "</div>"
      ],
      "text/plain": [
       "       h12_g3  p1202_8aq1\n",
       "0           2         NaN\n",
       "1           2         NaN\n",
       "2           1         NaN\n",
       "3           1       108.9\n",
       "4           2         NaN\n",
       "...       ...         ...\n",
       "15417       2         NaN\n",
       "15418       2         NaN\n",
       "15419       1        72.0\n",
       "15420       2         NaN\n",
       "15421       1         NaN\n",
       "\n",
       "[15422 rows x 2 columns]"
      ]
     },
     "execution_count": 13,
     "metadata": {},
     "output_type": "execute_result"
    }
   ],
   "source": [
    "cp2 = cp_.filter(['h12_g3','p1202_8aq1'])\n",
    "cp2 = DataFrame(cp2)\n",
    "cp2"
   ]
  },
  {
   "cell_type": "code",
   "execution_count": 14,
   "metadata": {},
   "outputs": [
    {
     "data": {
      "text/html": [
       "<div>\n",
       "<style scoped>\n",
       "    .dataframe tbody tr th:only-of-type {\n",
       "        vertical-align: middle;\n",
       "    }\n",
       "\n",
       "    .dataframe tbody tr th {\n",
       "        vertical-align: top;\n",
       "    }\n",
       "\n",
       "    .dataframe thead th {\n",
       "        text-align: right;\n",
       "    }\n",
       "</style>\n",
       "<table border=\"1\" class=\"dataframe\">\n",
       "  <thead>\n",
       "    <tr style=\"text-align: right;\">\n",
       "      <th></th>\n",
       "      <th>h12_g3</th>\n",
       "      <th>p1202_8aq1</th>\n",
       "    </tr>\n",
       "  </thead>\n",
       "  <tbody>\n",
       "    <tr>\n",
       "      <td>0</td>\n",
       "      <td>False</td>\n",
       "      <td>True</td>\n",
       "    </tr>\n",
       "    <tr>\n",
       "      <td>1</td>\n",
       "      <td>False</td>\n",
       "      <td>True</td>\n",
       "    </tr>\n",
       "    <tr>\n",
       "      <td>2</td>\n",
       "      <td>False</td>\n",
       "      <td>True</td>\n",
       "    </tr>\n",
       "    <tr>\n",
       "      <td>3</td>\n",
       "      <td>False</td>\n",
       "      <td>False</td>\n",
       "    </tr>\n",
       "    <tr>\n",
       "      <td>4</td>\n",
       "      <td>False</td>\n",
       "      <td>True</td>\n",
       "    </tr>\n",
       "    <tr>\n",
       "      <td>...</td>\n",
       "      <td>...</td>\n",
       "      <td>...</td>\n",
       "    </tr>\n",
       "    <tr>\n",
       "      <td>15417</td>\n",
       "      <td>False</td>\n",
       "      <td>True</td>\n",
       "    </tr>\n",
       "    <tr>\n",
       "      <td>15418</td>\n",
       "      <td>False</td>\n",
       "      <td>True</td>\n",
       "    </tr>\n",
       "    <tr>\n",
       "      <td>15419</td>\n",
       "      <td>False</td>\n",
       "      <td>False</td>\n",
       "    </tr>\n",
       "    <tr>\n",
       "      <td>15420</td>\n",
       "      <td>False</td>\n",
       "      <td>True</td>\n",
       "    </tr>\n",
       "    <tr>\n",
       "      <td>15421</td>\n",
       "      <td>False</td>\n",
       "      <td>True</td>\n",
       "    </tr>\n",
       "  </tbody>\n",
       "</table>\n",
       "<p>15422 rows × 2 columns</p>\n",
       "</div>"
      ],
      "text/plain": [
       "       h12_g3  p1202_8aq1\n",
       "0       False        True\n",
       "1       False        True\n",
       "2       False        True\n",
       "3       False       False\n",
       "4       False        True\n",
       "...       ...         ...\n",
       "15417   False        True\n",
       "15418   False        True\n",
       "15419   False       False\n",
       "15420   False        True\n",
       "15421   False        True\n",
       "\n",
       "[15422 rows x 2 columns]"
      ]
     },
     "execution_count": 14,
     "metadata": {},
     "output_type": "execute_result"
    }
   ],
   "source": [
    "cp2_결측치여부 = cp2.isnull()\n",
    "cp2_결측치여부"
   ]
  },
  {
   "cell_type": "code",
   "execution_count": 15,
   "metadata": {},
   "outputs": [
    {
     "data": {
      "text/plain": [
       "SimpleImputer(add_indicator=False, copy=True, fill_value=None,\n",
       "              missing_values=nan, strategy='mean', verbose=0)"
      ]
     },
     "execution_count": 15,
     "metadata": {},
     "output_type": "execute_result"
    }
   ],
   "source": [
    "# 각 열단위로 평균(strategy='mean')을 결측치(missing_values)에 지정\n",
    "from sklearn.impute import SimpleImputer #sklearn은 tensorflow 보다 수학공식 일일히 안써도 되서 좋다. 그러나 속도가 tensorflow보다 느리다\n",
    "정제규칙=SimpleImputer(missing_values=numpy.nan, strategy='mean')\n",
    "정제규칙"
   ]
  },
  {
   "cell_type": "code",
   "execution_count": 16,
   "metadata": {
    "jupyter": {
     "source_hidden": true
    }
   },
   "outputs": [
    {
     "name": "stdout",
     "output_type": "stream",
     "text": [
      "<class 'numpy.ndarray'>\n"
     ]
    },
    {
     "data": {
      "text/plain": [
       "array([[  2.        , 257.95007322],\n",
       "       [  2.        , 257.95007322],\n",
       "       [  1.        , 257.95007322],\n",
       "       ...,\n",
       "       [  1.        ,  72.        ],\n",
       "       [  2.        , 257.95007322],\n",
       "       [  1.        , 257.95007322]])"
      ]
     },
     "execution_count": 16,
     "metadata": {},
     "output_type": "execute_result"
    }
   ],
   "source": [
    "정제규칙_적용결과 = 정제규칙.fit_transform(cp2.values)\n",
    "print(type(정제규칙_적용결과))\n",
    "정제규칙_적용결과"
   ]
  },
  {
   "cell_type": "code",
   "execution_count": 17,
   "metadata": {
    "jupyter": {
     "source_hidden": true
    }
   },
   "outputs": [
    {
     "data": {
      "text/html": [
       "<div>\n",
       "<style scoped>\n",
       "    .dataframe tbody tr th:only-of-type {\n",
       "        vertical-align: middle;\n",
       "    }\n",
       "\n",
       "    .dataframe tbody tr th {\n",
       "        vertical-align: top;\n",
       "    }\n",
       "\n",
       "    .dataframe thead th {\n",
       "        text-align: right;\n",
       "    }\n",
       "</style>\n",
       "<table border=\"1\" class=\"dataframe\">\n",
       "  <thead>\n",
       "    <tr style=\"text-align: right;\">\n",
       "      <th></th>\n",
       "      <th>h12_g3</th>\n",
       "      <th>p1202_8aq1</th>\n",
       "    </tr>\n",
       "  </thead>\n",
       "  <tbody>\n",
       "    <tr>\n",
       "      <td>0</td>\n",
       "      <td>2.0</td>\n",
       "      <td>257.950073</td>\n",
       "    </tr>\n",
       "    <tr>\n",
       "      <td>1</td>\n",
       "      <td>2.0</td>\n",
       "      <td>257.950073</td>\n",
       "    </tr>\n",
       "    <tr>\n",
       "      <td>2</td>\n",
       "      <td>1.0</td>\n",
       "      <td>257.950073</td>\n",
       "    </tr>\n",
       "    <tr>\n",
       "      <td>3</td>\n",
       "      <td>1.0</td>\n",
       "      <td>108.900000</td>\n",
       "    </tr>\n",
       "    <tr>\n",
       "      <td>4</td>\n",
       "      <td>2.0</td>\n",
       "      <td>257.950073</td>\n",
       "    </tr>\n",
       "    <tr>\n",
       "      <td>...</td>\n",
       "      <td>...</td>\n",
       "      <td>...</td>\n",
       "    </tr>\n",
       "    <tr>\n",
       "      <td>15417</td>\n",
       "      <td>2.0</td>\n",
       "      <td>257.950073</td>\n",
       "    </tr>\n",
       "    <tr>\n",
       "      <td>15418</td>\n",
       "      <td>2.0</td>\n",
       "      <td>257.950073</td>\n",
       "    </tr>\n",
       "    <tr>\n",
       "      <td>15419</td>\n",
       "      <td>1.0</td>\n",
       "      <td>72.000000</td>\n",
       "    </tr>\n",
       "    <tr>\n",
       "      <td>15420</td>\n",
       "      <td>2.0</td>\n",
       "      <td>257.950073</td>\n",
       "    </tr>\n",
       "    <tr>\n",
       "      <td>15421</td>\n",
       "      <td>1.0</td>\n",
       "      <td>257.950073</td>\n",
       "    </tr>\n",
       "  </tbody>\n",
       "</table>\n",
       "<p>15422 rows × 2 columns</p>\n",
       "</div>"
      ],
      "text/plain": [
       "       h12_g3  p1202_8aq1\n",
       "0         2.0  257.950073\n",
       "1         2.0  257.950073\n",
       "2         1.0  257.950073\n",
       "3         1.0  108.900000\n",
       "4         2.0  257.950073\n",
       "...       ...         ...\n",
       "15417     2.0  257.950073\n",
       "15418     2.0  257.950073\n",
       "15419     1.0   72.000000\n",
       "15420     2.0  257.950073\n",
       "15421     1.0  257.950073\n",
       "\n",
       "[15422 rows x 2 columns]"
      ]
     },
     "execution_count": 17,
     "metadata": {},
     "output_type": "execute_result"
    }
   ],
   "source": [
    "cp2_정제결과 = DataFrame(정제규칙_적용결과,index=cp2.index, columns=cp2.columns)\n",
    "cp2_정제결과"
   ]
  },
  {
   "cell_type": "code",
   "execution_count": null,
   "metadata": {
    "jupyter": {
     "source_hidden": true
    }
   },
   "outputs": [],
   "source": []
  },
  {
   "cell_type": "code",
   "execution_count": 18,
   "metadata": {},
   "outputs": [
    {
     "ename": "SyntaxError",
     "evalue": "invalid syntax (<ipython-input-18-5879ecb9fa8f>, line 1)",
     "output_type": "error",
     "traceback": [
      "\u001b[1;36m  File \u001b[1;32m\"<ipython-input-18-5879ecb9fa8f>\"\u001b[1;36m, line \u001b[1;32m1\u001b[0m\n\u001b[1;33m    분석예제 3) 나이에 따른 월급 평균의 변화\u001b[0m\n\u001b[1;37m         ^\u001b[0m\n\u001b[1;31mSyntaxError\u001b[0m\u001b[1;31m:\u001b[0m invalid syntax\n"
     ]
    }
   ],
   "source": [
    "분석예제 3) 나이에 따른 월급 평균의 변화"
   ]
  },
  {
   "cell_type": "code",
   "execution_count": null,
   "metadata": {
    "jupyter": {
     "source_hidden": true
    }
   },
   "outputs": [],
   "source": [
    "cp3 = cp_.filter(['h12_g3','h12_g4','p1202_8aq1'])\n",
    "cp3 = DataFrame(cp3)\n",
    "cp3"
   ]
  },
  {
   "cell_type": "code",
   "execution_count": null,
   "metadata": {
    "jupyter": {
     "source_hidden": true
    }
   },
   "outputs": [],
   "source": [
    "cp3=cp3.rename(\n",
    "    columns={'h12_g3':'성별','h12_g4':'나이','p1202_8aq1':'월급'})\n",
    "cp3"
   ]
  },
  {
   "cell_type": "code",
   "execution_count": null,
   "metadata": {
    "jupyter": {
     "source_hidden": true
    }
   },
   "outputs": [],
   "source": [
    "cp3_결측치여부 = cp3.isnull()\n",
    "cp3_결측치여부"
   ]
  },
  {
   "cell_type": "code",
   "execution_count": null,
   "metadata": {
    "jupyter": {
     "source_hidden": true
    }
   },
   "outputs": [],
   "source": [
    "# 각 열단위로 평균(strategy='mean')을 결측치(missing_values)에 지정\n",
    "from sklearn.impute import SimpleImputer #sklearn은 tensorflow 보다 수학공식 일일히 안써도 되서 좋다. 그러나 속도가 tensorflow보다 느리다\n",
    "정제규칙=SimpleImputer(missing_values=numpy.nan, strategy='mean')\n",
    "정제규칙"
   ]
  },
  {
   "cell_type": "markdown",
   "metadata": {},
   "source": [
    "cp3_정제규칙_적용결과 = 정제규칙.fit_transform(cp3.values)\n",
    "print(type(cp3_정제규칙_적용결과))\n",
    "cp3_정제규칙_적용결과"
   ]
  },
  {
   "cell_type": "code",
   "execution_count": null,
   "metadata": {
    "jupyter": {
     "source_hidden": true
    }
   },
   "outputs": [],
   "source": [
    "cp3_정제규칙_적용결과 = 정제규칙.fit_transform(cp3.values)\n",
    "print(type(cp3_정제규칙_적용결과))\n",
    "cp3_정제규칙_적용결과"
   ]
  },
  {
   "cell_type": "markdown",
   "metadata": {},
   "source": []
  },
  {
   "cell_type": "code",
   "execution_count": null,
   "metadata": {
    "jupyter": {
     "source_hidden": true
    }
   },
   "outputs": [],
   "source": [
    "cp3_정제결과 = DataFrame(cp3_정제규칙_적용결과,index=cp3.index, columns=cp3.columns)\n",
    "cp3_정제결과"
   ]
  },
  {
   "cell_type": "code",
   "execution_count": null,
   "metadata": {
    "jupyter": {
     "source_hidden": true
    }
   },
   "outputs": [],
   "source": [
    "cp3_정제결과 = cp3_정제결과.filter(['나이','월급'])\n",
    "cp3_정제결과 = DataFrame(cp3_정제결과)\n",
    "cp3_정제결과"
   ]
  },
  {
   "cell_type": "code",
   "execution_count": null,
   "metadata": {
    "jupyter": {
     "source_hidden": true
    }
   },
   "outputs": [],
   "source": [
    "# x좌표를 의미할 리스트나 배열 생성\n",
    "xpos = numpy.arange(len(cp3_정제결과))\n",
    "xpos\n",
    "\n",
    "\n",
    "# x좌표에 적용할 텍스트의 리스트 생성\n",
    "xtext = list(cp3_정제결과.index)\n",
    "xtext\n",
    "\n",
    "\n"
   ]
  },
  {
   "cell_type": "code",
   "execution_count": null,
   "metadata": {
    "jupyter": {
     "source_hidden": true
    }
   },
   "outputs": [],
   "source": [
    "# 특정컬럼에 대해서만 시각화 하기\n",
    "cp3_정제결과.plot(color='#ff0000')\n",
    "pyplot.grid()\n",
    "pyplot.legend()\n",
    "pyplot.title(\"나이별 급여\")\n",
    "pyplot.xlabel(\"나이\")\n",
    "pyplot.ylabel(\"급여\")\n",
    "pyplot.xticks(xpos, xtext)\n",
    "pyplot.show()"
   ]
  },
  {
   "cell_type": "markdown",
   "metadata": {},
   "source": []
  },
  {
   "cell_type": "code",
   "execution_count": null,
   "metadata": {},
   "outputs": [],
   "source": [
    "분석예제 4) 연령대별 월급 평균 분포"
   ]
  },
  {
   "cell_type": "code",
   "execution_count": null,
   "metadata": {
    "jupyter": {
     "source_hidden": true
    }
   },
   "outputs": [],
   "source": []
  },
  {
   "cell_type": "code",
   "execution_count": null,
   "metadata": {
    "jupyter": {
     "source_hidden": true
    }
   },
   "outputs": [],
   "source": []
  },
  {
   "cell_type": "code",
   "execution_count": null,
   "metadata": {
    "jupyter": {
     "source_hidden": true
    }
   },
   "outputs": [],
   "source": []
  },
  {
   "cell_type": "code",
   "execution_count": null,
   "metadata": {
    "jupyter": {
     "source_hidden": true
    }
   },
   "outputs": [],
   "source": []
  },
  {
   "cell_type": "code",
   "execution_count": null,
   "metadata": {
    "jupyter": {
     "source_hidden": true
    }
   },
   "outputs": [],
   "source": []
  },
  {
   "cell_type": "markdown",
   "metadata": {},
   "source": []
  },
  {
   "cell_type": "code",
   "execution_count": null,
   "metadata": {
    "jupyter": {
     "source_hidden": true
    }
   },
   "outputs": [],
   "source": []
  },
  {
   "cell_type": "code",
   "execution_count": null,
   "metadata": {
    "jupyter": {
     "source_hidden": true
    }
   },
   "outputs": [],
   "source": []
  },
  {
   "cell_type": "code",
   "execution_count": null,
   "metadata": {
    "jupyter": {
     "source_hidden": true
    }
   },
   "outputs": [],
   "source": []
  },
  {
   "cell_type": "code",
   "execution_count": null,
   "metadata": {
    "jupyter": {
     "source_hidden": true
    }
   },
   "outputs": [],
   "source": []
  },
  {
   "cell_type": "code",
   "execution_count": null,
   "metadata": {
    "jupyter": {
     "source_hidden": true
    }
   },
   "outputs": [],
   "source": []
  },
  {
   "cell_type": "code",
   "execution_count": null,
   "metadata": {
    "jupyter": {
     "source_hidden": true
    }
   },
   "outputs": [],
   "source": []
  },
  {
   "cell_type": "code",
   "execution_count": null,
   "metadata": {},
   "outputs": [],
   "source": [
    "분석예제 5) 연령대와 성별에 따른 월급 평균"
   ]
  },
  {
   "cell_type": "code",
   "execution_count": null,
   "metadata": {},
   "outputs": [],
   "source": [
    "분석예제 6) 지역별 연령대 비율"
   ]
  },
  {
   "cell_type": "code",
   "execution_count": null,
   "metadata": {
    "jupyter": {
     "source_hidden": true
    }
   },
   "outputs": [],
   "source": []
  },
  {
   "cell_type": "code",
   "execution_count": null,
   "metadata": {
    "jupyter": {
     "source_hidden": true
    }
   },
   "outputs": [],
   "source": []
  },
  {
   "cell_type": "code",
   "execution_count": null,
   "metadata": {
    "jupyter": {
     "source_hidden": true
    }
   },
   "outputs": [],
   "source": []
  },
  {
   "cell_type": "markdown",
   "metadata": {},
   "source": [
    "# <정답>"
   ]
  },
  {
   "cell_type": "markdown",
   "metadata": {},
   "source": [
    "## 분석예제 1)조사대상들에 대한 성별 분포"
   ]
  },
  {
   "cell_type": "code",
   "execution_count": null,
   "metadata": {},
   "outputs": [],
   "source": [
    "# 성별 컬럼만 추출\n",
    "df_filter = df.filter(['h12_g3'])\n",
    "df_filter"
   ]
  },
  {
   "cell_type": "code",
   "execution_count": null,
   "metadata": {},
   "outputs": [],
   "source": [
    "# 성별 변수의 이름을 인식하기 쉬운 값으로 변경하기\n",
    "df_filter.rename(columns={'h12_g3':'성별'}, inplace=True)\n",
    "df_filter"
   ]
  },
  {
   "cell_type": "code",
   "execution_count": null,
   "metadata": {},
   "outputs": [],
   "source": [
    "#성별의 데이터 타입 확인\n",
    "df_filter['성별']"
   ]
  },
  {
   "cell_type": "code",
   "execution_count": null,
   "metadata": {},
   "outputs": [],
   "source": [
    "#결측치 확인\n",
    "df_filter.isna().sum()"
   ]
  },
  {
   "cell_type": "code",
   "execution_count": null,
   "metadata": {},
   "outputs": [],
   "source": [
    "#성별의 데이터 분포 확인\n",
    "df_filter['성별'].value_counts()"
   ]
  },
  {
   "cell_type": "code",
   "execution_count": null,
   "metadata": {},
   "outputs": [],
   "source": [
    "# 성별값을 반환\n",
    "df_filter['성별'] = numpy.where(df_filter['성별'] == 1,'남자','여자')\n",
    "df_filter"
   ]
  },
  {
   "cell_type": "code",
   "execution_count": null,
   "metadata": {},
   "outputs": [],
   "source": [
    "# 변환된 값에 의한 성별 데이터 분포를 데이터프레임으로 만들기\n",
    "vcount = df_filter['성별'].value_counts()\n",
    "type(vcount)\n",
    "성별df = DataFrame(vcount)\n",
    "성별df"
   ]
  },
  {
   "cell_type": "code",
   "execution_count": null,
   "metadata": {},
   "outputs": [],
   "source": [
    "#생성된 데이터 프레임의 컬럼이름 변경\n",
    "성별df.rename(columns={'성별':'명'}, inplace = True)\n",
    "성별df"
   ]
  },
  {
   "cell_type": "code",
   "execution_count": null,
   "metadata": {},
   "outputs": [],
   "source": [
    "# 비율순으로 정렬\n",
    "성별df.sort_values('명',inplace=True)\n",
    "성별df"
   ]
  },
  {
   "cell_type": "code",
   "execution_count": null,
   "metadata": {},
   "outputs": [],
   "source": [
    "# 한글폰트, 그래픽 크기 설정\n",
    "pyplot.rcParams[\"font.family\"] = 'Malgun Gothic'\n",
    "pyplot.rcParams[\"font.size\"] = 16\n",
    "pyplot.rcParams[\"figure.figsize\"] = (20,12)\n",
    "\n",
    "\n",
    "성별df.plot.bar(rot=0)\n",
    "pyplot.grid()\n",
    "pyplot.legend()\n",
    "pyplot.title(\"조사대상들에 대한 성별 분포\")\n",
    "pyplot.xlabel(\"성별\")\n",
    "pyplot.ylabel(\"명\")\n",
    "\n",
    "# 그래프에 텍스트 표시하기\n",
    "for i, v in enumerate(list(성별df['명'])):\n",
    "    txt = \"%d명\" % v\n",
    "    pyplot.text(i,v,txt, fontsize=14, color ='#000099',horizontalalignment='center',verticalalignment='bottom')\n",
    "pyplot.show()"
   ]
  },
  {
   "cell_type": "markdown",
   "metadata": {},
   "source": [
    "## 분석예제 2)성별에 따른 평균 월급 차이 분석\n",
    "\n",
    "1단계-변수 검토 및 전처리"
   ]
  },
  {
   "cell_type": "code",
   "execution_count": null,
   "metadata": {},
   "outputs": [],
   "source": [
    "# 성별과 월급 데이터만 추출\n",
    "df_filter2 = df.filter(['h12_g3','p1202_8aq1'])\n",
    "df_filter2"
   ]
  },
  {
   "cell_type": "code",
   "execution_count": null,
   "metadata": {},
   "outputs": [],
   "source": [
    "# 변수 이름 변경하기\n",
    "df_filter2.rename(columns={'h12_g3':'성별','p1202_8aq1':'월급'}, inplace=True)\n",
    "df_filter2"
   ]
  },
  {
   "cell_type": "code",
   "execution_count": null,
   "metadata": {},
   "outputs": [],
   "source": [
    "# 성별 항목 이름 부여\n",
    "df_filter2['성별'] = numpy.where(df_filter2['성별'] == 1, '남자','여자')\n",
    "df_filter2"
   ]
  },
  {
   "cell_type": "markdown",
   "metadata": {},
   "source": [
    "2단계-데이터분포 확인\n",
    "- 성별과 같은 문자열(charator) 데이터들은 value_counts()함수를 사용하여 데이터 빈도를 확인\n",
    "- 월급과 같이 숫자 형식의 연속적 데이터는 describe() 함수로 요약 내용을 확인해야 한다"
   ]
  },
  {
   "cell_type": "code",
   "execution_count": null,
   "metadata": {},
   "outputs": [],
   "source": [
    "df_filter2['성별'].value_counts()"
   ]
  },
  {
   "cell_type": "code",
   "execution_count": null,
   "metadata": {},
   "outputs": [],
   "source": [
    "df_filter2['월급'].describe()"
   ]
  },
  {
   "cell_type": "markdown",
   "metadata": {},
   "source": [
    "3단계-데이터정제\n",
    "\n",
    "- 코드표에 의하면 월급 데이터의 경우 1~9998 사이의 값을 갖는다고 되어 있다\n",
    "- 모름/무응답의 경우 9999로 저장되어 0인 경우는 데이터가 없는 상태이므로 이 두 상태를 이상치로 봐야 한다"
   ]
  },
  {
   "cell_type": "code",
   "execution_count": null,
   "metadata": {},
   "outputs": [],
   "source": [
    "# 이상치 결측 처리\n",
    "# ---> 0, 9999 둘 중 하나인 값을 결측치로 변경\n",
    "df_filter2['월급'] = numpy.where(((df_filter2['월급'] < 1) | (df_filter2['월급'] > 9998)), numpy.nan, df_filter2['월급'])\n",
    "df_filter2"
   ]
  },
  {
   "cell_type": "code",
   "execution_count": null,
   "metadata": {},
   "outputs": [],
   "source": [
    "# 결측치 확인\n",
    "df_filter2.isna().sum()"
   ]
  },
  {
   "cell_type": "code",
   "execution_count": null,
   "metadata": {},
   "outputs": [],
   "source": [
    "# 결측치가 아닌 데이터만 걸러내기\n",
    "df_tmp = df_filter2.dropna()\n",
    "df_tmp"
   ]
  },
  {
   "cell_type": "code",
   "execution_count": null,
   "metadata": {},
   "outputs": [],
   "source": [
    "# 성별로 그룹화 하여 그룹별 평균 구하기\n",
    "성별_월급_평균표 = df_tmp.groupby('성별').mean()\n",
    "성별_월급_평균표"
   ]
  },
  {
   "cell_type": "markdown",
   "metadata": {},
   "source": [
    "4단계 -시각화\n",
    "\n",
    "수치값을 모두 산정해 놓은 결과를 토대로 그래프를 만드는 경우 평균막대그래프를 사용"
   ]
  },
  {
   "cell_type": "code",
   "execution_count": null,
   "metadata": {},
   "outputs": [],
   "source": [
    "# 한글폰트, 그래픽 크기 설정\n",
    "pyplot.rcParams[\"font.family\"] = 'Malgun Gothic'\n",
    "pyplot.rcParams[\"font.size\"] = 16\n",
    "pyplot.rcParams[\"figure.figsize\"] = (20,12)\n",
    "\n",
    "\n",
    "성별_월급_평균표.plot.bar(rot=0)\n",
    "pyplot.grid()\n",
    "pyplot.legend()\n",
    "pyplot.title(\"성별에 따른 평균 월급 차이 분석\")\n",
    "pyplot.xlabel(\"성별\")\n",
    "pyplot.ylabel(\"월급\")\n",
    "\n",
    "# 그래프에 텍스트 표시하기\n",
    "for i, v in enumerate(list(성별_월급_평균표['월급'])):\n",
    "    txt = \"%d만원\" % v\n",
    "    pyplot.text(i,v,txt, fontsize=14, color ='#000099',horizontalalignment='center',verticalalignment='bottom')\n",
    "pyplot.show()"
   ]
  },
  {
   "cell_type": "markdown",
   "metadata": {},
   "source": [
    "## 분석예제 3)나이에 따른 월급 평균의 변화\n",
    "\n",
    "1단계-데이터전처리"
   ]
  },
  {
   "cell_type": "code",
   "execution_count": null,
   "metadata": {},
   "outputs": [],
   "source": [
    "# 태어난 년도, 월급에 대한 컬럼 추출\n",
    "df_filter3 = df.filter(['h12_g4','p1202_8aq1'])\n",
    "df_filter3"
   ]
  },
  {
   "cell_type": "code",
   "execution_count": null,
   "metadata": {},
   "outputs": [],
   "source": [
    "# 컬럼이름 변경\n",
    "df_filter3.rename(columns={'h12_g4':'태어난년도','p1202_8aq1':'월급'}, inplace =True)\n",
    "df_filter3"
   ]
  },
  {
   "cell_type": "markdown",
   "metadata": {},
   "source": [
    "나이에 대한 처리<br>\n",
    "변수 검토하기"
   ]
  },
  {
   "cell_type": "code",
   "execution_count": null,
   "metadata": {},
   "outputs": [],
   "source": [
    "# 결측치 확인\n",
    "df_filter3['태어난년도'].isna().sum()"
   ]
  },
  {
   "cell_type": "markdown",
   "metadata": {},
   "source": [
    "파생변수 만들기"
   ]
  },
  {
   "cell_type": "code",
   "execution_count": null,
   "metadata": {},
   "outputs": [],
   "source": [
    "import datetime as dt\n",
    "yy = dt.datetime.now().year\n",
    "print(yy)\n",
    "df_filter3['나이'] = yy - df_filter3['태어난년도'] + 1\n",
    "df_filter3['나이'].describe()"
   ]
  },
  {
   "cell_type": "markdown",
   "metadata": {},
   "source": [
    "월급에 대한 데이터 처리"
   ]
  },
  {
   "cell_type": "code",
   "execution_count": null,
   "metadata": {},
   "outputs": [],
   "source": [
    "# 이상치 결측 처리\n",
    "# ---> 0, 9999 둘 중 하나인 값을 결측치로 변경\n",
    "df_filter3['월급'] = numpy.where(((df_filter3['월급'] < 1) | (df_filter3['월급'] > 9998)), numpy.nan, df_filter3['월급'])\n",
    "df_filter3"
   ]
  },
  {
   "cell_type": "markdown",
   "metadata": {},
   "source": [
    "### 2단계) 나이별 평균 월급 분석"
   ]
  },
  {
   "cell_type": "code",
   "execution_count": null,
   "metadata": {},
   "outputs": [],
   "source": [
    "# 결측치가 아닌 데이터만 걸러내기\n",
    "df_tmp = df_filter3.dropna() \n",
    "df_tmp"
   ]
  },
  {
   "cell_type": "code",
   "execution_count": null,
   "metadata": {},
   "outputs": [],
   "source": [
    "# 나이별로 그룹화하여 그룹별 평균 구하기\n",
    "나이_월급_평균표 = df_tmp.filter(['나이','월급']).groupby('나이').mean()\n",
    "나이_월급_평균표"
   ]
  },
  {
   "cell_type": "markdown",
   "metadata": {},
   "source": [
    "3단계)시각화"
   ]
  },
  {
   "cell_type": "code",
   "execution_count": null,
   "metadata": {},
   "outputs": [],
   "source": [
    "# 한글폰트, 그래픽 크기 설정\n",
    "pyplot.rcParams[\"font.family\"] = 'Malgun Gothic'\n",
    "pyplot.rcParams[\"font.size\"] = 18\n",
    "pyplot.rcParams[\"figure.figsize\"] = (20,10)\n",
    "\n",
    "\n",
    "나이_월급_평균표.plot()\n",
    "pyplot.grid()\n",
    "pyplot.legend()\n",
    "pyplot.title(\"연령에 따른 평균 월급 변화\")\n",
    "pyplot.xlabel(\"나이\")\n",
    "pyplot.ylabel(\"평균월급\")"
   ]
  },
  {
   "cell_type": "markdown",
   "metadata": {},
   "source": [
    "## 분석예제 4) 연령대별 월급 평균 분포\n",
    "\n",
    "연령대 분포"
   ]
  },
  {
   "cell_type": "code",
   "execution_count": null,
   "metadata": {},
   "outputs": [],
   "source": [
    "# 태어난 년도 컬럼 추출\n",
    "df_filter4 = df.filter(['h12_g4'])\n",
    "df_filter4.rename(columns={'h12_g4':'태어난년도'}, inplace = True)\n",
    "df_filter4"
   ]
  },
  {
   "cell_type": "code",
   "execution_count": null,
   "metadata": {},
   "outputs": [],
   "source": [
    "df_filter4.isna().sum()"
   ]
  },
  {
   "cell_type": "code",
   "execution_count": null,
   "metadata": {},
   "outputs": [],
   "source": [
    "df_filter4['나이'] = yy - df_filter4['태어난년도'] + 1\n",
    "df_filter4"
   ]
  },
  {
   "cell_type": "code",
   "execution_count": null,
   "metadata": {},
   "outputs": [],
   "source": [
    "#연령대\n",
    "df_filter4['연령대'] = (df_filter4['나이'] // 10) * 10\n",
    "df_filter4"
   ]
  },
  {
   "cell_type": "code",
   "execution_count": null,
   "metadata": {},
   "outputs": [],
   "source": [
    "연령대분포 = DataFrame(df_filter4['연령대'].value_counts())\n",
    "연령대분포"
   ]
  },
  {
   "cell_type": "code",
   "execution_count": null,
   "metadata": {},
   "outputs": [],
   "source": [
    "연령대분포.sort_index(inplace=True)\n",
    "연령대분포"
   ]
  },
  {
   "cell_type": "code",
   "execution_count": null,
   "metadata": {},
   "outputs": [],
   "source": [
    "index_after = {}\n",
    "for i in list(연령대분포.index):\n",
    "    index_after[i] = '%d대' % i\n",
    "\n",
    "연령대분포.rename(index=index_after, inplace=True)\n",
    "연령대분포"
   ]
  },
  {
   "cell_type": "code",
   "execution_count": null,
   "metadata": {},
   "outputs": [],
   "source": [
    "# 한글폰트, 그래픽 크기 설정\n",
    "pyplot.rcParams[\"font.family\"] = 'Malgun Gothic'\n",
    "pyplot.rcParams[\"font.size\"] = 18\n",
    "pyplot.rcParams[\"figure.figsize\"] = (20,10)\n",
    "\n",
    "\n",
    "연령대분포.plot.bar(rot=0)\n",
    "pyplot.grid()\n",
    "pyplot.title(\"연령대 분포\")\n",
    "pyplot.xlabel(\"연령대\")\n",
    "pyplot.ylabel(\"명\")\n",
    "\n",
    "# 그래프에 텍스트 표시하기\n",
    "for i, v in enumerate(list(연령대분포['연령대'])):\n",
    "    txt = \"%d명\" % v\n",
    "    pyplot.text(i,v,txt, fontsize=14, color ='#000099',horizontalalignment='center',verticalalignment='bottom')\n",
    "pyplot.show()"
   ]
  },
  {
   "cell_type": "markdown",
   "metadata": {},
   "source": [
    "연령대별 평균 월급 분포"
   ]
  },
  {
   "cell_type": "code",
   "execution_count": null,
   "metadata": {},
   "outputs": [],
   "source": [
    "# 태어난 년도, 월급 컬럼 추출\n",
    "df_filter5 = df.filter(['h12_g4','p1202_8aq1'])\n",
    "df_filter5.rename(columns={'h12_g4':'태어난년도','p1202_8aq1':'월급'},inplace=True)\n",
    "df_filter5"
   ]
  },
  {
   "cell_type": "code",
   "execution_count": null,
   "metadata": {},
   "outputs": [],
   "source": [
    "df_filter5['나이'] = yy - df_filter5['태어난년도'] + 1\n",
    "df_filter5"
   ]
  },
  {
   "cell_type": "code",
   "execution_count": null,
   "metadata": {},
   "outputs": [],
   "source": [
    "#연령대\n",
    "df_filter5['연령대'] = (df_filter5['나이'] // 10)*10\n",
    "df_filter5.sort_values(['연령대','나이','월급'], inplace = True)\n",
    "df_filter5"
   ]
  },
  {
   "cell_type": "code",
   "execution_count": null,
   "metadata": {},
   "outputs": [],
   "source": [
    "df_filter5.isna().sum()"
   ]
  },
  {
   "cell_type": "code",
   "execution_count": null,
   "metadata": {},
   "outputs": [],
   "source": [
    "df_filter5.dropna(inplace=True)\n",
    "df_filter5.isna().sum()"
   ]
  },
  {
   "cell_type": "code",
   "execution_count": null,
   "metadata": {},
   "outputs": [],
   "source": [
    "연령대별_평균급여 = df_filter5.filter(['연령대','월급']).groupby('연령대').mean()\n",
    "연령대별_평균급여"
   ]
  },
  {
   "cell_type": "code",
   "execution_count": null,
   "metadata": {},
   "outputs": [],
   "source": [
    "# 한글폰트, 그래픽 크기 설정\n",
    "pyplot.rcParams[\"font.family\"] = 'Malgun Gothic'\n",
    "pyplot.rcParams[\"font.size\"] = 18\n",
    "pyplot.rcParams[\"figure.figsize\"] = (20,10)\n",
    "\n",
    "\n",
    "연령대별_평균급여.plot.bar(rot=0)\n",
    "pyplot.grid()\n",
    "pyplot.title(\"연령대별 평균급여\")\n",
    "pyplot.xlabel(\"연령대\")\n",
    "pyplot.ylabel(\"급여\")\n",
    "\n",
    "# 그래프에 텍스트 표시하기\n",
    "for i, v in enumerate(list(연령대별_평균급여['월급'])):\n",
    "    print(i)\n",
    "    txt = \"%d만원\" % v\n",
    "    pyplot.text(i,v,txt, fontsize=14, color ='#000099',horizontalalignment='center',verticalalignment='bottom')\n",
    "pyplot.show()"
   ]
  },
  {
   "cell_type": "markdown",
   "metadata": {},
   "source": [
    "## 분석예제 5) 연령대와 성별에 따른 월급 평균\n",
    "\n",
    "성별과 연령대 분포"
   ]
  },
  {
   "cell_type": "code",
   "execution_count": null,
   "metadata": {},
   "outputs": [],
   "source": [
    "# 성별과 태어난년도 데이터 추출\n",
    "성별_태어난년도 = df.filter(['h12_g3','h12_g4'])\n",
    "성별_태어난년도.rename(columns={'h12_g3':'성별','h12_g4':'태어난년도'}, inplace=True)\n",
    "성별_태어난년도"
   ]
  },
  {
   "cell_type": "code",
   "execution_count": null,
   "metadata": {},
   "outputs": [],
   "source": [
    "성별_태어난년도['연령대'] = (yy-성별_태어난년도['태어난년도']+1)//10*10\n",
    "성별_태어난년도['성별'] = numpy.where(성별_태어난년도['성별'] == 1, '남자','여자')\n",
    "성별_태어난년도\n"
   ]
  },
  {
   "cell_type": "code",
   "execution_count": null,
   "metadata": {},
   "outputs": [],
   "source": [
    "연령대_성별_분포 = 성별_태어난년도.groupby(['성별','연령대'], as_index=False).count()\n",
    "연령대_성별_분포.rename(columns={'태어난년도':'명'}, inplace=True)\n",
    "연령대_성별_분포"
   ]
  },
  {
   "cell_type": "code",
   "execution_count": null,
   "metadata": {},
   "outputs": [],
   "source": [
    "pivot_df = 연령대_성별_분포.pivot('연령대','성별','명')\n",
    "pivot_df"
   ]
  },
  {
   "cell_type": "code",
   "execution_count": null,
   "metadata": {},
   "outputs": [],
   "source": [
    "# 한글폰트, 그래픽 크기 설정\n",
    "pyplot.rcParams[\"font.family\"] = 'Malgun Gothic'\n",
    "pyplot.rcParams[\"font.size\"] = 18\n",
    "pyplot.rcParams[\"figure.figsize\"] = (20,10)\n",
    "\n",
    "\n",
    "pivot_df.plot.bar(rot=0)\n",
    "pyplot.grid()\n",
    "pyplot.title(\"성별과 연령대별 분포\")\n",
    "pyplot.xlabel(\"연령대\")\n",
    "pyplot.ylabel(\"명\")\n",
    "\n",
    "pyplot.show()"
   ]
  },
  {
   "cell_type": "markdown",
   "metadata": {},
   "source": [
    "성별과 연령대에 따른 평균 월급"
   ]
  },
  {
   "cell_type": "code",
   "execution_count": null,
   "metadata": {},
   "outputs": [],
   "source": [
    "# 성별과 태어난년도, 월급 데이터 추출\n",
    "filter_df = df.filter(['h12_g3','h12_g4','p1202_8aq1'])\n",
    "filter_df.rename(columns={'h12_g3':'성별','h12_g4':'태어난년도','p1202_8aq1':'월급'},inplace=True)\n",
    "filter_df"
   ]
  },
  {
   "cell_type": "code",
   "execution_count": null,
   "metadata": {},
   "outputs": [],
   "source": [
    "filter_df['연령대'] = (yy-filter_df['태어난년도']+1)//10*10\n",
    "filter_df['성별'] = numpy.where(filter_df['성별'] == 1, '남자','여자')\n",
    "filter_df.drop('태어난년도', axis =1, inplace=True)\n",
    "filter_df.dropna(inplace=True)\n",
    "filter_df"
   ]
  },
  {
   "cell_type": "code",
   "execution_count": null,
   "metadata": {},
   "outputs": [],
   "source": [
    "성별_연령대별_평균월급 = filter_df.groupby(['성별','연령대'], as_index=False).mean()\n",
    "성별_연령대별_평균월급"
   ]
  },
  {
   "cell_type": "code",
   "execution_count": null,
   "metadata": {},
   "outputs": [],
   "source": [
    "pivot_df = 성별_연령대별_평균월급.pivot('연령대','성별','월급')\n",
    "pivot_df"
   ]
  },
  {
   "cell_type": "code",
   "execution_count": null,
   "metadata": {},
   "outputs": [],
   "source": [
    "# 한글폰트, 그래픽 크기 설정\n",
    "pyplot.rcParams[\"font.family\"] = 'Malgun Gothic'\n",
    "pyplot.rcParams[\"font.size\"] = 18\n",
    "pyplot.rcParams[\"figure.figsize\"] = (20,10)\n",
    "\n",
    "\n",
    "pivot_df.plot.bar(rot=0)\n",
    "pyplot.grid()\n",
    "pyplot.title(\"성별 연령대에 따른 평균 급여\")\n",
    "pyplot.xlabel(\"연령대\")\n",
    "pyplot.ylabel(\"급여(만원)\")\n",
    "\n",
    "pyplot.show()"
   ]
  },
  {
   "cell_type": "code",
   "execution_count": null,
   "metadata": {},
   "outputs": [],
   "source": [
    "## 분석예제 6) 지역별 연령대 비율"
   ]
  },
  {
   "cell_type": "code",
   "execution_count": 19,
   "metadata": {},
   "outputs": [
    {
     "data": {
      "text/html": [
       "<div>\n",
       "<style scoped>\n",
       "    .dataframe tbody tr th:only-of-type {\n",
       "        vertical-align: middle;\n",
       "    }\n",
       "\n",
       "    .dataframe tbody tr th {\n",
       "        vertical-align: top;\n",
       "    }\n",
       "\n",
       "    .dataframe thead th {\n",
       "        text-align: right;\n",
       "    }\n",
       "</style>\n",
       "<table border=\"1\" class=\"dataframe\">\n",
       "  <thead>\n",
       "    <tr style=\"text-align: right;\">\n",
       "      <th></th>\n",
       "      <th>태어난년도</th>\n",
       "      <th>지역코드</th>\n",
       "    </tr>\n",
       "  </thead>\n",
       "  <tbody>\n",
       "    <tr>\n",
       "      <td>0</td>\n",
       "      <td>1936</td>\n",
       "      <td>1</td>\n",
       "    </tr>\n",
       "    <tr>\n",
       "      <td>1</td>\n",
       "      <td>1945</td>\n",
       "      <td>1</td>\n",
       "    </tr>\n",
       "    <tr>\n",
       "      <td>2</td>\n",
       "      <td>1948</td>\n",
       "      <td>1</td>\n",
       "    </tr>\n",
       "    <tr>\n",
       "      <td>3</td>\n",
       "      <td>1942</td>\n",
       "      <td>1</td>\n",
       "    </tr>\n",
       "    <tr>\n",
       "      <td>4</td>\n",
       "      <td>1923</td>\n",
       "      <td>1</td>\n",
       "    </tr>\n",
       "    <tr>\n",
       "      <td>...</td>\n",
       "      <td>...</td>\n",
       "      <td>...</td>\n",
       "    </tr>\n",
       "    <tr>\n",
       "      <td>15417</td>\n",
       "      <td>1967</td>\n",
       "      <td>5</td>\n",
       "    </tr>\n",
       "    <tr>\n",
       "      <td>15418</td>\n",
       "      <td>1992</td>\n",
       "      <td>5</td>\n",
       "    </tr>\n",
       "    <tr>\n",
       "      <td>15419</td>\n",
       "      <td>1995</td>\n",
       "      <td>5</td>\n",
       "    </tr>\n",
       "    <tr>\n",
       "      <td>15420</td>\n",
       "      <td>1998</td>\n",
       "      <td>5</td>\n",
       "    </tr>\n",
       "    <tr>\n",
       "      <td>15421</td>\n",
       "      <td>2001</td>\n",
       "      <td>5</td>\n",
       "    </tr>\n",
       "  </tbody>\n",
       "</table>\n",
       "<p>15422 rows × 2 columns</p>\n",
       "</div>"
      ],
      "text/plain": [
       "       태어난년도  지역코드\n",
       "0       1936     1\n",
       "1       1945     1\n",
       "2       1948     1\n",
       "3       1942     1\n",
       "4       1923     1\n",
       "...      ...   ...\n",
       "15417   1967     5\n",
       "15418   1992     5\n",
       "15419   1995     5\n",
       "15420   1998     5\n",
       "15421   2001     5\n",
       "\n",
       "[15422 rows x 2 columns]"
      ]
     },
     "execution_count": 19,
     "metadata": {},
     "output_type": "execute_result"
    }
   ],
   "source": [
    "# 성별과 태어난년도 데이터 추출\n",
    "지역년도 = df.filter(['h12_g4','h12_reg7'])\n",
    "지역년도df = 지역년도.rename(columns={'h12_g4':'태어난년도','h12_reg7':'지역코드'})\n",
    "지역년도df"
   ]
  },
  {
   "cell_type": "code",
   "execution_count": 23,
   "metadata": {},
   "outputs": [
    {
     "data": {
      "text/html": [
       "<div>\n",
       "<style scoped>\n",
       "    .dataframe tbody tr th:only-of-type {\n",
       "        vertical-align: middle;\n",
       "    }\n",
       "\n",
       "    .dataframe tbody tr th {\n",
       "        vertical-align: top;\n",
       "    }\n",
       "\n",
       "    .dataframe thead th {\n",
       "        text-align: right;\n",
       "    }\n",
       "</style>\n",
       "<table border=\"1\" class=\"dataframe\">\n",
       "  <thead>\n",
       "    <tr style=\"text-align: right;\">\n",
       "      <th></th>\n",
       "      <th>태어난년도</th>\n",
       "      <th>지역코드</th>\n",
       "    </tr>\n",
       "  </thead>\n",
       "  <tbody>\n",
       "  </tbody>\n",
       "</table>\n",
       "</div>"
      ],
      "text/plain": [
       "Empty DataFrame\n",
       "Columns: [태어난년도, 지역코드]\n",
       "Index: []"
      ]
     },
     "execution_count": 23,
     "metadata": {},
     "output_type": "execute_result"
    }
   ],
   "source": [
    "#년도에 대한 무응답 데이터 여부 확인\n",
    "지역년도df.query('태어난년도 >= 9999')"
   ]
  },
  {
   "cell_type": "code",
   "execution_count": 25,
   "metadata": {},
   "outputs": [
    {
     "data": {
      "text/plain": [
       "태어난년도    0\n",
       "지역코드     0\n",
       "dtype: int64"
      ]
     },
     "execution_count": 25,
     "metadata": {},
     "output_type": "execute_result"
    }
   ],
   "source": [
    "#결측치 확인\n",
    "지역년도df.isna().sum()"
   ]
  },
  {
   "cell_type": "code",
   "execution_count": 33,
   "metadata": {},
   "outputs": [
    {
     "data": {
      "text/html": [
       "<div>\n",
       "<style scoped>\n",
       "    .dataframe tbody tr th:only-of-type {\n",
       "        vertical-align: middle;\n",
       "    }\n",
       "\n",
       "    .dataframe tbody tr th {\n",
       "        vertical-align: top;\n",
       "    }\n",
       "\n",
       "    .dataframe thead th {\n",
       "        text-align: right;\n",
       "    }\n",
       "</style>\n",
       "<table border=\"1\" class=\"dataframe\">\n",
       "  <thead>\n",
       "    <tr style=\"text-align: right;\">\n",
       "      <th></th>\n",
       "      <th>태어난년도</th>\n",
       "      <th>지역코드</th>\n",
       "      <th>나이</th>\n",
       "    </tr>\n",
       "  </thead>\n",
       "  <tbody>\n",
       "    <tr>\n",
       "      <td>0</td>\n",
       "      <td>1936</td>\n",
       "      <td>1</td>\n",
       "      <td>84</td>\n",
       "    </tr>\n",
       "    <tr>\n",
       "      <td>1</td>\n",
       "      <td>1945</td>\n",
       "      <td>1</td>\n",
       "      <td>75</td>\n",
       "    </tr>\n",
       "    <tr>\n",
       "      <td>2</td>\n",
       "      <td>1948</td>\n",
       "      <td>1</td>\n",
       "      <td>72</td>\n",
       "    </tr>\n",
       "    <tr>\n",
       "      <td>3</td>\n",
       "      <td>1942</td>\n",
       "      <td>1</td>\n",
       "      <td>78</td>\n",
       "    </tr>\n",
       "    <tr>\n",
       "      <td>4</td>\n",
       "      <td>1923</td>\n",
       "      <td>1</td>\n",
       "      <td>97</td>\n",
       "    </tr>\n",
       "    <tr>\n",
       "      <td>...</td>\n",
       "      <td>...</td>\n",
       "      <td>...</td>\n",
       "      <td>...</td>\n",
       "    </tr>\n",
       "    <tr>\n",
       "      <td>15417</td>\n",
       "      <td>1967</td>\n",
       "      <td>5</td>\n",
       "      <td>53</td>\n",
       "    </tr>\n",
       "    <tr>\n",
       "      <td>15418</td>\n",
       "      <td>1992</td>\n",
       "      <td>5</td>\n",
       "      <td>28</td>\n",
       "    </tr>\n",
       "    <tr>\n",
       "      <td>15419</td>\n",
       "      <td>1995</td>\n",
       "      <td>5</td>\n",
       "      <td>25</td>\n",
       "    </tr>\n",
       "    <tr>\n",
       "      <td>15420</td>\n",
       "      <td>1998</td>\n",
       "      <td>5</td>\n",
       "      <td>22</td>\n",
       "    </tr>\n",
       "    <tr>\n",
       "      <td>15421</td>\n",
       "      <td>2001</td>\n",
       "      <td>5</td>\n",
       "      <td>19</td>\n",
       "    </tr>\n",
       "  </tbody>\n",
       "</table>\n",
       "<p>15422 rows × 3 columns</p>\n",
       "</div>"
      ],
      "text/plain": [
       "       태어난년도  지역코드  나이\n",
       "0       1936     1  84\n",
       "1       1945     1  75\n",
       "2       1948     1  72\n",
       "3       1942     1  78\n",
       "4       1923     1  97\n",
       "...      ...   ...  ..\n",
       "15417   1967     5  53\n",
       "15418   1992     5  28\n",
       "15419   1995     5  25\n",
       "15420   1998     5  22\n",
       "15421   2001     5  19\n",
       "\n",
       "[15422 rows x 3 columns]"
      ]
     },
     "execution_count": 33,
     "metadata": {},
     "output_type": "execute_result"
    }
   ],
   "source": [
    "#나이변수 추가\n",
    "import datetime as dt\n",
    "지역년도df['나이'] = dt.datetime.now().year - 지역년도df['태어난년도']+1\n",
    "지역년도df"
   ]
  },
  {
   "cell_type": "code",
   "execution_count": 34,
   "metadata": {},
   "outputs": [
    {
     "data": {
      "text/html": [
       "<div>\n",
       "<style scoped>\n",
       "    .dataframe tbody tr th:only-of-type {\n",
       "        vertical-align: middle;\n",
       "    }\n",
       "\n",
       "    .dataframe tbody tr th {\n",
       "        vertical-align: top;\n",
       "    }\n",
       "\n",
       "    .dataframe thead th {\n",
       "        text-align: right;\n",
       "    }\n",
       "</style>\n",
       "<table border=\"1\" class=\"dataframe\">\n",
       "  <thead>\n",
       "    <tr style=\"text-align: right;\">\n",
       "      <th></th>\n",
       "      <th>지역코드</th>\n",
       "      <th>지역</th>\n",
       "    </tr>\n",
       "  </thead>\n",
       "  <tbody>\n",
       "    <tr>\n",
       "      <td>0</td>\n",
       "      <td>1</td>\n",
       "      <td>서울</td>\n",
       "    </tr>\n",
       "    <tr>\n",
       "      <td>1</td>\n",
       "      <td>2</td>\n",
       "      <td>인천,경기</td>\n",
       "    </tr>\n",
       "    <tr>\n",
       "      <td>2</td>\n",
       "      <td>3</td>\n",
       "      <td>부산,경남,울산</td>\n",
       "    </tr>\n",
       "    <tr>\n",
       "      <td>3</td>\n",
       "      <td>4</td>\n",
       "      <td>대구,경북</td>\n",
       "    </tr>\n",
       "    <tr>\n",
       "      <td>4</td>\n",
       "      <td>5</td>\n",
       "      <td>대전,충남</td>\n",
       "    </tr>\n",
       "    <tr>\n",
       "      <td>5</td>\n",
       "      <td>6</td>\n",
       "      <td>강원,충북</td>\n",
       "    </tr>\n",
       "    <tr>\n",
       "      <td>6</td>\n",
       "      <td>7</td>\n",
       "      <td>광주,전남,전북,제주</td>\n",
       "    </tr>\n",
       "  </tbody>\n",
       "</table>\n",
       "</div>"
      ],
      "text/plain": [
       "   지역코드           지역\n",
       "0     1           서울\n",
       "1     2        인천,경기\n",
       "2     3     부산,경남,울산\n",
       "3     4        대구,경북\n",
       "4     5        대전,충남\n",
       "5     6        강원,충북\n",
       "6     7  광주,전남,전북,제주"
      ]
     },
     "execution_count": 34,
     "metadata": {},
     "output_type": "execute_result"
    }
   ],
   "source": [
    "# 지역코드표 만들기\n",
    "지역코드표df = DataFrame({'지역코드' :list(range(1,8)),'지역':['서울','인천,경기','부산,경남,울산','대구,경북','대전,충남','강원,충북','광주,전남,전북,제주']})\n",
    "지역코드표df"
   ]
  },
  {
   "cell_type": "code",
   "execution_count": 53,
   "metadata": {},
   "outputs": [
    {
     "data": {
      "text/html": [
       "<div>\n",
       "<style scoped>\n",
       "    .dataframe tbody tr th:only-of-type {\n",
       "        vertical-align: middle;\n",
       "    }\n",
       "\n",
       "    .dataframe tbody tr th {\n",
       "        vertical-align: top;\n",
       "    }\n",
       "\n",
       "    .dataframe thead th {\n",
       "        text-align: right;\n",
       "    }\n",
       "</style>\n",
       "<table border=\"1\" class=\"dataframe\">\n",
       "  <thead>\n",
       "    <tr style=\"text-align: right;\">\n",
       "      <th></th>\n",
       "      <th>태어난년도</th>\n",
       "      <th>지역코드</th>\n",
       "      <th>나이</th>\n",
       "      <th>지역</th>\n",
       "    </tr>\n",
       "  </thead>\n",
       "  <tbody>\n",
       "    <tr>\n",
       "      <td>0</td>\n",
       "      <td>1936</td>\n",
       "      <td>1</td>\n",
       "      <td>84</td>\n",
       "      <td>서울</td>\n",
       "    </tr>\n",
       "    <tr>\n",
       "      <td>1</td>\n",
       "      <td>1945</td>\n",
       "      <td>1</td>\n",
       "      <td>75</td>\n",
       "      <td>서울</td>\n",
       "    </tr>\n",
       "    <tr>\n",
       "      <td>2</td>\n",
       "      <td>1948</td>\n",
       "      <td>1</td>\n",
       "      <td>72</td>\n",
       "      <td>서울</td>\n",
       "    </tr>\n",
       "    <tr>\n",
       "      <td>3</td>\n",
       "      <td>1942</td>\n",
       "      <td>1</td>\n",
       "      <td>78</td>\n",
       "      <td>서울</td>\n",
       "    </tr>\n",
       "    <tr>\n",
       "      <td>4</td>\n",
       "      <td>1923</td>\n",
       "      <td>1</td>\n",
       "      <td>97</td>\n",
       "      <td>서울</td>\n",
       "    </tr>\n",
       "    <tr>\n",
       "      <td>...</td>\n",
       "      <td>...</td>\n",
       "      <td>...</td>\n",
       "      <td>...</td>\n",
       "      <td>...</td>\n",
       "    </tr>\n",
       "    <tr>\n",
       "      <td>15417</td>\n",
       "      <td>2003</td>\n",
       "      <td>3</td>\n",
       "      <td>17</td>\n",
       "      <td>부산,경남,울산</td>\n",
       "    </tr>\n",
       "    <tr>\n",
       "      <td>15418</td>\n",
       "      <td>2006</td>\n",
       "      <td>3</td>\n",
       "      <td>14</td>\n",
       "      <td>부산,경남,울산</td>\n",
       "    </tr>\n",
       "    <tr>\n",
       "      <td>15419</td>\n",
       "      <td>1984</td>\n",
       "      <td>3</td>\n",
       "      <td>36</td>\n",
       "      <td>부산,경남,울산</td>\n",
       "    </tr>\n",
       "    <tr>\n",
       "      <td>15420</td>\n",
       "      <td>1984</td>\n",
       "      <td>3</td>\n",
       "      <td>36</td>\n",
       "      <td>부산,경남,울산</td>\n",
       "    </tr>\n",
       "    <tr>\n",
       "      <td>15421</td>\n",
       "      <td>2014</td>\n",
       "      <td>3</td>\n",
       "      <td>6</td>\n",
       "      <td>부산,경남,울산</td>\n",
       "    </tr>\n",
       "  </tbody>\n",
       "</table>\n",
       "<p>15422 rows × 4 columns</p>\n",
       "</div>"
      ],
      "text/plain": [
       "       태어난년도  지역코드  나이        지역\n",
       "0       1936     1  84        서울\n",
       "1       1945     1  75        서울\n",
       "2       1948     1  72        서울\n",
       "3       1942     1  78        서울\n",
       "4       1923     1  97        서울\n",
       "...      ...   ...  ..       ...\n",
       "15417   2003     3  17  부산,경남,울산\n",
       "15418   2006     3  14  부산,경남,울산\n",
       "15419   1984     3  36  부산,경남,울산\n",
       "15420   1984     3  36  부산,경남,울산\n",
       "15421   2014     3   6  부산,경남,울산\n",
       "\n",
       "[15422 rows x 4 columns]"
      ]
     },
     "execution_count": 53,
     "metadata": {},
     "output_type": "execute_result"
    }
   ],
   "source": [
    "import pandas as pd\n",
    "지역나이df = pd.merge(지역년도df,지역코드표df, how = 'outer')\n",
    "지역나이df"
   ]
  },
  {
   "cell_type": "code",
   "execution_count": 60,
   "metadata": {},
   "outputs": [
    {
     "data": {
      "text/html": [
       "<div>\n",
       "<style scoped>\n",
       "    .dataframe tbody tr th:only-of-type {\n",
       "        vertical-align: middle;\n",
       "    }\n",
       "\n",
       "    .dataframe tbody tr th {\n",
       "        vertical-align: top;\n",
       "    }\n",
       "\n",
       "    .dataframe thead th {\n",
       "        text-align: right;\n",
       "    }\n",
       "</style>\n",
       "<table border=\"1\" class=\"dataframe\">\n",
       "  <thead>\n",
       "    <tr style=\"text-align: right;\">\n",
       "      <th></th>\n",
       "      <th>태어난년도</th>\n",
       "      <th>지역코드</th>\n",
       "      <th>나이</th>\n",
       "      <th>지역</th>\n",
       "      <th>연령층</th>\n",
       "    </tr>\n",
       "  </thead>\n",
       "  <tbody>\n",
       "    <tr>\n",
       "      <td>0</td>\n",
       "      <td>1936</td>\n",
       "      <td>1</td>\n",
       "      <td>84</td>\n",
       "      <td>서울</td>\n",
       "      <td>노년층</td>\n",
       "    </tr>\n",
       "    <tr>\n",
       "      <td>1</td>\n",
       "      <td>1945</td>\n",
       "      <td>1</td>\n",
       "      <td>75</td>\n",
       "      <td>서울</td>\n",
       "      <td>노년층</td>\n",
       "    </tr>\n",
       "    <tr>\n",
       "      <td>2</td>\n",
       "      <td>1948</td>\n",
       "      <td>1</td>\n",
       "      <td>72</td>\n",
       "      <td>서울</td>\n",
       "      <td>노년층</td>\n",
       "    </tr>\n",
       "    <tr>\n",
       "      <td>3</td>\n",
       "      <td>1942</td>\n",
       "      <td>1</td>\n",
       "      <td>78</td>\n",
       "      <td>서울</td>\n",
       "      <td>노년층</td>\n",
       "    </tr>\n",
       "    <tr>\n",
       "      <td>4</td>\n",
       "      <td>1923</td>\n",
       "      <td>1</td>\n",
       "      <td>97</td>\n",
       "      <td>서울</td>\n",
       "      <td>노년층</td>\n",
       "    </tr>\n",
       "    <tr>\n",
       "      <td>...</td>\n",
       "      <td>...</td>\n",
       "      <td>...</td>\n",
       "      <td>...</td>\n",
       "      <td>...</td>\n",
       "      <td>...</td>\n",
       "    </tr>\n",
       "    <tr>\n",
       "      <td>15417</td>\n",
       "      <td>2003</td>\n",
       "      <td>3</td>\n",
       "      <td>17</td>\n",
       "      <td>부산,경남,울산</td>\n",
       "      <td>청년층</td>\n",
       "    </tr>\n",
       "    <tr>\n",
       "      <td>15418</td>\n",
       "      <td>2006</td>\n",
       "      <td>3</td>\n",
       "      <td>14</td>\n",
       "      <td>부산,경남,울산</td>\n",
       "      <td>청년층</td>\n",
       "    </tr>\n",
       "    <tr>\n",
       "      <td>15419</td>\n",
       "      <td>1984</td>\n",
       "      <td>3</td>\n",
       "      <td>36</td>\n",
       "      <td>부산,경남,울산</td>\n",
       "      <td>중년층</td>\n",
       "    </tr>\n",
       "    <tr>\n",
       "      <td>15420</td>\n",
       "      <td>1984</td>\n",
       "      <td>3</td>\n",
       "      <td>36</td>\n",
       "      <td>부산,경남,울산</td>\n",
       "      <td>중년층</td>\n",
       "    </tr>\n",
       "    <tr>\n",
       "      <td>15421</td>\n",
       "      <td>2014</td>\n",
       "      <td>3</td>\n",
       "      <td>6</td>\n",
       "      <td>부산,경남,울산</td>\n",
       "      <td>청년층</td>\n",
       "    </tr>\n",
       "  </tbody>\n",
       "</table>\n",
       "<p>15422 rows × 5 columns</p>\n",
       "</div>"
      ],
      "text/plain": [
       "       태어난년도  지역코드  나이        지역  연령층\n",
       "0       1936     1  84        서울  노년층\n",
       "1       1945     1  75        서울  노년층\n",
       "2       1948     1  72        서울  노년층\n",
       "3       1942     1  78        서울  노년층\n",
       "4       1923     1  97        서울  노년층\n",
       "...      ...   ...  ..       ...  ...\n",
       "15417   2003     3  17  부산,경남,울산  청년층\n",
       "15418   2006     3  14  부산,경남,울산  청년층\n",
       "15419   1984     3  36  부산,경남,울산  중년층\n",
       "15420   1984     3  36  부산,경남,울산  중년층\n",
       "15421   2014     3   6  부산,경남,울산  청년층\n",
       "\n",
       "[15422 rows x 5 columns]"
      ]
     },
     "execution_count": 60,
     "metadata": {},
     "output_type": "execute_result"
    }
   ],
   "source": [
    "# 연령층을 구분하기 위한 나이의 구간을 설정하는 조건들을 리스트로 설정\n",
    "conditions = [(지역나이df['나이'] < 30), (지역나이df['나이'] < 60), (지역나이df['나이'] >= 60)]\n",
    "\n",
    "# 조건에 따라 부여될 값\n",
    "level = ['청년층','중년층','노년층']\n",
    "\n",
    "#조건에 따른 연령층 추가하기\n",
    "지역나이df['연령층'] = numpy.select(conditions, level)\n",
    "지역나이df"
   ]
  },
  {
   "cell_type": "code",
   "execution_count": 61,
   "metadata": {},
   "outputs": [
    {
     "data": {
      "text/html": [
       "<div>\n",
       "<style scoped>\n",
       "    .dataframe tbody tr th:only-of-type {\n",
       "        vertical-align: middle;\n",
       "    }\n",
       "\n",
       "    .dataframe tbody tr th {\n",
       "        vertical-align: top;\n",
       "    }\n",
       "\n",
       "    .dataframe thead th {\n",
       "        text-align: right;\n",
       "    }\n",
       "</style>\n",
       "<table border=\"1\" class=\"dataframe\">\n",
       "  <thead>\n",
       "    <tr style=\"text-align: right;\">\n",
       "      <th></th>\n",
       "      <th></th>\n",
       "      <th>나이</th>\n",
       "    </tr>\n",
       "    <tr>\n",
       "      <th>지역</th>\n",
       "      <th>연령층</th>\n",
       "      <th></th>\n",
       "    </tr>\n",
       "  </thead>\n",
       "  <tbody>\n",
       "    <tr>\n",
       "      <td rowspan=\"3\" valign=\"top\">강원,충북</td>\n",
       "      <td>노년층</td>\n",
       "      <td>554</td>\n",
       "    </tr>\n",
       "    <tr>\n",
       "      <td>중년층</td>\n",
       "      <td>365</td>\n",
       "    </tr>\n",
       "    <tr>\n",
       "      <td>청년층</td>\n",
       "      <td>261</td>\n",
       "    </tr>\n",
       "    <tr>\n",
       "      <td rowspan=\"3\" valign=\"top\">광주,전남,전북,제주</td>\n",
       "      <td>노년층</td>\n",
       "      <td>1258</td>\n",
       "    </tr>\n",
       "    <tr>\n",
       "      <td>중년층</td>\n",
       "      <td>870</td>\n",
       "    </tr>\n",
       "    <tr>\n",
       "      <td>청년층</td>\n",
       "      <td>621</td>\n",
       "    </tr>\n",
       "    <tr>\n",
       "      <td rowspan=\"3\" valign=\"top\">대구,경북</td>\n",
       "      <td>노년층</td>\n",
       "      <td>947</td>\n",
       "    </tr>\n",
       "    <tr>\n",
       "      <td>중년층</td>\n",
       "      <td>551</td>\n",
       "    </tr>\n",
       "    <tr>\n",
       "      <td>청년층</td>\n",
       "      <td>376</td>\n",
       "    </tr>\n",
       "    <tr>\n",
       "      <td rowspan=\"3\" valign=\"top\">대전,충남</td>\n",
       "      <td>노년층</td>\n",
       "      <td>573</td>\n",
       "    </tr>\n",
       "    <tr>\n",
       "      <td>중년층</td>\n",
       "      <td>451</td>\n",
       "    </tr>\n",
       "    <tr>\n",
       "      <td>청년층</td>\n",
       "      <td>331</td>\n",
       "    </tr>\n",
       "    <tr>\n",
       "      <td rowspan=\"3\" valign=\"top\">부산,경남,울산</td>\n",
       "      <td>노년층</td>\n",
       "      <td>1155</td>\n",
       "    </tr>\n",
       "    <tr>\n",
       "      <td>중년층</td>\n",
       "      <td>850</td>\n",
       "    </tr>\n",
       "    <tr>\n",
       "      <td>청년층</td>\n",
       "      <td>559</td>\n",
       "    </tr>\n",
       "    <tr>\n",
       "      <td rowspan=\"3\" valign=\"top\">서울</td>\n",
       "      <td>노년층</td>\n",
       "      <td>824</td>\n",
       "    </tr>\n",
       "    <tr>\n",
       "      <td>중년층</td>\n",
       "      <td>872</td>\n",
       "    </tr>\n",
       "    <tr>\n",
       "      <td>청년층</td>\n",
       "      <td>512</td>\n",
       "    </tr>\n",
       "    <tr>\n",
       "      <td rowspan=\"3\" valign=\"top\">인천,경기</td>\n",
       "      <td>노년층</td>\n",
       "      <td>1180</td>\n",
       "    </tr>\n",
       "    <tr>\n",
       "      <td>중년층</td>\n",
       "      <td>1333</td>\n",
       "    </tr>\n",
       "    <tr>\n",
       "      <td>청년층</td>\n",
       "      <td>979</td>\n",
       "    </tr>\n",
       "  </tbody>\n",
       "</table>\n",
       "</div>"
      ],
      "text/plain": [
       "                   나이\n",
       "지역          연령층      \n",
       "강원,충북       노년층   554\n",
       "            중년층   365\n",
       "            청년층   261\n",
       "광주,전남,전북,제주 노년층  1258\n",
       "            중년층   870\n",
       "            청년층   621\n",
       "대구,경북       노년층   947\n",
       "            중년층   551\n",
       "            청년층   376\n",
       "대전,충남       노년층   573\n",
       "            중년층   451\n",
       "            청년층   331\n",
       "부산,경남,울산    노년층  1155\n",
       "            중년층   850\n",
       "            청년층   559\n",
       "서울          노년층   824\n",
       "            중년층   872\n",
       "            청년층   512\n",
       "인천,경기       노년층  1180\n",
       "            중년층  1333\n",
       "            청년층   979"
      ]
     },
     "execution_count": 61,
     "metadata": {},
     "output_type": "execute_result"
    }
   ],
   "source": [
    "# 그룹조회(확인용)\n",
    "tmp = 지역나이df.filter(['지역','연령층','나이']).groupby(['지역','연령층']).count()\n",
    "tmp"
   ]
  },
  {
   "cell_type": "code",
   "execution_count": 63,
   "metadata": {},
   "outputs": [
    {
     "data": {
      "text/html": [
       "<div>\n",
       "<style scoped>\n",
       "    .dataframe tbody tr th:only-of-type {\n",
       "        vertical-align: middle;\n",
       "    }\n",
       "\n",
       "    .dataframe tbody tr th {\n",
       "        vertical-align: top;\n",
       "    }\n",
       "\n",
       "    .dataframe thead th {\n",
       "        text-align: right;\n",
       "    }\n",
       "</style>\n",
       "<table border=\"1\" class=\"dataframe\">\n",
       "  <thead>\n",
       "    <tr style=\"text-align: right;\">\n",
       "      <th></th>\n",
       "      <th>지역</th>\n",
       "      <th>연령층</th>\n",
       "      <th>나이</th>\n",
       "    </tr>\n",
       "  </thead>\n",
       "  <tbody>\n",
       "    <tr>\n",
       "      <td>0</td>\n",
       "      <td>강원,충북</td>\n",
       "      <td>노년층</td>\n",
       "      <td>554</td>\n",
       "    </tr>\n",
       "    <tr>\n",
       "      <td>1</td>\n",
       "      <td>강원,충북</td>\n",
       "      <td>중년층</td>\n",
       "      <td>365</td>\n",
       "    </tr>\n",
       "    <tr>\n",
       "      <td>2</td>\n",
       "      <td>강원,충북</td>\n",
       "      <td>청년층</td>\n",
       "      <td>261</td>\n",
       "    </tr>\n",
       "    <tr>\n",
       "      <td>3</td>\n",
       "      <td>광주,전남,전북,제주</td>\n",
       "      <td>노년층</td>\n",
       "      <td>1258</td>\n",
       "    </tr>\n",
       "    <tr>\n",
       "      <td>4</td>\n",
       "      <td>광주,전남,전북,제주</td>\n",
       "      <td>중년층</td>\n",
       "      <td>870</td>\n",
       "    </tr>\n",
       "    <tr>\n",
       "      <td>5</td>\n",
       "      <td>광주,전남,전북,제주</td>\n",
       "      <td>청년층</td>\n",
       "      <td>621</td>\n",
       "    </tr>\n",
       "    <tr>\n",
       "      <td>6</td>\n",
       "      <td>대구,경북</td>\n",
       "      <td>노년층</td>\n",
       "      <td>947</td>\n",
       "    </tr>\n",
       "    <tr>\n",
       "      <td>7</td>\n",
       "      <td>대구,경북</td>\n",
       "      <td>중년층</td>\n",
       "      <td>551</td>\n",
       "    </tr>\n",
       "    <tr>\n",
       "      <td>8</td>\n",
       "      <td>대구,경북</td>\n",
       "      <td>청년층</td>\n",
       "      <td>376</td>\n",
       "    </tr>\n",
       "    <tr>\n",
       "      <td>9</td>\n",
       "      <td>대전,충남</td>\n",
       "      <td>노년층</td>\n",
       "      <td>573</td>\n",
       "    </tr>\n",
       "    <tr>\n",
       "      <td>10</td>\n",
       "      <td>대전,충남</td>\n",
       "      <td>중년층</td>\n",
       "      <td>451</td>\n",
       "    </tr>\n",
       "    <tr>\n",
       "      <td>11</td>\n",
       "      <td>대전,충남</td>\n",
       "      <td>청년층</td>\n",
       "      <td>331</td>\n",
       "    </tr>\n",
       "    <tr>\n",
       "      <td>12</td>\n",
       "      <td>부산,경남,울산</td>\n",
       "      <td>노년층</td>\n",
       "      <td>1155</td>\n",
       "    </tr>\n",
       "    <tr>\n",
       "      <td>13</td>\n",
       "      <td>부산,경남,울산</td>\n",
       "      <td>중년층</td>\n",
       "      <td>850</td>\n",
       "    </tr>\n",
       "    <tr>\n",
       "      <td>14</td>\n",
       "      <td>부산,경남,울산</td>\n",
       "      <td>청년층</td>\n",
       "      <td>559</td>\n",
       "    </tr>\n",
       "    <tr>\n",
       "      <td>15</td>\n",
       "      <td>서울</td>\n",
       "      <td>노년층</td>\n",
       "      <td>824</td>\n",
       "    </tr>\n",
       "    <tr>\n",
       "      <td>16</td>\n",
       "      <td>서울</td>\n",
       "      <td>중년층</td>\n",
       "      <td>872</td>\n",
       "    </tr>\n",
       "    <tr>\n",
       "      <td>17</td>\n",
       "      <td>서울</td>\n",
       "      <td>청년층</td>\n",
       "      <td>512</td>\n",
       "    </tr>\n",
       "    <tr>\n",
       "      <td>18</td>\n",
       "      <td>인천,경기</td>\n",
       "      <td>노년층</td>\n",
       "      <td>1180</td>\n",
       "    </tr>\n",
       "    <tr>\n",
       "      <td>19</td>\n",
       "      <td>인천,경기</td>\n",
       "      <td>중년층</td>\n",
       "      <td>1333</td>\n",
       "    </tr>\n",
       "    <tr>\n",
       "      <td>20</td>\n",
       "      <td>인천,경기</td>\n",
       "      <td>청년층</td>\n",
       "      <td>979</td>\n",
       "    </tr>\n",
       "  </tbody>\n",
       "</table>\n",
       "</div>"
      ],
      "text/plain": [
       "             지역  연령층    나이\n",
       "0         강원,충북  노년층   554\n",
       "1         강원,충북  중년층   365\n",
       "2         강원,충북  청년층   261\n",
       "3   광주,전남,전북,제주  노년층  1258\n",
       "4   광주,전남,전북,제주  중년층   870\n",
       "5   광주,전남,전북,제주  청년층   621\n",
       "6         대구,경북  노년층   947\n",
       "7         대구,경북  중년층   551\n",
       "8         대구,경북  청년층   376\n",
       "9         대전,충남  노년층   573\n",
       "10        대전,충남  중년층   451\n",
       "11        대전,충남  청년층   331\n",
       "12     부산,경남,울산  노년층  1155\n",
       "13     부산,경남,울산  중년층   850\n",
       "14     부산,경남,울산  청년층   559\n",
       "15           서울  노년층   824\n",
       "16           서울  중년층   872\n",
       "17           서울  청년층   512\n",
       "18        인천,경기  노년층  1180\n",
       "19        인천,경기  중년층  1333\n",
       "20        인천,경기  청년층   979"
      ]
     },
     "execution_count": 63,
     "metadata": {},
     "output_type": "execute_result"
    }
   ],
   "source": [
    "지역별연령층df = 지역나이df.filter(['지역','연령층','나이']).groupby(['지역','연령층'], as_index=False).count()\n",
    "지역별연령층df"
   ]
  },
  {
   "cell_type": "code",
   "execution_count": 69,
   "metadata": {},
   "outputs": [
    {
     "data": {
      "text/html": [
       "<div>\n",
       "<style scoped>\n",
       "    .dataframe tbody tr th:only-of-type {\n",
       "        vertical-align: middle;\n",
       "    }\n",
       "\n",
       "    .dataframe tbody tr th {\n",
       "        vertical-align: top;\n",
       "    }\n",
       "\n",
       "    .dataframe thead th {\n",
       "        text-align: right;\n",
       "    }\n",
       "</style>\n",
       "<table border=\"1\" class=\"dataframe\">\n",
       "  <thead>\n",
       "    <tr style=\"text-align: right;\">\n",
       "      <th></th>\n",
       "      <th>지역</th>\n",
       "      <th>연령층</th>\n",
       "      <th>조사인원</th>\n",
       "    </tr>\n",
       "  </thead>\n",
       "  <tbody>\n",
       "    <tr>\n",
       "      <td>0</td>\n",
       "      <td>강원,충북</td>\n",
       "      <td>노년층</td>\n",
       "      <td>554</td>\n",
       "    </tr>\n",
       "    <tr>\n",
       "      <td>1</td>\n",
       "      <td>강원,충북</td>\n",
       "      <td>중년층</td>\n",
       "      <td>365</td>\n",
       "    </tr>\n",
       "    <tr>\n",
       "      <td>2</td>\n",
       "      <td>강원,충북</td>\n",
       "      <td>청년층</td>\n",
       "      <td>261</td>\n",
       "    </tr>\n",
       "    <tr>\n",
       "      <td>3</td>\n",
       "      <td>광주,전남,전북,제주</td>\n",
       "      <td>노년층</td>\n",
       "      <td>1258</td>\n",
       "    </tr>\n",
       "    <tr>\n",
       "      <td>4</td>\n",
       "      <td>광주,전남,전북,제주</td>\n",
       "      <td>중년층</td>\n",
       "      <td>870</td>\n",
       "    </tr>\n",
       "    <tr>\n",
       "      <td>5</td>\n",
       "      <td>광주,전남,전북,제주</td>\n",
       "      <td>청년층</td>\n",
       "      <td>621</td>\n",
       "    </tr>\n",
       "    <tr>\n",
       "      <td>6</td>\n",
       "      <td>대구,경북</td>\n",
       "      <td>노년층</td>\n",
       "      <td>947</td>\n",
       "    </tr>\n",
       "    <tr>\n",
       "      <td>7</td>\n",
       "      <td>대구,경북</td>\n",
       "      <td>중년층</td>\n",
       "      <td>551</td>\n",
       "    </tr>\n",
       "    <tr>\n",
       "      <td>8</td>\n",
       "      <td>대구,경북</td>\n",
       "      <td>청년층</td>\n",
       "      <td>376</td>\n",
       "    </tr>\n",
       "    <tr>\n",
       "      <td>9</td>\n",
       "      <td>대전,충남</td>\n",
       "      <td>노년층</td>\n",
       "      <td>573</td>\n",
       "    </tr>\n",
       "    <tr>\n",
       "      <td>10</td>\n",
       "      <td>대전,충남</td>\n",
       "      <td>중년층</td>\n",
       "      <td>451</td>\n",
       "    </tr>\n",
       "    <tr>\n",
       "      <td>11</td>\n",
       "      <td>대전,충남</td>\n",
       "      <td>청년층</td>\n",
       "      <td>331</td>\n",
       "    </tr>\n",
       "    <tr>\n",
       "      <td>12</td>\n",
       "      <td>부산,경남,울산</td>\n",
       "      <td>노년층</td>\n",
       "      <td>1155</td>\n",
       "    </tr>\n",
       "    <tr>\n",
       "      <td>13</td>\n",
       "      <td>부산,경남,울산</td>\n",
       "      <td>중년층</td>\n",
       "      <td>850</td>\n",
       "    </tr>\n",
       "    <tr>\n",
       "      <td>14</td>\n",
       "      <td>부산,경남,울산</td>\n",
       "      <td>청년층</td>\n",
       "      <td>559</td>\n",
       "    </tr>\n",
       "    <tr>\n",
       "      <td>15</td>\n",
       "      <td>서울</td>\n",
       "      <td>노년층</td>\n",
       "      <td>824</td>\n",
       "    </tr>\n",
       "    <tr>\n",
       "      <td>16</td>\n",
       "      <td>서울</td>\n",
       "      <td>중년층</td>\n",
       "      <td>872</td>\n",
       "    </tr>\n",
       "    <tr>\n",
       "      <td>17</td>\n",
       "      <td>서울</td>\n",
       "      <td>청년층</td>\n",
       "      <td>512</td>\n",
       "    </tr>\n",
       "    <tr>\n",
       "      <td>18</td>\n",
       "      <td>인천,경기</td>\n",
       "      <td>노년층</td>\n",
       "      <td>1180</td>\n",
       "    </tr>\n",
       "    <tr>\n",
       "      <td>19</td>\n",
       "      <td>인천,경기</td>\n",
       "      <td>중년층</td>\n",
       "      <td>1333</td>\n",
       "    </tr>\n",
       "    <tr>\n",
       "      <td>20</td>\n",
       "      <td>인천,경기</td>\n",
       "      <td>청년층</td>\n",
       "      <td>979</td>\n",
       "    </tr>\n",
       "  </tbody>\n",
       "</table>\n",
       "</div>"
      ],
      "text/plain": [
       "             지역  연령층  조사인원\n",
       "0         강원,충북  노년층   554\n",
       "1         강원,충북  중년층   365\n",
       "2         강원,충북  청년층   261\n",
       "3   광주,전남,전북,제주  노년층  1258\n",
       "4   광주,전남,전북,제주  중년층   870\n",
       "5   광주,전남,전북,제주  청년층   621\n",
       "6         대구,경북  노년층   947\n",
       "7         대구,경북  중년층   551\n",
       "8         대구,경북  청년층   376\n",
       "9         대전,충남  노년층   573\n",
       "10        대전,충남  중년층   451\n",
       "11        대전,충남  청년층   331\n",
       "12     부산,경남,울산  노년층  1155\n",
       "13     부산,경남,울산  중년층   850\n",
       "14     부산,경남,울산  청년층   559\n",
       "15           서울  노년층   824\n",
       "16           서울  중년층   872\n",
       "17           서울  청년층   512\n",
       "18        인천,경기  노년층  1180\n",
       "19        인천,경기  중년층  1333\n",
       "20        인천,경기  청년층   979"
      ]
     },
     "execution_count": 69,
     "metadata": {},
     "output_type": "execute_result"
    }
   ],
   "source": [
    "지역별연령층df.rename(columns={'나이':'조사인원'}, inplace=True)\n",
    "지역별연령층df"
   ]
  },
  {
   "cell_type": "code",
   "execution_count": 75,
   "metadata": {},
   "outputs": [
    {
     "data": {
      "text/html": [
       "<div>\n",
       "<style scoped>\n",
       "    .dataframe tbody tr th:only-of-type {\n",
       "        vertical-align: middle;\n",
       "    }\n",
       "\n",
       "    .dataframe tbody tr th {\n",
       "        vertical-align: top;\n",
       "    }\n",
       "\n",
       "    .dataframe thead th {\n",
       "        text-align: right;\n",
       "    }\n",
       "</style>\n",
       "<table border=\"1\" class=\"dataframe\">\n",
       "  <thead>\n",
       "    <tr style=\"text-align: right;\">\n",
       "      <th>연령층</th>\n",
       "      <th>노년층</th>\n",
       "      <th>중년층</th>\n",
       "      <th>청년층</th>\n",
       "    </tr>\n",
       "    <tr>\n",
       "      <th>지역</th>\n",
       "      <th></th>\n",
       "      <th></th>\n",
       "      <th></th>\n",
       "    </tr>\n",
       "  </thead>\n",
       "  <tbody>\n",
       "    <tr>\n",
       "      <td>강원,충북</td>\n",
       "      <td>554</td>\n",
       "      <td>365</td>\n",
       "      <td>261</td>\n",
       "    </tr>\n",
       "    <tr>\n",
       "      <td>광주,전남,전북,제주</td>\n",
       "      <td>1258</td>\n",
       "      <td>870</td>\n",
       "      <td>621</td>\n",
       "    </tr>\n",
       "    <tr>\n",
       "      <td>대구,경북</td>\n",
       "      <td>947</td>\n",
       "      <td>551</td>\n",
       "      <td>376</td>\n",
       "    </tr>\n",
       "    <tr>\n",
       "      <td>대전,충남</td>\n",
       "      <td>573</td>\n",
       "      <td>451</td>\n",
       "      <td>331</td>\n",
       "    </tr>\n",
       "    <tr>\n",
       "      <td>부산,경남,울산</td>\n",
       "      <td>1155</td>\n",
       "      <td>850</td>\n",
       "      <td>559</td>\n",
       "    </tr>\n",
       "    <tr>\n",
       "      <td>서울</td>\n",
       "      <td>824</td>\n",
       "      <td>872</td>\n",
       "      <td>512</td>\n",
       "    </tr>\n",
       "    <tr>\n",
       "      <td>인천,경기</td>\n",
       "      <td>1180</td>\n",
       "      <td>1333</td>\n",
       "      <td>979</td>\n",
       "    </tr>\n",
       "  </tbody>\n",
       "</table>\n",
       "</div>"
      ],
      "text/plain": [
       "연령층           노년층   중년층  청년층\n",
       "지역                          \n",
       "강원,충북         554   365  261\n",
       "광주,전남,전북,제주  1258   870  621\n",
       "대구,경북         947   551  376\n",
       "대전,충남         573   451  331\n",
       "부산,경남,울산     1155   850  559\n",
       "서울            824   872  512\n",
       "인천,경기        1180  1333  979"
      ]
     },
     "execution_count": 75,
     "metadata": {},
     "output_type": "execute_result"
    }
   ],
   "source": [
    "지역별연령층pv = 지역별연령층df.pivot('지역','연령층','조사인원')\n",
    "지역별연령층pv"
   ]
  },
  {
   "cell_type": "code",
   "execution_count": 77,
   "metadata": {},
   "outputs": [
    {
     "data": {
      "text/html": [
       "<div>\n",
       "<style scoped>\n",
       "    .dataframe tbody tr th:only-of-type {\n",
       "        vertical-align: middle;\n",
       "    }\n",
       "\n",
       "    .dataframe tbody tr th {\n",
       "        vertical-align: top;\n",
       "    }\n",
       "\n",
       "    .dataframe thead th {\n",
       "        text-align: right;\n",
       "    }\n",
       "</style>\n",
       "<table border=\"1\" class=\"dataframe\">\n",
       "  <thead>\n",
       "    <tr style=\"text-align: right;\">\n",
       "      <th>연령층</th>\n",
       "      <th>청년층</th>\n",
       "      <th>중년층</th>\n",
       "      <th>노년층</th>\n",
       "    </tr>\n",
       "    <tr>\n",
       "      <th>지역</th>\n",
       "      <th></th>\n",
       "      <th></th>\n",
       "      <th></th>\n",
       "    </tr>\n",
       "  </thead>\n",
       "  <tbody>\n",
       "    <tr>\n",
       "      <td>강원,충북</td>\n",
       "      <td>261</td>\n",
       "      <td>365</td>\n",
       "      <td>554</td>\n",
       "    </tr>\n",
       "    <tr>\n",
       "      <td>광주,전남,전북,제주</td>\n",
       "      <td>621</td>\n",
       "      <td>870</td>\n",
       "      <td>1258</td>\n",
       "    </tr>\n",
       "    <tr>\n",
       "      <td>대구,경북</td>\n",
       "      <td>376</td>\n",
       "      <td>551</td>\n",
       "      <td>947</td>\n",
       "    </tr>\n",
       "    <tr>\n",
       "      <td>대전,충남</td>\n",
       "      <td>331</td>\n",
       "      <td>451</td>\n",
       "      <td>573</td>\n",
       "    </tr>\n",
       "    <tr>\n",
       "      <td>부산,경남,울산</td>\n",
       "      <td>559</td>\n",
       "      <td>850</td>\n",
       "      <td>1155</td>\n",
       "    </tr>\n",
       "    <tr>\n",
       "      <td>서울</td>\n",
       "      <td>512</td>\n",
       "      <td>872</td>\n",
       "      <td>824</td>\n",
       "    </tr>\n",
       "    <tr>\n",
       "      <td>인천,경기</td>\n",
       "      <td>979</td>\n",
       "      <td>1333</td>\n",
       "      <td>1180</td>\n",
       "    </tr>\n",
       "  </tbody>\n",
       "</table>\n",
       "</div>"
      ],
      "text/plain": [
       "연령층          청년층   중년층   노년층\n",
       "지역                          \n",
       "강원,충북        261   365   554\n",
       "광주,전남,전북,제주  621   870  1258\n",
       "대구,경북        376   551   947\n",
       "대전,충남        331   451   573\n",
       "부산,경남,울산     559   850  1155\n",
       "서울           512   872   824\n",
       "인천,경기        979  1333  1180"
      ]
     },
     "execution_count": 77,
     "metadata": {},
     "output_type": "execute_result"
    }
   ],
   "source": [
    "지역별연령층pv = 지역별연령층pv.reindex(columns=['청년층','중년층','노년층'])\n",
    "지역별연령층pv"
   ]
  },
  {
   "cell_type": "code",
   "execution_count": 78,
   "metadata": {},
   "outputs": [
    {
     "data": {
      "image/png": "[encoded data removed]",
      "text/plain": [
       "<Figure size 1440x720 with 1 Axes>"
      ]
     },
     "metadata": {
      "needs_background": "light"
     },
     "output_type": "display_data"
    }
   ],
   "source": [
    "# 한글폰트, 그래픽 크기 설정\n",
    "pyplot.rcParams[\"font.family\"] = 'Malgun Gothic'\n",
    "pyplot.rcParams[\"font.size\"] = 18\n",
    "pyplot.rcParams[\"figure.figsize\"] = (20,10)\n",
    "\n",
    "지역별연령층pv.plot.bar(rot=0)\n",
    "pyplot.title(\"지역별 연령층 분포\")\n",
    "pyplot.grid()\n",
    "pyplot.xlabel(\"지역\")\n",
    "pyplot.ylabel(\"조사인원(명)\")\n",
    "\n",
    "pyplot.show()\n"
   ]
  },
  {
   "cell_type": "code",
   "execution_count": null,
   "metadata": {},
   "outputs": [],
   "source": []
  },
  {
   "cell_type": "code",
   "execution_count": null,
   "metadata": {},
   "outputs": [],
   "source": []
  },
  {
   "cell_type": "code",
   "execution_count": null,
   "metadata": {},
   "outputs": [],
   "source": []
  },
  {
   "cell_type": "code",
   "execution_count": null,
   "metadata": {},
   "outputs": [],
   "source": []
  },
  {
   "cell_type": "code",
   "execution_count": null,
   "metadata": {},
   "outputs": [],
   "source": []
  },
  {
   "cell_type": "code",
   "execution_count": null,
   "metadata": {},
   "outputs": [],
   "source": []
  }
 ],
 "metadata": {
  "kernelspec": {
   "display_name": "Python 3",
   "language": "python",
   "name": "python3"
  },
  "language_info": {
   "codemirror_mode": {
    "name": "ipython",
    "version": 3
   },
   "file_extension": ".py",
   "mimetype": "text/x-python",
   "name": "python",
   "nbconvert_exporter": "python",
   "pygments_lexer": "ipython3",
   "version": "3.7.4"
  }
 },
 "nbformat": 4,
 "nbformat_minor": 4
}
