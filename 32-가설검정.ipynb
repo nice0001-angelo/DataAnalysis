{
 "cells": [
  {
   "cell_type": "markdown",
   "metadata": {},
   "source": [
    "# 가설검정\n",
    "\n",
    "## 1) 기술통계화 추론 통계\n",
    "\n",
    "### 통계기반 데이터 분석의 구분\n",
    "\n",
    "| | 기술통계분석 | 추론통계분석 |\n",
    "|--|-------------|-----------|\n",
    "|정의|데이터를 요약해 설명하는 기법 | 단순히 숫자를 요약하는 것을 넘어 어떤 값이 발생할 확률을 계산하는 통계 기법|\n",
    "|예시| 사람들이 받는 월급을 집계해 전체 월급 평균을 구한다. | 수집된 데이터에서 성별에 따라 월급에 차이가 있는 것으로 나타났을 때 이런 차이가 우연히 발생할 확률을 계산한다 |\n",
    "\n",
    "#### 추론 통계 분석의 결론\n",
    "성별에 따른 월급의 차이가 **우연히 나타날 확률이 작다**면 통계적으로 **유의하다(statistically significant)**라고 결론 내린다.\n",
    "\n",
    "성별에 따른 월급의 차이가 **우연히 나타날 확률이 크다**면 통계적으로 **유의하지 않다(not statistically significant)**고 결론 내린다.\n",
    "\n",
    "일반적으로 통계 분석을 수행했다는 것은 추론 통계를 이용해 가설 검정을 했다는 의미"
   ]
  },
  {
   "cell_type": "code",
   "execution_count": null,
   "metadata": {},
   "outputs": [],
   "source": []
  }
 ],
 "metadata": {
  "kernelspec": {
   "display_name": "Python 3",
   "language": "python",
   "name": "python3"
  },
  "language_info": {
   "codemirror_mode": {
    "name": "ipython",
    "version": 3
   },
   "file_extension": ".py",
   "mimetype": "text/x-python",
   "name": "python",
   "nbconvert_exporter": "python",
   "pygments_lexer": "ipython3",
   "version": "3.7.4"
  }
 },
 "nbformat": 4,
 "nbformat_minor": 4
}
