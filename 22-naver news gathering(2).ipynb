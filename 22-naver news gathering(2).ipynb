{
 "cells": [
  {
   "cell_type": "markdown",
   "metadata": {},
   "source": [
    "네이버 뉴스 수집(2)\n",
    "\n",
    "컨텐츠로 접근할 수 있는 웹 페이지의 주소들을 수집하고 그 목록을 리스트로 정의.\n",
    "\n",
    "리스트에 대해 반복문을 수행하면서 컨텐츠 수집\n",
    "\n",
    "## 01. 필요한 모듈 참조"
   ]
  },
  {
   "cell_type": "code",
   "execution_count": 1,
   "metadata": {},
   "outputs": [],
   "source": [
    "import requests  # -> 웹페이지 요청 모듈\n",
    "from bs4 import BeautifulSoup # -> 웹페이지 소스코드 분석 모듈\n",
    "from pandas import DataFrame"
   ]
  },
  {
   "cell_type": "code",
   "execution_count": null,
   "metadata": {},
   "outputs": [],
   "source": []
  }
 ],
 "metadata": {
  "kernelspec": {
   "display_name": "Python 3",
   "language": "python",
   "name": "python3"
  },
  "language_info": {
   "codemirror_mode": {
    "name": "ipython",
    "version": 3
   },
   "file_extension": ".py",
   "mimetype": "text/x-python",
   "name": "python",
   "nbconvert_exporter": "python",
   "pygments_lexer": "ipython3",
   "version": "3.7.4"
  }
 },
 "nbformat": 4,
 "nbformat_minor": 4
}
