{
 "cells": [
  {
   "cell_type": "markdown",
   "metadata": {},
   "source": [
    "# 네이버 로그인\n",
    "\n",
    "## Chromedriver 다운로드\n",
    "\n",
    "크롬 브라우저를 제어할 수 있는 프로그램\n",
    "\n",
    "https://chromedriver.chromium.org/downloads에서 다운로드\n",
    "    \n",
    "현재 사용중인 프라우저 버전에 맞는 파일 선택해야 함\n",
    "\n",
    "## #01. 필요한 패키지 참조\n",
    "\n",
    "> pip install --upgrade selenuim"
   ]
  },
  {
   "cell_type": "code",
   "execution_count": 2,
   "metadata": {},
   "outputs": [],
   "source": [
    "import time                                      #(내장모듈) 브라우저가 페이지를 로딩하는 동안 sleep처리를 하는 모듈\n",
    "from selenium import webdriver                   # 크롬 제어를 위한 모듈\n",
    "from selenium.webdriver.support.wait import WebDriverWait\n",
    "from bs4 import BeautifulSoup"
   ]
  },
  {
   "cell_type": "markdown",
   "metadata": {},
   "source": [
    "## #02.브라우저 제어를 위한 객체 생성\n",
    "\n",
    "chromedriver.exe의 경로를 상대/절대 경로 형식으로 지정한다.\n",
    "\n",
    "> 아래 블록이 실행되면 별도의 크롬브라우저가 실행된다. 해당 창을 닫으면 안된다."
   ]
  },
  {
   "cell_type": "code",
   "execution_count": 3,
   "metadata": {},
   "outputs": [],
   "source": [
    "# 객체 생성\n",
    "driver = webdriver.Chrome('chromedriver.exe')\n",
    "# 암묵적으로 웹 자원 로드를 위해 10초까지 기다려 준다.\n",
    "driver.implicitly_wait(10)"
   ]
  },
  {
   "cell_type": "code",
   "execution_count": null,
   "metadata": {},
   "outputs": [],
   "source": []
  }
 ],
 "metadata": {
  "kernelspec": {
   "display_name": "Python 3",
   "language": "python",
   "name": "python3"
  },
  "language_info": {
   "codemirror_mode": {
    "name": "ipython",
    "version": 3
   },
   "file_extension": ".py",
   "mimetype": "text/x-python",
   "name": "python",
   "nbconvert_exporter": "python",
   "pygments_lexer": "ipython3",
   "version": "3.7.4"
  }
 },
 "nbformat": 4,
 "nbformat_minor": 4
}
