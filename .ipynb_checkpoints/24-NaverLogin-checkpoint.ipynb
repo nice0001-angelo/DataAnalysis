{
 "cells": [
  {
   "cell_type": "markdown",
   "metadata": {},
   "source": [
    "# 네이버 로그인\n",
    "\n",
    "## Chromedriver 다운로드\n",
    "\n",
    "크롬 브라우저를 제어할 수 있는 프로그램\n",
    "\n",
    "https://chromedriver.chromium.org/downloads에서 다운로드\n",
    "    \n",
    "현재 사용중인 프라우저 버전에 맞는 파일 선택해야 함\n",
    "\n",
    "## #01. 필요한 패키지 참조\n",
    "\n",
    "> pip install --upgrade selenuim"
   ]
  },
  {
   "cell_type": "code",
   "execution_count": 17,
   "metadata": {},
   "outputs": [],
   "source": [
    "import time                                      #(내장모듈) 브라우저가 페이지를 로딩하는 동안 sleep처리를 하는 모듈\n",
    "from selenium import webdriver                   # 크롬 제어를 위한 모듈\n",
    "from selenium.webdriver.support.wait import WebDriverWait\n",
    "from bs4 import BeautifulSoup"
   ]
  },
  {
   "cell_type": "markdown",
   "metadata": {},
   "source": [
    "## #02.브라우저 제어를 위한 객체 생성\n",
    "\n",
    "chromedriver.exe의 경로를 상대/절대 경로 형식으로 지정한다.\n",
    "\n",
    "> 아래 블록이 실행되면 별도의 크롬브라우저가 실행된다. 해당 창을 닫으면 안된다."
   ]
  },
  {
   "cell_type": "code",
   "execution_count": 25,
   "metadata": {},
   "outputs": [],
   "source": [
    "# 객체 생성\n",
    "driver = webdriver.Chrome('chromedriver.exe')\n",
    "# 암묵적으로 웹 자원 로드를 위해 10초까지 기다려 준다.\n",
    "driver.implicitly_wait(10)"
   ]
  },
  {
   "cell_type": "markdown",
   "metadata": {},
   "source": [
    "## #03.네이버 로그인하기\n",
    "\n",
    "1)네이버 로그인 페이지로 이동하기"
   ]
  },
  {
   "cell_type": "code",
   "execution_count": 28,
   "metadata": {},
   "outputs": [],
   "source": [
    "# 네이버 로그인 페이지 접속\n",
    "driver.get('https://nid.naver.com/nidlogin.login')\n",
    "# 접속하는 동안 프로그램 대기(3초)\n",
    "time.sleep(3)"
   ]
  },
  {
   "cell_type": "markdown",
   "metadata": {},
   "source": [
    "2) 네이버 로그인 아이디, 비밀번호 입력\n",
    "\n",
    "크롬 브라우저로 하여금 javascript 명령을 실행하도록 한다"
   ]
  },
  {
   "cell_type": "code",
   "execution_count": 30,
   "metadata": {},
   "outputs": [],
   "source": [
    "myid = 'nice00001'\n",
    "mypw = '7avatar3!@#'\n",
    "\n",
    "# -> 전체문서(document)에서 id값에 의해(ById) 요소(Element)를 가져온 후 (get) 입력값(value)을 지정\n",
    "script = \"document.getElementById('id').value='%s'\"\n",
    "driver.execute_script(script % myid)\n",
    "\n",
    "script = \"document.getElementById('pw').value='%s'\"\n",
    "driver.execute_script(script % mypw)"
   ]
  },
  {
   "cell_type": "markdown",
   "metadata": {},
   "source": [
    "3) 로그인 버튼 클릭"
   ]
  },
  {
   "cell_type": "code",
   "execution_count": 31,
   "metadata": {},
   "outputs": [],
   "source": [
    "# bs4와 같은 방식으로 CSS 셀렉터가 \".bnt_global\"인 요소 취득\n",
    "btn = driver.find_element_by_css_selector(\".btn_global\")\n",
    "\n",
    "# 취득한 버튼을 클릭시킴 --> 로그인\n",
    "btn.click()"
   ]
  },
  {
   "cell_type": "code",
   "execution_count": null,
   "metadata": {},
   "outputs": [],
   "source": []
  }
 ],
 "metadata": {
  "kernelspec": {
   "display_name": "Python 3",
   "language": "python",
   "name": "python3"
  },
  "language_info": {
   "codemirror_mode": {
    "name": "ipython",
    "version": 3
   },
   "file_extension": ".py",
   "mimetype": "text/x-python",
   "name": "python",
   "nbconvert_exporter": "python",
   "pygments_lexer": "ipython3",
   "version": "3.7.4"
  }
 },
 "nbformat": 4,
 "nbformat_minor": 4
}
