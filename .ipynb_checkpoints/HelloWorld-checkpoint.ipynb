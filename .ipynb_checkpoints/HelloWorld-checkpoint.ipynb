{
 "cells": [
  {
   "cell_type": "markdown",
   "metadata": {},
   "source": [
    "# 1단계 제목\n",
    "## 2단계 제목\n",
    "### 3단계 제목\n",
    "#### 4단계 제목\n",
    "##### 5단계 제목\n",
    "###### 6단계 제목"
   ]
  },
  {
   "cell_type": "markdown",
   "metadata": {},
   "source": [
    "- item1\n",
    "  * item1\n",
    "  * item2\n",
    "  * item3\n",
    "- item2\n",
    "  1. item1 \n",
    "  1. item2\n",
    "  1. item3\n",
    "- item3"
   ]
  },
  {
   "cell_type": "markdown",
   "metadata": {},
   "source": [
    "작성하는 내용은 평서문입니다.  `<br>` 이라고 입력하면 한줄 바꿈.\n",
    "*줄 바꿈*이 **어떻게** 되는지 ***볼까요?***\n",
    "\n",
    "엔터키 한번은 줄바꿈 안됩니다.\n",
    "\n",
    "두번 누르면 문단이 형성됩니다."
   ]
  },
  {
   "cell_type": "markdown",
   "metadata": {},
   "source": [
    "> 인용문이 들어가는 곳 입니다.\n",
    "> 파이썬은 어쩌구 저쩌구...\n",
    "> * 목록1\n",
    "> * 목록2"
   ]
  },
  {
   "cell_type": "markdown",
   "metadata": {},
   "source": [
    "| 제목1 | 제목2 | 제목3 |\n",
    "|-----|------|-----\n",
    "| 내용1 | 내용2 | 내용3 |\n",
    "| 내용1 | 내용2 | 내용3 |\n",
    "| 내용1 | 내용2 | 내용3 |\n",
    "| 내용1 | 내용2 | 내용3 |\n",
    "| 내용1 | 내용2 | 내용3 |\n",
    "| 내용1 | 내용2 | 내용3 |"
   ]
  },
  {
   "cell_type": "markdown",
   "metadata": {},
   "source": [
    "[네이버](https://www.naver.com)"
   ]
  },
  {
   "cell_type": "markdown",
   "metadata": {},
   "source": [
    "![그림의제목](markdown_4.jpg)"
   ]
  },
  {
   "cell_type": "markdown",
   "metadata": {},
   "source": [
    "```python\n",
    "a +=100\n",
    "```"
   ]
  },
  {
   "cell_type": "markdown",
   "metadata": {},
   "source": [
    "'''java\n",
    "public class HelloWorld{}\n",
    "'''"
   ]
  },
  {
   "cell_type": "markdown",
   "metadata": {},
   "source": [
    "### <파이썬 강의>\n",
    "\n",
    "이광호 leekh4232@gmail.com\n",
    "\n",
    "python --version\n",
    "\n",
    "pip install --upgrade jupyterlab\n",
    "\n",
    "shift+마우스오른쪽버튼 후 여기에 PowerShell창  열기 하면 해당 폴더에서 cmd 실행됨\n",
    "\n",
    "jupyter lab 으로 실행\n",
    "\n",
    "\n",
    "### <파일 내보내기>\n",
    "\n",
    "html 형태로 바꿀때는 File-Export Notebook As-Export Notebook To HTML\n",
    "\n",
    "암튼 MarkDown으로 만들고 HTML을 쓰면 아주 좋음. 웹페이지에 올리거나 문서를 만들때도 매우 좋음..작성해서 써먹기..\n",
    "\n",
    "\n",
    "### <마크다운 에디터> : 파이썬 실행은 불가능\n",
    "\n",
    "typora : MarkDown 전용 에디터\n",
    "\n",
    "markp : markdown 작성후 PPT로 나오겠금 하는 에디터(문서 작성 편해질 것 같음)\n",
    "\n",
    "    \n",
    "### <특이 사항>\n",
    "\n",
    "Anaconda는 안깔아도 됨. 파이썬만 깔면 된다..Anaconda 가 나와 있는 책은 좀 오래된 책임\n",
    "\n"
   ]
  },
  {
   "cell_type": "code",
   "execution_count": null,
   "metadata": {},
   "outputs": [],
   "source": []
  }
 ],
 "metadata": {
  "kernelspec": {
   "display_name": "Python 3",
   "language": "python",
   "name": "python3"
  },
  "language_info": {
   "codemirror_mode": {
    "name": "ipython",
    "version": 3
   },
   "file_extension": ".py",
   "mimetype": "text/x-python",
   "name": "python",
   "nbconvert_exporter": "python",
   "pygments_lexer": "ipython3",
   "version": "3.7.4"
  }
 },
 "nbformat": 4,
 "nbformat_minor": 4
}
