{
 "cells": [
  {
   "cell_type": "markdown",
   "metadata": {},
   "source": [
    "# #JSON 데이터 수집\n",
    "\n",
    "## ## 인터넷을 통해 수집할 수 있는 데이터의 형식\n",
    "\n",
    "형식 |\n",
    "설명<br>\n",
    "TEXT | 단순텍스트 파일을 내려받아서 문자열 변수에 저장해야 함<br>\n",
    "CSV,XLSX | Pandas가 자체적으로 처리 가능<br>\n",
    "JSON requests | 모듈을 통해 데이터를 받아온 후 JSON 클래스를 통해 DataFrame으로 변환<br>\n",
    "HTML,XML | requests 모듈을 통해 문자열 형태로 내려받고 BeautifulSoup 클래스를 통해 데이터 추출<br>\n",
    "이미지,동영상 | requests 모듈을 통해 직접 파일 다운로드 구현<br>"
   ]
  },
  {
   "cell_type": "markdown",
   "metadata": {},
   "source": [
    "## requests 모듈\n",
    "HTTP 통신 기능을 제공하는 파이썬 패키지\n",
    "\n",
    "명령프롬프트를 관리자 권한으로 실행한 후 다음의 명령어로 설치\n",
    "\n",
    "- pip install --upgrade requests\n",
    "\n",
    "--upgrade 옵션은 이미 설치가 되어 있다면 최신버전으로 교체하는 옵션"
   ]
  },
  {
   "cell_type": "code",
   "execution_count": 30,
   "metadata": {},
   "outputs": [],
   "source": [
    "## #01. 필요한 패키지 가져오기\n",
    "\n",
    "import requests\n",
    "import json\n",
    "from pandas import DataFrame\n",
    "from matplotlib import pyplot"
   ]
  },
  {
   "cell_type": "markdown",
   "metadata": {},
   "source": [
    "--------------------\n",
    "## #02.간단한 텍스트 데이터 가져오기\n",
    "\n",
    "텍스트 데이터 URL"
   ]
  },
  {
   "cell_type": "code",
   "execution_count": 16,
   "metadata": {},
   "outputs": [],
   "source": [
    "simple_text_url = 'http://itpaper.co.kr/demo/python/simple_text.txt'"
   ]
  },
  {
   "cell_type": "markdown",
   "metadata": {},
   "source": [
    "특정 웹 페이지에 접속"
   ]
  },
  {
   "cell_type": "code",
   "execution_count": 17,
   "metadata": {},
   "outputs": [
    {
     "data": {
      "text/plain": [
       "<Response [200]>"
      ]
     },
     "execution_count": 17,
     "metadata": {},
     "output_type": "execute_result"
    }
   ],
   "source": [
    "r = requests.get(simple_text_url)\n",
    "r"
   ]
  },
  {
   "cell_type": "markdown",
   "metadata": {},
   "source": [
    "접속에 실패한 경우에 대한 예외처리\n",
    "\n",
    "- 200 : OK\n",
    "- 400,403 : 잘못된 접근 혹은 접근 권한 없음\n",
    "- 404 : Page Not Found(URL오타)\n",
    "- 50x : Server Error(접속 대상이 에러인 상황)"
   ]
  },
  {
   "cell_type": "code",
   "execution_count": 18,
   "metadata": {},
   "outputs": [],
   "source": [
    "if r.status_code != 200:\n",
    "    #에러코드와 에러메시지 출력\n",
    "    print(\"[%d Error] $s\" % (r.status_code, r.reason))\n",
    "    #프로그램 강제 종료\n",
    "    quit()"
   ]
  },
  {
   "cell_type": "markdown",
   "metadata": {},
   "source": [
    "텍스트 데이터 추출"
   ]
  },
  {
   "cell_type": "code",
   "execution_count": 19,
   "metadata": {},
   "outputs": [
    {
     "data": {
      "text/plain": [
       "'Hello Python~!!!\\n안녕하세요. 파이썬~!!!\\n'"
      ]
     },
     "execution_count": 19,
     "metadata": {},
     "output_type": "execute_result"
    }
   ],
   "source": [
    "# 인코딩 형식 지정(대상 파일이 저장된 방식을 명시해야 함)\n",
    "r.encoding = \"utf-8\"\n",
    "\n",
    "#텍스트 출력\n",
    "r.text"
   ]
  },
  {
   "cell_type": "markdown",
   "metadata": {},
   "source": [
    "--------------------\n",
    "## #03.간단한 JSON 데이터 가져오기\n",
    "\n",
    "requests 모듈이 지정된 URL의 내용을 모두 텍스트로만 가져오기 때문에 가져온 데이터의 형식에 따라 변환 처리가 필요하다\n",
    "\n",
    "간단한 JSON 데이터 가져오기"
   ]
  },
  {
   "cell_type": "code",
   "execution_count": 31,
   "metadata": {},
   "outputs": [
    {
     "name": "stdout",
     "output_type": "stream",
     "text": [
      "<class 'str'>\n"
     ]
    },
    {
     "data": {
      "text/plain": [
       "'{\\n    \"name\": \"갤럭시 S6\",\\n    \"type\": \"삼성\",\\n    \"img\": \"http://itpaper.co.kr/demo/app/img/GalaxyS6.png\"\\n}'"
      ]
     },
     "execution_count": 31,
     "metadata": {},
     "output_type": "execute_result"
    }
   ],
   "source": [
    "#URL 지정\n",
    "simple_json_url = 'http://itpaper.co.kr/demo/python/simple.json'\n",
    "\n",
    "#데이터 가져오기\n",
    "r = requests.get(simple_json_url)\n",
    "\n",
    "# 결과 검사\n",
    "if r.status_code != 200:\n",
    "    #에러코드와 에러메시지 출력\n",
    "    print(\"[%d Error] $s\" % (r.status_code, r.reason))\n",
    "    #프로그램 강제 종료\n",
    "    quit()\n",
    "    \n",
    "# 인코딩 형식 지정(대상 파일이 저장된 방식을 명시해야 함)\n",
    "r.encoding = \"utf-8\"\n",
    "\n",
    "#텍스트 출력\n",
    "print(type(r.text))\n",
    "r.text    "
   ]
  },
  {
   "cell_type": "markdown",
   "metadata": {},
   "source": [
    "## 딕셔너리를 DataFrame으로 변환\n",
    "\n",
    "DataFrame을 생성이 가능한 파라미터 형식\n",
    "\n",
    "- 2차 리스트\n",
    "- 리스트를 포함한 딕셔너리\n",
    "- 딕셔너리를 포함한 리스트\n",
    "\n",
    "수신 결과는 단순한 딕셔너리 이므로 이 값을 통째로 리스트에 넣어줘야 한다."
   ]
  },
  {
   "cell_type": "markdown",
   "metadata": {},
   "source": [
    "## #JSON 형식의 문자열을 딕셔너리로 변환"
   ]
  },
  {
   "cell_type": "code",
   "execution_count": 38,
   "metadata": {},
   "outputs": [
    {
     "name": "stdout",
     "output_type": "stream",
     "text": [
      "<class 'dict'>\n"
     ]
    },
    {
     "data": {
      "text/plain": [
       "{'name': '갤럭시 S6',\n",
       " 'type': '삼성',\n",
       " 'img': 'http://itpaper.co.kr/demo/app/img/GalaxyS6.png'}"
      ]
     },
     "execution_count": 38,
     "metadata": {},
     "output_type": "execute_result"
    }
   ],
   "source": [
    "result = json.loads(r.text)\n",
    "\n",
    "print(type(result))\n",
    "result"
   ]
  },
  {
   "cell_type": "code",
   "execution_count": 39,
   "metadata": {},
   "outputs": [
    {
     "data": {
      "text/html": [
       "<div>\n",
       "<style scoped>\n",
       "    .dataframe tbody tr th:only-of-type {\n",
       "        vertical-align: middle;\n",
       "    }\n",
       "\n",
       "    .dataframe tbody tr th {\n",
       "        vertical-align: top;\n",
       "    }\n",
       "\n",
       "    .dataframe thead th {\n",
       "        text-align: right;\n",
       "    }\n",
       "</style>\n",
       "<table border=\"1\" class=\"dataframe\">\n",
       "  <thead>\n",
       "    <tr style=\"text-align: right;\">\n",
       "      <th></th>\n",
       "      <th>name</th>\n",
       "      <th>type</th>\n",
       "      <th>img</th>\n",
       "    </tr>\n",
       "  </thead>\n",
       "  <tbody>\n",
       "    <tr>\n",
       "      <td>0</td>\n",
       "      <td>갤럭시 S6</td>\n",
       "      <td>삼성</td>\n",
       "      <td>http://itpaper.co.kr/demo/app/img/GalaxyS6.png</td>\n",
       "    </tr>\n",
       "  </tbody>\n",
       "</table>\n",
       "</div>"
      ],
      "text/plain": [
       "     name type                                             img\n",
       "0  갤럭시 S6   삼성  http://itpaper.co.kr/demo/app/img/GalaxyS6.png"
      ]
     },
     "execution_count": 39,
     "metadata": {},
     "output_type": "execute_result"
    }
   ],
   "source": [
    "simple_df = DataFrame([result])\n",
    "simple_df"
   ]
  },
  {
   "cell_type": "code",
   "execution_count": null,
   "metadata": {},
   "outputs": [],
   "source": []
  },
  {
   "cell_type": "code",
   "execution_count": null,
   "metadata": {},
   "outputs": [],
   "source": []
  },
  {
   "cell_type": "code",
   "execution_count": null,
   "metadata": {},
   "outputs": [],
   "source": []
  }
 ],
 "metadata": {
  "kernelspec": {
   "display_name": "Python 3",
   "language": "python",
   "name": "python3"
  },
  "language_info": {
   "codemirror_mode": {
    "name": "ipython",
    "version": 3
   },
   "file_extension": ".py",
   "mimetype": "text/x-python",
   "name": "python",
   "nbconvert_exporter": "python",
   "pygments_lexer": "ipython3",
   "version": "3.7.4"
  }
 },
 "nbformat": 4,
 "nbformat_minor": 4
}
