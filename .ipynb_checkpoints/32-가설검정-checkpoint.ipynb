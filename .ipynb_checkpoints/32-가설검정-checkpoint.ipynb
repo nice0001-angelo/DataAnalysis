{
 "cells": [
  {
   "cell_type": "markdown",
   "metadata": {},
   "source": [
    "# 가설검정\n",
    "\n",
    "## 1) 기술통계화 추론 통계\n",
    "\n",
    "### 통계기반 데이터 분석의 구분\n",
    "\n",
    "| | 기술통계분석 | 추론통계분석 |\n",
    "|--|-------------|-----------|\n",
    "|정의|데이터를 요약해 설명하는 기법 | 단순히 숫자를 요약하는 것을 넘어 어떤 값이 발생할 확률을 계산하는 통계 기법|\n",
    "|예시| 사람들이 받는 월급을 집계해 전체 월급 평균을 구한다. | 수집된 데이터에서 성별에 따라 월급에 차이가 있는 것으로 나타났을 때 이런 차이가 우연히 발생할 확률을 계산한다 |\n",
    "\n",
    "#### 추론 통계 분석의 결론\n",
    "성별에 따른 월급의 차이가 **우연히 나타날 확률이 작다**면 통계적으로 **유의하다(statistically significant)**라고 결론 내린다.\n",
    "\n",
    "성별에 따른 월급의 차이가 **우연히 나타날 확률이 크다**면 통계적으로 **유의하지 않다(not statistically significant)**고 결론 내린다.\n",
    "\n",
    "일반적으로 통계 분석을 수행했다는 것은 추론 통계를 이용해 가설 검정을 했다는 의미\n",
    "\n",
    "## 2)가설검정의 정의\n",
    "\n",
    "정의 \n",
    "\n",
    "모집단의 특성에 대한 통계적 가설을 모집단으로부터 추출한 표본을 사용하여 검토하는 통계적인 추론\n",
    "\n",
    "통계적인 유의성을 검정하는 것으로, 유의성 검정(Significance Test)이라고도 함\n",
    "\n",
    "절차\n",
    "\n",
    "> 가설검정 > 유의수준 설정 > 검정통계량 산출 > 기각/채택 판단\n",
    "\n",
    "용어 설명\n",
    "\n",
    "- 귀무가설(=영가설=H0):일반적으로 맞다고 가정하는 가설\n",
    "- 대립가설(=H1):새롭계 맞다고 증명하는 가설\n",
    "\n",
    "예시\n",
    "> A반에서 새로운 교육법을 도입했더니 학생 성적이 올랐다\n",
    "\n",
    "만일 새로운 교육법이 학생들의 성적을 올렸다면 기존 교육법에서 새로운 교육법을 도입했을 시 각 평균 성적의 차이가 날 것이라 예상할 수 있다.\n",
    "\n",
    "- 귀무가설(H0):Mean(기존)-Mean(새로운) = 0\n",
    "- 대립가설(H1):Mean(기존)-Mean(새로운) != 0\n",
    "\n",
    "위에서는 서로 다른 것만 비교하면 되는 것이므로 검정방법 중 양측검정을 수행한다\n",
    "\n",
    "만일 대소 비교를 한다고 하면 단측검정을 수행해야 한다\n",
    "\n",
    "가설 검정은 귀무가설 H0가 맞다는 전제하에 진행되게 되며 이 H0가 맞다고 가정할 시 나올 확률이 매우 적은 표본통계값이 나오게 될 시에는 이 가설을 기각하고 대립가설을 채택하는 형식으로 검정절차가 진행된다"
   ]
  },
  {
   "cell_type": "code",
   "execution_count": null,
   "metadata": {},
   "outputs": [],
   "source": []
  },
  {
   "cell_type": "code",
   "execution_count": null,
   "metadata": {},
   "outputs": [],
   "source": []
  },
  {
   "cell_type": "code",
   "execution_count": null,
   "metadata": {},
   "outputs": [],
   "source": []
  },
  {
   "cell_type": "code",
   "execution_count": null,
   "metadata": {},
   "outputs": [],
   "source": []
  },
  {
   "cell_type": "code",
   "execution_count": null,
   "metadata": {},
   "outputs": [],
   "source": []
  }
 ],
 "metadata": {
  "kernelspec": {
   "display_name": "Python 3",
   "language": "python",
   "name": "python3"
  },
  "language_info": {
   "codemirror_mode": {
    "name": "ipython",
    "version": 3
   },
   "file_extension": ".py",
   "mimetype": "text/x-python",
   "name": "python",
   "nbconvert_exporter": "python",
   "pygments_lexer": "ipython3",
   "version": "3.7.4"
  }
 },
 "nbformat": 4,
 "nbformat_minor": 4
}
