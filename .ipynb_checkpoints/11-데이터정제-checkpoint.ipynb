{
 "cells": [
  {
   "cell_type": "markdown",
   "metadata": {},
   "source": [
    "결측치 : 비어있는 값, DB에서의 nUll과 비슷한의미\n",
    "이상치 : 정상 범주에서 크게 벗어난 값.\n",
    "    극단치:논리적으로 존재할 수 있지만 극단적으로 크거나 작은 값\n",
    "        \n",
    "        데이터 수집 과정에서 오류가 발생될 수 있기 대문에, 현장에서 만들어진 실제 데이터에는 결측치나 이상치가 포함될 수 있다\n",
    "        이러한 값들이 포함되어 있으면 분석 결과가 왜곡되기 때문에 분석에 앞서 결측치와 이상치를 제거하는 작업을 해야 한다\n",
    "        \n",
    "## 결측치 정제 방법\n",
    "        \n",
    "        \n",
    "1. 결측치 소거법 : 결측치가 포함된 행이나 열을 통째로 삭제한다\n",
    "-  데이터가 크고 결측치가 얼마 없는 경우에는 결측치를 제거하더라도 무리가 없다\n",
    "-  데이터가 작고 결측치가 많은 경우 결측치를 제거하면 너무 많은 데이터가 손실 되기 때문에 오히려 분석 결과가 더 왜곡되는 문제가 발생한다\n",
    "2. 결측치 대체법 : 결측치를 제거하는 대신 다른값을 채워 넣는 방법\n",
    "- 데이터가 손실되어 분석결과가 왜곡되는 문제를 보완할 수 있다\n",
    "- 결측치 대체법의 종류\n",
    "           A. 평균이나 최대, 최소값을 같은 대표값을 구해 모든 결측치를 하나의 값으로 일괄 대체\n",
    "           B. 통계 분석 기법으로 각 결측치의 예측값을 추정 해 대체"
   ]
  },
  {
   "cell_type": "code",
   "execution_count": null,
   "metadata": {},
   "outputs": [],
   "source": []
  }
 ],
 "metadata": {
  "kernelspec": {
   "display_name": "Python 3",
   "language": "python",
   "name": "python3"
  },
  "language_info": {
   "codemirror_mode": {
    "name": "ipython",
    "version": 3
   },
   "file_extension": ".py",
   "mimetype": "text/x-python",
   "name": "python",
   "nbconvert_exporter": "python",
   "pygments_lexer": "ipython3",
   "version": "3.7.4"
  }
 },
 "nbformat": 4,
 "nbformat_minor": 4
}
