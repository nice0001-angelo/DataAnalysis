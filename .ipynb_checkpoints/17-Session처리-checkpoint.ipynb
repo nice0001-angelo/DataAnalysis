{
 "cells": [
  {
   "cell_type": "markdown",
   "metadata": {},
   "source": [
    "## # Session 처리\n",
    "\n",
    "**Session**이란 브라우저가 웹 사이트에 접속할 때 생성되는 통신 단위를 의미.\n",
    "\n",
    "웹 브라우저와 웹 사이트간에 세션이 생성될 때 웹 브라우저는 웹 사이트에게 자신의 버전정보를\n",
    "**UserAgent** 라는 이름으로 전송한다\n",
    "\n",
    "웹 개발자는 **UserAgent**값을 판별하여 현재 접근한 프로그램의 종류를 파악할 수 있기 때문에\n",
    "**UserAgent**값이 알려진 웹 브라우저와 다르다면 사이트는 비정상 접속으로 간주하고 접근을 차단하도록 구현할 수 있다\n",
    "\n",
    "파이썬의 requests 모듈은 **UserAgent**값이 없다\n",
    "\n",
    "주로 웹사이트 입장에서는 접속자 통계 낼때 **UserAgent**값으로 구분한다"
   ]
  },
  {
   "cell_type": "markdown",
   "metadata": {},
   "source": [
    "## #01. 필요한 패키지 가져오기"
   ]
  },
  {
   "cell_type": "code",
   "execution_count": 2,
   "metadata": {},
   "outputs": [],
   "source": [
    "import requests"
   ]
  },
  {
   "cell_type": "markdown",
   "metadata": {},
   "source": [
    "## #02. UserAgent값이 엇ㅂ을 경우 접근이 차단되는 페이지에 접근 시도"
   ]
  },
  {
   "cell_type": "code",
   "execution_count": 5,
   "metadata": {},
   "outputs": [
    {
     "name": "stdout",
     "output_type": "stream",
     "text": [
      "<class 'str'>\n"
     ]
    },
    {
     "data": {
      "text/plain": [
       "'<!DOCTYPE HTML>\\n<html lang=\"ko\">\\n<head>\\n    <meta http-equiv=\"Content-Type\" content=\"text/html; charset=utf-8\"/>\\n    <meta name=\"viewport\" content=\"width=device-width,initial-scale=1.0,maximum-scale=1.0,minimum-scale=1.0,user-scalable=no\">\\n    <meta name=\"description\" lang=\"ko\" content=\"네이버 :: 서비스에 접속할 수 없습니다.\">\\n    <title>[접근 오류] 서비스에 접속할 수 없습니다.</title>\\n    <style type=\"text/css\">\\n        /* PC */\\n        body,p,h1,h2,h3,h4,h5,h6,ul,ol,li,dl,dt,dd,table,th,td,form,fieldset,legend,input,textarea,button,select{margin:0;padding:0}\\n        body,input,textarea,select,button,table{font-size:12px;font-family:\\'굴림\\',Gulim,helvetica,sans-serif;color:#424242}\\n        body,html{height:100%}\\n        img,fieldset{border:0}\\n        img{vertical-align:middle}\\n        ul,ol{list-style:none}\\n        em,address{font-style:normal}\\n        a{color:#000;text-decoration:none}\\n        legend{display:none}\\n        hr{display:none !important}\\n        #u_skip{position:relative;width:100%;z-index:10}\\n        #u_skip a{position:absolute;top:-40px;left:0;width:auto;padding:0 10px;border:1px solid #4ec53d;background-color:#000;color:#fff;line-height:38px;white-space:nowrap;opacity:0;-webkit-transition:0.3s;transition:0.3s}\\n        #u_skip a:active, #u_skip a:focus{top:0;text-decoration:none;opacity:1}\\n        .wrap{width:600px;margin:0 auto}\\n        .header{overflow:hidden;padding-top:30px}\\n        .header .logo{float:left}\\n        .header .logo .logo_link{display:inline-block;vertical-align:top}\\n        .header .logo .logo_link img{width:90px;height:16px}\\n        .header .nav{float:right;margin-top:9px}\\n        .header .nav .nav_link:hover{text-decoration:underline}\\n        .header .nav .nav_link+.nav_link:before{content:\\'\\';display:inline-block;width:1px;height:10px;margin:0 9px 0 5px;background-color:#d6d6d6;vertical-align:0}\\n        .container{margin-top:66px}\\n        .container .content{overflow:hidden}\\n        .container .image_area{float:right;width:280px}\\n        .container .image_area .image_link{display:block}\\n        .container .image_area .image_author{overflow:hidden;display:block;text-align:center;white-space:nowrap;text-overflow:ellipsis;font-size:12px;line-height:17px;color:#8f8f8f}\\n        .container .image_area+.info_area{overflow:hidden;text-align:left}\\n        .container .info_area{margin-bottom:26px;text-align:center}\\n        .container .info_area .info_txt{margin-top:29px}\\n        .container .info_area .info_txt .tit{font-size:22px;line-height:25px}\\n        .container .info_area .info_txt .txt{margin-top:18px;line-height:20px}\\n        .container .info_area .info_link{margin-top:33px}\\n        .container .info_area .info_link [class^=\"link_\"]{overflow:hidden;display:inline-block;width:101px;height:34px;border:1px solid #e3e6e7;background-color:#fafbfc;line-height:34px;text-align:center;vertical-align:top;white-space:nowrap}\\n        .container .info_area .info_link .link_home{margin-left:10px}\\n        .footer{margin-top:93px;padding:18px 0 24px;border-top:1px solid #eff3f6}\\n        .footer address, .footer .link_naver{text-align:center;font-family:verdana,sans-serif;font-size:11px;line-height:14px;color:#8f8f8f}\\n        /* 모바일 */\\n        body.mobile, body.mobile input,textarea,select,button,table{font-family:-apple-system,BlinkMacSystemFont,helvetica,Apple SD Gothic Neo,sans-serif;letter-spacing:-0.3px}\\n        body.mobile{background-color:#fafbfc;-webkit-text-size-adjust:none}\\n        body.mobile .wrap{width:100%}\\n        body.mobile .header{padding-top:15px;text-align:center}\\n        body.mobile .header .logo{float:none}\\n        body.mobile .header .logo .logo_link img{width:82px;height:15px}\\n        body.mobile .header .nav{display:none}\\n        body.mobile .container{margin-top:38px}\\n        body.mobile .container .content{position:relative}\\n        body.mobile .container .image_area{position:absolute;bottom:72px;left:50%;margin-left:-140px}\\n        body.mobile .container .image_area+.info_area{margin:0}\\n        body.mobile .container .image_area+.info_area .info_link{margin-top:280px}\\n        body.mobile .container .info_area{margin:40px 0 161px 0;text-align:center}\\n        body.mobile .container .info_area .info_txt{margin-top:0}\\n        body.mobile .container .info_area .info_txt .tit{font-size:26px;line-height:29px;color:#000}\\n        body.mobile .container .info_area .info_txt .txt{margin-top:13px;font-size:17px;line-height:25px;color:#666}\\n        body.mobile .container .info_area .info_link{margin-top:79px}\\n        body.mobile .container .info_area .info_link [class^=\"link_\"]{width:139px;height:42px;background-color:#fff;font-size:15px;line-height:42px;color:#424242}\\n        body.mobile .container .info_area .info_link .link_home{margin-left:-1px}\\n        body.mobile .footer{margin-top:66px;border-top:0}\\n        body.mobile .footer address span{display:none}\\n    </style>\\n</head>\\n<!-- 모바일 노출시 .mobile 추가 -->\\n<body>\\n<div id=\"u_skip\" class=\"u_skip\">\\n    <a href=\"#content\">본문 바로가기</a>\\n</div>\\n<div class=\"wrap\">\\n    <div class=\"header\" role=\"banner\">\\n        <h1 class=\"logo\"><a href=\"https://www.naver.com\" class=\"logo_link\"><img src=\"https://ssl.pstatic.net/static.datalab/201910100512/img/naver_logo.png\" width=\"90\" height=\"16\" alt=\"네이버\"></a></h1>\\n        <div class=\"nav\" role=\"navigation\">\\n            <a href=\"https://www.naver.com\" class=\"nav_link\">네이버홈</a>\\n            <a href=\"https://help.naver.com/support/service/main.nhn?serviceNo=14493\" class=\"nav_link\">네이버 데이터랩 고객센터</a>\\n        </div>\\n    </div>\\n    <hr>\\n    <div class=\"container\" role=\"main\">\\n        <div class=\"content\" id=\"content\">\\n            <div class=\"image_area _errorImage\">\\n            </div>\\n\\n            <div class=\"info_area\">\\n                <div class=\"info_txt\">\\n                    <strong class=\"tit\">다시 한번 확인해주세요!</strong>\\n                    <p class=\"txt\">\\n                        지금 입력하신 주소의 페이지는<br>\\n                        사라졌거나 다른 페이지로 변경되었습니다.<br>\\n                        주소를 다시 확인해주세요.\\n                    </p>\\n                </div>\\n                <div class=\"info_link\">\\n                    <a href=\"javascript:history.back()\" class=\"link_prev\">이전 페이지</a><a href=\"https://www.naver.com\" class=\"link_home\">네이버 홈</a>\\n                </div>\\n            </div>\\n        </div>\\n    </div>\\n    <hr>\\n    <div class=\"footer\" role=\"contentinfo\">\\n        <address>\\n            <span>Copyright</span> ©<a href=\"http://www.navercorp.com\" class=\"link_naver\" target=\"_blank\">NAVER Corp.</a> <span>All Rights Reserved.</span>\\n        </address>\\n    </div>\\n</div>\\n<script src=\"https://ssl.pstatic.net/static/fe/grafolio.js\"></script>\\n</body>\\n</html>'"
      ]
     },
     "execution_count": 5,
     "metadata": {},
     "output_type": "execute_result"
    }
   ],
   "source": [
    "#데이터 가져오기\n",
    "r = requests.get(\"http://datalab.naver.com/keyword/realtimeList.naver?where=main\")\n",
    "\n",
    "# 결과 검사\n",
    "if r.status_code != 200:\n",
    "    #에러코드와 에러메시지 출력\n",
    "    print(\"[%d Error] $s\" % (r.status_code, r.reason))\n",
    "    #프로그램 강제 종료\n",
    "    quit()\n",
    "    \n",
    "# 인코딩 형식 지정(대상 파일이 저장된 방식을 명시해야 함)\n",
    "r.encoding = \"utf-8\"\n",
    "\n",
    "#텍스트 출력 결과에서 알수 있듯이 [접근오류], [서비스에 접속할 수 없습니다] 가 뜬다. 파이썬으로 접근하면 UserAgent가 없으므로(웹브라우저로 접근할땐 정상접근여서 보여준다)\n",
    "print(type(r.text))\n",
    "r.text    "
   ]
  },
  {
   "cell_type": "code",
   "execution_count": null,
   "metadata": {},
   "outputs": [],
   "source": [
    "## #03. requests 모듈에 UserAgent값 지정 후 접근하기\n",
    "\n",
    "UserAgent값 지정"
   ]
  },
  {
   "cell_type": "code",
   "execution_count": 6,
   "metadata": {},
   "outputs": [],
   "source": [
    "User_Agent = \"Mozilla/5.0 (Windows NT 10.0; Win64; x64) AppleWebKit/537.36 (KHTML, like Gecko) Chrome/77.0.3865.120 Safari/537.36\""
   ]
  },
  {
   "cell_type": "code",
   "execution_count": null,
   "metadata": {},
   "outputs": [],
   "source": []
  },
  {
   "cell_type": "code",
   "execution_count": null,
   "metadata": {},
   "outputs": [],
   "source": []
  },
  {
   "cell_type": "code",
   "execution_count": null,
   "metadata": {},
   "outputs": [],
   "source": []
  },
  {
   "cell_type": "code",
   "execution_count": null,
   "metadata": {},
   "outputs": [],
   "source": []
  },
  {
   "cell_type": "code",
   "execution_count": null,
   "metadata": {},
   "outputs": [],
   "source": []
  },
  {
   "cell_type": "code",
   "execution_count": null,
   "metadata": {},
   "outputs": [],
   "source": []
  }
 ],
 "metadata": {
  "kernelspec": {
   "display_name": "Python 3",
   "language": "python",
   "name": "python3"
  },
  "language_info": {
   "codemirror_mode": {
    "name": "ipython",
    "version": 3
   },
   "file_extension": ".py",
   "mimetype": "text/x-python",
   "name": "python",
   "nbconvert_exporter": "python",
   "pygments_lexer": "ipython3",
   "version": "3.7.4"
  }
 },
 "nbformat": 4,
 "nbformat_minor": 4
}
