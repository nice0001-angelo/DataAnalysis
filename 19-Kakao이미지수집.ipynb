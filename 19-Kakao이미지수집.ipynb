{
 "cells": [
  {
   "cell_type": "markdown",
   "metadata": {},
   "source": [
    "## 카카오 Open Api를 연동한 이미지 수집"
   ]
  },
  {
   "cell_type": "code",
   "execution_count": 6,
   "metadata": {},
   "outputs": [],
   "source": [
    "import requests\n",
    "import json               # 파이썬 기본 모듈\n",
    "import urllib             # 파이썬 기본 모듈(인코딩용)\n",
    "import pandas as pd       \n",
    "from pandas import DataFrame"
   ]
  },
  {
   "cell_type": "code",
   "execution_count": 7,
   "metadata": {},
   "outputs": [],
   "source": [
    "# 발급받은 API Key\n",
    "api_key = \"30a761afcc79bb6ade8491698aa45b78\""
   ]
  },
  {
   "cell_type": "code",
   "execution_count": 8,
   "metadata": {},
   "outputs": [],
   "source": [
    "# 검색어\n",
    "q =\"윤아\""
   ]
  },
  {
   "cell_type": "code",
   "execution_count": 10,
   "metadata": {},
   "outputs": [],
   "source": [
    "# 접근할 페이지번호(1~50)\n",
    "page = 1"
   ]
  },
  {
   "cell_type": "code",
   "execution_count": 11,
   "metadata": {},
   "outputs": [],
   "source": [
    "# 가져올 데이터 수(1~80)\n",
    "size = 80"
   ]
  },
  {
   "cell_type": "code",
   "execution_count": 18,
   "metadata": {},
   "outputs": [],
   "source": [
    "# 검색주소 샘플 --> 카카오 개발자가이드의 예시에 있음 : https://developers.kakao.com/docs/restapi/search#이미지-검색\n",
    "url_tpl = \"https://dapi.kakao.com/v2/search/image\""
   ]
  },
  {
   "cell_type": "markdown",
   "metadata": {},
   "source": [
    "# 인터넷 주소에는 한글이나 공백이 포함될 수 없기 때문에 검색어에 대해 인코딩 처리를 수행해야 한다.\n",
    "(아래에는 다음에서 파이썬으로 검색한 이미지의 예) - 즉 윤아로 검색하려면 '윤아'를 인코딩해줘야 함\n",
    "\n",
    "(아래의 주소는 실제 다음에서 파이썬을 검색했을때의 예이다. 그런데 API로 검색해오려면 카카오 가이드에 따라서 가져와야 한다)\n",
    "\n",
    "(카카오 API에서 검색한 결과는 다음에서 가져온 결과와 같을 것이다)\n",
    "\n",
    "<파이썬>\n",
    "\n",
    "https://search.daum.net/search?w=img&nil_search=btn&DA=NTB&enc=utf8&q=%ED%8C%8C%EC%9D%B4%EC%8D%AC\n",
    "\n",
    "https://search.daum.net/search?w=img&nil_search=btn&DA=NTB&enc=utf8&q=파이썬\n",
    "\n",
    "\n",
    "<윤아>\n",
    "\n",
    "https://search.daum.net/search?w=img&nil_search=btn&DA=NTB&enc=utf8&q=%EC%9C%A4%EC%95%84\n",
    "\n",
    "https://search.daum.net/search?w=img&nil_search=btn&DA=NTB&enc=utf8&q=윤아"
   ]
  },
  {
   "cell_type": "code",
   "execution_count": 19,
   "metadata": {},
   "outputs": [],
   "source": [
    "params = {\"page\":page, \"size\":size, \"query\":q}\n",
    "query = urllib.parse.urlencode(params)"
   ]
  },
  {
   "cell_type": "code",
   "execution_count": 20,
   "metadata": {},
   "outputs": [
    {
     "data": {
      "text/plain": [
       "'https://dapi.kakao.com/v2/search/image?page=1&size=80&query=%EC%9C%A4%EC%95%84'"
      ]
     },
     "execution_count": 20,
     "metadata": {},
     "output_type": "execute_result"
    }
   ],
   "source": [
    "# 최종 접속 주소\n",
    "api_url = url_tpl + \"?\" + query\n",
    "api_url"
   ]
  },
  {
   "cell_type": "code",
   "execution_count": null,
   "metadata": {},
   "outputs": [],
   "source": []
  }
 ],
 "metadata": {
  "kernelspec": {
   "display_name": "Python 3",
   "language": "python",
   "name": "python3"
  },
  "language_info": {
   "codemirror_mode": {
    "name": "ipython",
    "version": 3
   },
   "file_extension": ".py",
   "mimetype": "text/x-python",
   "name": "python",
   "nbconvert_exporter": "python",
   "pygments_lexer": "ipython3",
   "version": "3.7.4"
  }
 },
 "nbformat": 4,
 "nbformat_minor": 4
}
