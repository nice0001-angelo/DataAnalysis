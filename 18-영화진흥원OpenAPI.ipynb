{
 "cells": [
  {
   "cell_type": "code",
   "execution_count": 1,
   "metadata": {},
   "outputs": [],
   "source": [
    "## 크롤링해가는건 법적 문제지만 오픈API제공하는 곳에서 가져가는 것은 문제 없음 보통 JSON으로 제공"
   ]
  },
  {
   "cell_type": "markdown",
   "metadata": {},
   "source": [
    "# 영화진흥위원회 Open API 연동\n",
    "\n",
    "http://www.kobis.or.kr/kobisopenapi/homepg/main/main.do에 회원가입 후 키를 발급받아야함"
   ]
  },
  {
   "cell_type": "markdown",
   "metadata": {},
   "source": [
    "## #01. 필요한 패키지 가져오기"
   ]
  },
  {
   "cell_type": "code",
   "execution_count": 5,
   "metadata": {},
   "outputs": [],
   "source": [
    "import requests\n",
    "import json\n",
    "import datetime as dt\n",
    "from pandas import DataFrame\n",
    "from matplotlib import pyplot"
   ]
  },
  {
   "cell_type": "markdown",
   "metadata": {},
   "source": [
    "## #02. 키발급받기"
   ]
  },
  {
   "cell_type": "code",
   "execution_count": 6,
   "metadata": {},
   "outputs": [],
   "source": [
    "api_key = \"df36d207deaf66f09778fe5ba53b49e5\""
   ]
  },
  {
   "cell_type": "markdown",
   "metadata": {},
   "source": [
    "## #03. 접근할 URL 만들기"
   ]
  },
  {
   "cell_type": "code",
   "execution_count": 8,
   "metadata": {},
   "outputs": [],
   "source": [
    "url_tpl =\"http://www.kobis.or.kr/kobisopenapi/webservice/rest/boxoffice/searchDailyBoxOfficeList.json?key={key}&targetDt={date}\""
   ]
  },
  {
   "cell_type": "markdown",
   "metadata": {},
   "source": [
    "연동에 필요한 하루 전 날짜 문자열 만들기"
   ]
  },
  {
   "cell_type": "code",
   "execution_count": 9,
   "metadata": {},
   "outputs": [
    {
     "data": {
      "text/plain": [
       "'20191018'"
      ]
     },
     "execution_count": 9,
     "metadata": {},
     "output_type": "execute_result"
    }
   ],
   "source": [
    "today = dt.datetime.now()                         # 오늘날짜\n",
    "delta = dt.timedelta(days=-1)                     # 하루 전을 의미하는 timedelta객체 \n",
    "yesterday = today + delta                         # 오늘 날짜와 timedelta 연산\n",
    "yesterday_str = yesterday.strftime(\"%Y%m%d\")      # yyyymmdd 형식 문자열로 변환\n",
    "yesterday_str"
   ]
  },
  {
   "cell_type": "markdown",
   "metadata": {},
   "source": [
    "최종접속주소 : 보통 API통신 하는 곳에서 인풋값을 넣을땐 제공주소 후 ? 뒤에 인풋 파라미터를 넣는다(?키=값&키=값&키=값 형태)"
   ]
  },
  {
   "cell_type": "code",
   "execution_count": 10,
   "metadata": {},
   "outputs": [
    {
     "data": {
      "text/plain": [
       "'http://www.kobis.or.kr/kobisopenapi/webservice/rest/boxoffice/searchDailyBoxOfficeList.json?key=df36d207deaf66f09778fe5ba53b49e5&targetDt=20191018'"
      ]
     },
     "execution_count": 10,
     "metadata": {},
     "output_type": "execute_result"
    }
   ],
   "source": [
    "api_url = url_tpl.format(key=api_key,date=yesterday_str)\n",
    "api_url"
   ]
  },
  {
   "cell_type": "markdown",
   "metadata": {},
   "source": [
    "## #04. API접근하기"
   ]
  },
  {
   "cell_type": "code",
   "execution_count": 11,
   "metadata": {},
   "outputs": [
    {
     "data": {
      "text/plain": [
       "'{\"boxOfficeResult\":{\"boxofficeType\":\"일별 박스오피스\",\"showRange\":\"20191018~20191018\",\"dailyBoxOfficeList\":[{\"rnum\":\"1\",\"rank\":\"1\",\"rankInten\":\"0\",\"rankOldAndNew\":\"OLD\",\"movieCd\":\"20191589\",\"movieNm\":\"말레피센트 2\",\"openDt\":\"2019-10-17\",\"salesAmt\":\"915685170\",\"salesShare\":\"31.0\",\"salesInten\":\"337742340\",\"salesChange\":\"58.4\",\"salesAcc\":\"1505526000\",\"audiCnt\":\"105104\",\"audiInten\":\"35083\",\"audiChange\":\"50.1\",\"audiAcc\":\"176245\",\"scrnCnt\":\"1043\",\"showCnt\":\"4762\"},{\"rnum\":\"2\",\"rank\":\"2\",\"rankInten\":\"0\",\"rankOldAndNew\":\"OLD\",\"movieCd\":\"20199950\",\"movieNm\":\"조커\",\"openDt\":\"2019-10-02\",\"salesAmt\":\"831954460\",\"salesShare\":\"28.2\",\"salesInten\":\"320314150\",\"salesChange\":\"62.6\",\"salesAcc\":\"36877935170\",\"audiCnt\":\"94682\",\"audiInten\":\"32277\",\"audiChange\":\"51.7\",\"audiAcc\":\"4253386\",\"scrnCnt\":\"931\",\"showCnt\":\"3892\"},{\"rnum\":\"3\",\"rank\":\"3\",\"rankInten\":\"0\",\"rankOldAndNew\":\"OLD\",\"movieCd\":\"20195920\",\"movieNm\":\"가장 보통의 연애\",\"openDt\":\"2019-10-02\",\"salesAmt\":\"571274120\",\"salesShare\":\"19.3\",\"salesInten\":\"197357620\",\"salesChange\":\"52.8\",\"salesAcc\":\"19918393070\",\"audiCnt\":\"64447\",\"audiInten\":\"18697\",\"audiChange\":\"40.9\",\"audiAcc\":\"2341782\",\"scrnCnt\":\"756\",\"showCnt\":\"3118\"},{\"rnum\":\"4\",\"rank\":\"4\",\"rankInten\":\"0\",\"rankOldAndNew\":\"OLD\",\"movieCd\":\"20185361\",\"movieNm\":\"두번할까요\",\"openDt\":\"2019-10-17\",\"salesAmt\":\"232304630\",\"salesShare\":\"7.9\",\"salesInten\":\"20222280\",\"salesChange\":\"9.5\",\"salesAcc\":\"588932830\",\"audiCnt\":\"26746\",\"audiInten\":\"9\",\"audiChange\":\"0\",\"audiAcc\":\"72967\",\"scrnCnt\":\"645\",\"showCnt\":\"2489\"},{\"rnum\":\"5\",\"rank\":\"5\",\"rankInten\":\"0\",\"rankOldAndNew\":\"OLD\",\"movieCd\":\"20184483\",\"movieNm\":\"퍼펙트맨\",\"openDt\":\"2019-10-02\",\"salesAmt\":\"136248820\",\"salesShare\":\"4.6\",\"salesInten\":\"48464700\",\"salesChange\":\"55.2\",\"salesAcc\":\"9424527070\",\"audiCnt\":\"16530\",\"audiInten\":\"5281\",\"audiChange\":\"46.9\",\"audiAcc\":\"1132969\",\"scrnCnt\":\"445\",\"showCnt\":\"970\"},{\"rnum\":\"6\",\"rank\":\"6\",\"rankInten\":\"0\",\"rankOldAndNew\":\"OLD\",\"movieCd\":\"20191183\",\"movieNm\":\"제미니 맨\",\"openDt\":\"2019-10-09\",\"salesAmt\":\"61186000\",\"salesShare\":\"2.1\",\"salesInten\":\"23239160\",\"salesChange\":\"61.2\",\"salesAcc\":\"3097863820\",\"audiCnt\":\"8310\",\"audiInten\":\"3420\",\"audiChange\":\"69.9\",\"audiAcc\":\"362843\",\"scrnCnt\":\"377\",\"showCnt\":\"644\"},{\"rnum\":\"7\",\"rank\":\"7\",\"rankInten\":\"0\",\"rankOldAndNew\":\"OLD\",\"movieCd\":\"20194223\",\"movieNm\":\"너를 만난 여름\",\"openDt\":\"2019-10-16\",\"salesAmt\":\"32060600\",\"salesShare\":\"1.1\",\"salesInten\":\"4085100\",\"salesChange\":\"14.6\",\"salesAcc\":\"97567200\",\"audiCnt\":\"3549\",\"audiInten\":\"-37\",\"audiChange\":\"-1\",\"audiAcc\":\"11164\",\"scrnCnt\":\"162\",\"showCnt\":\"526\"},{\"rnum\":\"8\",\"rank\":\"8\",\"rankInten\":\"6\",\"rankOldAndNew\":\"OLD\",\"movieCd\":\"20193601\",\"movieNm\":\"장사리 : 잊혀진 영웅들\",\"openDt\":\"2019-09-25\",\"salesAmt\":\"14139780\",\"salesShare\":\"0.5\",\"salesInten\":\"5838880\",\"salesChange\":\"70.3\",\"salesAcc\":\"8904322090\",\"audiCnt\":\"2451\",\"audiInten\":\"1083\",\"audiChange\":\"79.2\",\"audiAcc\":\"1124541\",\"scrnCnt\":\"51\",\"showCnt\":\"57\"},{\"rnum\":\"9\",\"rank\":\"9\",\"rankInten\":\"2\",\"rankOldAndNew\":\"OLD\",\"movieCd\":\"20197141\",\"movieNm\":\"와일드 로즈\",\"openDt\":\"2019-10-17\",\"salesAmt\":\"13893500\",\"salesShare\":\"0.5\",\"salesInten\":\"1771600\",\"salesChange\":\"14.6\",\"salesAcc\":\"45842400\",\"audiCnt\":\"1895\",\"audiInten\":\"138\",\"audiChange\":\"7.9\",\"audiAcc\":\"6137\",\"scrnCnt\":\"151\",\"showCnt\":\"301\"},{\"rnum\":\"10\",\"rank\":\"10\",\"rankInten\":\"0\",\"rankOldAndNew\":\"NEW\",\"movieCd\":\"20191845\",\"movieNm\":\"난폭한 기록\",\"openDt\":\"2019-07-11\",\"salesAmt\":\"9435000\",\"salesShare\":\"0.3\",\"salesInten\":\"9435000\",\"salesChange\":\"100\",\"salesAcc\":\"82289090\",\"audiCnt\":\"1887\",\"audiInten\":\"1887\",\"audiChange\":\"100\",\"audiAcc\":\"12040\",\"scrnCnt\":\"6\",\"showCnt\":\"14\"}]}}'"
      ]
     },
     "execution_count": 11,
     "metadata": {},
     "output_type": "execute_result"
    }
   ],
   "source": [
    "user_agent = \"Mozilla/5.0 (Windows NT 10.0; Win64; x64) AppleWebKit/537.36 (KHTML, like Gecko) Chrome/77.0.3865.120 Safari/537.36\"\n",
    "\n",
    "session = requests.Session()\n",
    "session.headers.update({'User-agent':user_agent, 'referer':None})\n",
    "\n",
    "r = session.get(api_url)\n",
    "\n",
    "if r.status_code != 200:\n",
    "    print(\"[%d Error] $s\" % (r.status_code, r.reason))\n",
    "    quit()\n",
    "    \n",
    "\n",
    "r.encoding = \"utf-8\"\n",
    "r.text    "
   ]
  },
  {
   "cell_type": "markdown",
   "metadata": {},
   "source": [
    "## #05.API의 응답결과를 데이터프레임으로 변환\n",
    "\n",
    "1) 딕셔너리로 변환"
   ]
  },
  {
   "cell_type": "code",
   "execution_count": 12,
   "metadata": {},
   "outputs": [
    {
     "data": {
      "text/plain": [
       "{'boxOfficeResult': {'boxofficeType': '일별 박스오피스',\n",
       "  'showRange': '20191018~20191018',\n",
       "  'dailyBoxOfficeList': [{'rnum': '1',\n",
       "    'rank': '1',\n",
       "    'rankInten': '0',\n",
       "    'rankOldAndNew': 'OLD',\n",
       "    'movieCd': '20191589',\n",
       "    'movieNm': '말레피센트 2',\n",
       "    'openDt': '2019-10-17',\n",
       "    'salesAmt': '915685170',\n",
       "    'salesShare': '31.0',\n",
       "    'salesInten': '337742340',\n",
       "    'salesChange': '58.4',\n",
       "    'salesAcc': '1505526000',\n",
       "    'audiCnt': '105104',\n",
       "    'audiInten': '35083',\n",
       "    'audiChange': '50.1',\n",
       "    'audiAcc': '176245',\n",
       "    'scrnCnt': '1043',\n",
       "    'showCnt': '4762'},\n",
       "   {'rnum': '2',\n",
       "    'rank': '2',\n",
       "    'rankInten': '0',\n",
       "    'rankOldAndNew': 'OLD',\n",
       "    'movieCd': '20199950',\n",
       "    'movieNm': '조커',\n",
       "    'openDt': '2019-10-02',\n",
       "    'salesAmt': '831954460',\n",
       "    'salesShare': '28.2',\n",
       "    'salesInten': '320314150',\n",
       "    'salesChange': '62.6',\n",
       "    'salesAcc': '36877935170',\n",
       "    'audiCnt': '94682',\n",
       "    'audiInten': '32277',\n",
       "    'audiChange': '51.7',\n",
       "    'audiAcc': '4253386',\n",
       "    'scrnCnt': '931',\n",
       "    'showCnt': '3892'},\n",
       "   {'rnum': '3',\n",
       "    'rank': '3',\n",
       "    'rankInten': '0',\n",
       "    'rankOldAndNew': 'OLD',\n",
       "    'movieCd': '20195920',\n",
       "    'movieNm': '가장 보통의 연애',\n",
       "    'openDt': '2019-10-02',\n",
       "    'salesAmt': '571274120',\n",
       "    'salesShare': '19.3',\n",
       "    'salesInten': '197357620',\n",
       "    'salesChange': '52.8',\n",
       "    'salesAcc': '19918393070',\n",
       "    'audiCnt': '64447',\n",
       "    'audiInten': '18697',\n",
       "    'audiChange': '40.9',\n",
       "    'audiAcc': '2341782',\n",
       "    'scrnCnt': '756',\n",
       "    'showCnt': '3118'},\n",
       "   {'rnum': '4',\n",
       "    'rank': '4',\n",
       "    'rankInten': '0',\n",
       "    'rankOldAndNew': 'OLD',\n",
       "    'movieCd': '20185361',\n",
       "    'movieNm': '두번할까요',\n",
       "    'openDt': '2019-10-17',\n",
       "    'salesAmt': '232304630',\n",
       "    'salesShare': '7.9',\n",
       "    'salesInten': '20222280',\n",
       "    'salesChange': '9.5',\n",
       "    'salesAcc': '588932830',\n",
       "    'audiCnt': '26746',\n",
       "    'audiInten': '9',\n",
       "    'audiChange': '0',\n",
       "    'audiAcc': '72967',\n",
       "    'scrnCnt': '645',\n",
       "    'showCnt': '2489'},\n",
       "   {'rnum': '5',\n",
       "    'rank': '5',\n",
       "    'rankInten': '0',\n",
       "    'rankOldAndNew': 'OLD',\n",
       "    'movieCd': '20184483',\n",
       "    'movieNm': '퍼펙트맨',\n",
       "    'openDt': '2019-10-02',\n",
       "    'salesAmt': '136248820',\n",
       "    'salesShare': '4.6',\n",
       "    'salesInten': '48464700',\n",
       "    'salesChange': '55.2',\n",
       "    'salesAcc': '9424527070',\n",
       "    'audiCnt': '16530',\n",
       "    'audiInten': '5281',\n",
       "    'audiChange': '46.9',\n",
       "    'audiAcc': '1132969',\n",
       "    'scrnCnt': '445',\n",
       "    'showCnt': '970'},\n",
       "   {'rnum': '6',\n",
       "    'rank': '6',\n",
       "    'rankInten': '0',\n",
       "    'rankOldAndNew': 'OLD',\n",
       "    'movieCd': '20191183',\n",
       "    'movieNm': '제미니 맨',\n",
       "    'openDt': '2019-10-09',\n",
       "    'salesAmt': '61186000',\n",
       "    'salesShare': '2.1',\n",
       "    'salesInten': '23239160',\n",
       "    'salesChange': '61.2',\n",
       "    'salesAcc': '3097863820',\n",
       "    'audiCnt': '8310',\n",
       "    'audiInten': '3420',\n",
       "    'audiChange': '69.9',\n",
       "    'audiAcc': '362843',\n",
       "    'scrnCnt': '377',\n",
       "    'showCnt': '644'},\n",
       "   {'rnum': '7',\n",
       "    'rank': '7',\n",
       "    'rankInten': '0',\n",
       "    'rankOldAndNew': 'OLD',\n",
       "    'movieCd': '20194223',\n",
       "    'movieNm': '너를 만난 여름',\n",
       "    'openDt': '2019-10-16',\n",
       "    'salesAmt': '32060600',\n",
       "    'salesShare': '1.1',\n",
       "    'salesInten': '4085100',\n",
       "    'salesChange': '14.6',\n",
       "    'salesAcc': '97567200',\n",
       "    'audiCnt': '3549',\n",
       "    'audiInten': '-37',\n",
       "    'audiChange': '-1',\n",
       "    'audiAcc': '11164',\n",
       "    'scrnCnt': '162',\n",
       "    'showCnt': '526'},\n",
       "   {'rnum': '8',\n",
       "    'rank': '8',\n",
       "    'rankInten': '6',\n",
       "    'rankOldAndNew': 'OLD',\n",
       "    'movieCd': '20193601',\n",
       "    'movieNm': '장사리 : 잊혀진 영웅들',\n",
       "    'openDt': '2019-09-25',\n",
       "    'salesAmt': '14139780',\n",
       "    'salesShare': '0.5',\n",
       "    'salesInten': '5838880',\n",
       "    'salesChange': '70.3',\n",
       "    'salesAcc': '8904322090',\n",
       "    'audiCnt': '2451',\n",
       "    'audiInten': '1083',\n",
       "    'audiChange': '79.2',\n",
       "    'audiAcc': '1124541',\n",
       "    'scrnCnt': '51',\n",
       "    'showCnt': '57'},\n",
       "   {'rnum': '9',\n",
       "    'rank': '9',\n",
       "    'rankInten': '2',\n",
       "    'rankOldAndNew': 'OLD',\n",
       "    'movieCd': '20197141',\n",
       "    'movieNm': '와일드 로즈',\n",
       "    'openDt': '2019-10-17',\n",
       "    'salesAmt': '13893500',\n",
       "    'salesShare': '0.5',\n",
       "    'salesInten': '1771600',\n",
       "    'salesChange': '14.6',\n",
       "    'salesAcc': '45842400',\n",
       "    'audiCnt': '1895',\n",
       "    'audiInten': '138',\n",
       "    'audiChange': '7.9',\n",
       "    'audiAcc': '6137',\n",
       "    'scrnCnt': '151',\n",
       "    'showCnt': '301'},\n",
       "   {'rnum': '10',\n",
       "    'rank': '10',\n",
       "    'rankInten': '0',\n",
       "    'rankOldAndNew': 'NEW',\n",
       "    'movieCd': '20191845',\n",
       "    'movieNm': '난폭한 기록',\n",
       "    'openDt': '2019-07-11',\n",
       "    'salesAmt': '9435000',\n",
       "    'salesShare': '0.3',\n",
       "    'salesInten': '9435000',\n",
       "    'salesChange': '100',\n",
       "    'salesAcc': '82289090',\n",
       "    'audiCnt': '1887',\n",
       "    'audiInten': '1887',\n",
       "    'audiChange': '100',\n",
       "    'audiAcc': '12040',\n",
       "    'scrnCnt': '6',\n",
       "    'showCnt': '14'}]}}"
      ]
     },
     "execution_count": 12,
     "metadata": {},
     "output_type": "execute_result"
    }
   ],
   "source": [
    "daily_boxoffice_dict = json.loads(r.text)\n",
    "daily_boxoffice_dict"
   ]
  },
  {
   "cell_type": "code",
   "execution_count": null,
   "metadata": {},
   "outputs": [],
   "source": []
  },
  {
   "cell_type": "code",
   "execution_count": null,
   "metadata": {},
   "outputs": [],
   "source": []
  }
 ],
 "metadata": {
  "kernelspec": {
   "display_name": "Python 3",
   "language": "python",
   "name": "python3"
  },
  "language_info": {
   "codemirror_mode": {
    "name": "ipython",
    "version": 3
   },
   "file_extension": ".py",
   "mimetype": "text/x-python",
   "name": "python",
   "nbconvert_exporter": "python",
   "pygments_lexer": "ipython3",
   "version": "3.7.4"
  }
 },
 "nbformat": 4,
 "nbformat_minor": 4
}
