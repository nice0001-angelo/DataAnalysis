{
 "cells": [
  {
   "cell_type": "markdown",
   "metadata": {},
   "source": [
    "## 데이터정제\n",
    "\n",
    "결측치나 이상치가 포함된 데이터를 삭제하거나 다른값으로 대체하는 처리\n",
    "\n",
    "- 결측치 : 비어있는 값, DB에서의 Null과 비슷한의미\n",
    "- 이상치 : 정상 범주에서 크게 벗어난 값.\n",
    "    - 극단치:논리적으로 존재할 수 있지만 극단적으로 크거나 작은 값\n",
    "        \n",
    "데이터 수집 과정에서 오류가 발생될 수 있기 대문에, 현장에서 만들어진 실제 데이터에는 결측치나 이상치가 포함될 수 있다<br>\n",
    "이러한 값들이 포함되어 있으면 분석 결과가 왜곡되기 때문에 분석에 앞서 결측치와 이상치를 제거하는 작업을 해야 한다\n",
    "        \n",
    "## 결측치 정제 방법\n",
    "        \n",
    "        \n",
    "1. 결측치 소거법 : 결측치가 포함된 행이나 열을 통째로 삭제한다\n",
    "-  데이터가 크고 결측치가 얼마 없는 경우에는 결측치를 제거하더라도 무리가 없다\n",
    "-  데이터가 작고 결측치가 많은 경우 결측치를 제거하면 너무 많은 데이터가 손실 되기 때문에 오히려 분석 결과가 더 왜곡되는 문제가 발생한다\n",
    "2. 결측치 대체법 : 결측치를 제거하는 대신 다른값을 채워 넣는 방법\n",
    "- 데이터가 손실되어 분석결과가 왜곡되는 문제를 보완할 수 있다\n",
    "- 결측치 대체법의 종류\n",
    "           A. 평균이나 최대, 최소값을 같은 대표값을 구해 모든 결측치를 하나의 값으로 일괄 대체\n",
    "           B. 통계 분석 기법으로 각 결측치의 예측값을 추정 해 대체"
   ]
  },
  {
   "cell_type": "markdown",
   "metadata": {},
   "source": [
    "## #01.패키지 및 샘플 데이터 준비"
   ]
  },
  {
   "cell_type": "code",
   "execution_count": 47,
   "metadata": {},
   "outputs": [],
   "source": [
    "from pandas import DataFrame\n",
    "from sample import grade_dic\n",
    "from matplotlib import pyplot #모듈참조\n",
    "from sklearn.impute import SimpleImputer #sklearn은 tensorflow 보다 수학공식 일일히 안써도 되서 좋다. 그러나 속도가 tensorflow보다 느리다\n",
    "import numpy"
   ]
  },
  {
   "cell_type": "code",
   "execution_count": 48,
   "metadata": {},
   "outputs": [
    {
     "data": {
      "text/html": [
       "<div>\n",
       "<style scoped>\n",
       "    .dataframe tbody tr th:only-of-type {\n",
       "        vertical-align: middle;\n",
       "    }\n",
       "\n",
       "    .dataframe tbody tr th {\n",
       "        vertical-align: top;\n",
       "    }\n",
       "\n",
       "    .dataframe thead th {\n",
       "        text-align: right;\n",
       "    }\n",
       "</style>\n",
       "<table border=\"1\" class=\"dataframe\">\n",
       "  <thead>\n",
       "    <tr style=\"text-align: right;\">\n",
       "      <th></th>\n",
       "      <th>국어</th>\n",
       "      <th>영어</th>\n",
       "      <th>수학</th>\n",
       "      <th>과학</th>\n",
       "    </tr>\n",
       "  </thead>\n",
       "  <tbody>\n",
       "    <tr>\n",
       "      <td>철수</td>\n",
       "      <td>98</td>\n",
       "      <td>NaN</td>\n",
       "      <td>88.0</td>\n",
       "      <td>64.0</td>\n",
       "    </tr>\n",
       "    <tr>\n",
       "      <td>영희</td>\n",
       "      <td>88</td>\n",
       "      <td>90.0</td>\n",
       "      <td>62.0</td>\n",
       "      <td>72.0</td>\n",
       "    </tr>\n",
       "    <tr>\n",
       "      <td>민철</td>\n",
       "      <td>92</td>\n",
       "      <td>70.0</td>\n",
       "      <td>NaN</td>\n",
       "      <td>NaN</td>\n",
       "    </tr>\n",
       "    <tr>\n",
       "      <td>수현</td>\n",
       "      <td>63</td>\n",
       "      <td>60.0</td>\n",
       "      <td>31.0</td>\n",
       "      <td>70.0</td>\n",
       "    </tr>\n",
       "    <tr>\n",
       "      <td>호영</td>\n",
       "      <td>120</td>\n",
       "      <td>50.0</td>\n",
       "      <td>NaN</td>\n",
       "      <td>88.0</td>\n",
       "    </tr>\n",
       "  </tbody>\n",
       "</table>\n",
       "</div>"
      ],
      "text/plain": [
       "     국어    영어    수학    과학\n",
       "철수   98   NaN  88.0  64.0\n",
       "영희   88  90.0  62.0  72.0\n",
       "민철   92  70.0   NaN   NaN\n",
       "수현   63  60.0  31.0  70.0\n",
       "호영  120  50.0   NaN  88.0"
      ]
     },
     "execution_count": 48,
     "metadata": {},
     "output_type": "execute_result"
    }
   ],
   "source": [
    "#데이터프레임 만들기\n",
    "성적표 = DataFrame(grade_dic, index=['철수','영희','민철','수현','호영'])\n",
    "성적표"
   ]
  },
  {
   "cell_type": "markdown",
   "metadata": {},
   "source": [
    "## #02.결측치 확인하기\n",
    "1) 각 데이터의 결측치여부 확인\n",
    "- 각 열에 대해 결측치가 아닐 경우 False, 결측치는 True로 표시됨\n",
    "- isna() 함수도 같은 기능"
   ]
  },
  {
   "cell_type": "code",
   "execution_count": 49,
   "metadata": {},
   "outputs": [
    {
     "data": {
      "text/html": [
       "<div>\n",
       "<style scoped>\n",
       "    .dataframe tbody tr th:only-of-type {\n",
       "        vertical-align: middle;\n",
       "    }\n",
       "\n",
       "    .dataframe tbody tr th {\n",
       "        vertical-align: top;\n",
       "    }\n",
       "\n",
       "    .dataframe thead th {\n",
       "        text-align: right;\n",
       "    }\n",
       "</style>\n",
       "<table border=\"1\" class=\"dataframe\">\n",
       "  <thead>\n",
       "    <tr style=\"text-align: right;\">\n",
       "      <th></th>\n",
       "      <th>국어</th>\n",
       "      <th>영어</th>\n",
       "      <th>수학</th>\n",
       "      <th>과학</th>\n",
       "    </tr>\n",
       "  </thead>\n",
       "  <tbody>\n",
       "    <tr>\n",
       "      <td>철수</td>\n",
       "      <td>False</td>\n",
       "      <td>True</td>\n",
       "      <td>False</td>\n",
       "      <td>False</td>\n",
       "    </tr>\n",
       "    <tr>\n",
       "      <td>영희</td>\n",
       "      <td>False</td>\n",
       "      <td>False</td>\n",
       "      <td>False</td>\n",
       "      <td>False</td>\n",
       "    </tr>\n",
       "    <tr>\n",
       "      <td>민철</td>\n",
       "      <td>False</td>\n",
       "      <td>False</td>\n",
       "      <td>True</td>\n",
       "      <td>True</td>\n",
       "    </tr>\n",
       "    <tr>\n",
       "      <td>수현</td>\n",
       "      <td>False</td>\n",
       "      <td>False</td>\n",
       "      <td>False</td>\n",
       "      <td>False</td>\n",
       "    </tr>\n",
       "    <tr>\n",
       "      <td>호영</td>\n",
       "      <td>False</td>\n",
       "      <td>False</td>\n",
       "      <td>True</td>\n",
       "      <td>False</td>\n",
       "    </tr>\n",
       "  </tbody>\n",
       "</table>\n",
       "</div>"
      ],
      "text/plain": [
       "       국어     영어     수학     과학\n",
       "철수  False   True  False  False\n",
       "영희  False  False  False  False\n",
       "민철  False  False   True   True\n",
       "수현  False  False  False  False\n",
       "호영  False  False   True  False"
      ]
     },
     "execution_count": 49,
     "metadata": {},
     "output_type": "execute_result"
    }
   ],
   "source": [
    "결측치여부 = 성적표.isnull()\n",
    "결측치여부"
   ]
  },
  {
   "cell_type": "markdown",
   "metadata": {},
   "source": [
    "2) 각 열별로 결측치 수 파악하기\n",
    "- isnull()함수로 도출된 데이터프레임의 열별로 합계를 수행하면 True는 1, False는 0으로 계산되어 진다"
   ]
  },
  {
   "cell_type": "code",
   "execution_count": 50,
   "metadata": {},
   "outputs": [
    {
     "data": {
      "text/plain": [
       "국어    0\n",
       "영어    1\n",
       "수학    2\n",
       "과학    1\n",
       "dtype: int64"
      ]
     },
     "execution_count": 50,
     "metadata": {},
     "output_type": "execute_result"
    }
   ],
   "source": [
    "결측치합계 = 결측치여부.sum()\n",
    "결측치합계"
   ]
  },
  {
   "cell_type": "markdown",
   "metadata": {},
   "source": [
    "## #03.결측치 소거\n",
    "1) 결측치가 포함된 모든 행 삭제\n",
    "- 원본은 변화 없음, 삭제결과 리턴됨\n",
    "- inplace=True 파라미터를 적용할 경우 리턴값 없이 원본에 즉시 반영됨"
   ]
  },
  {
   "cell_type": "markdown",
   "metadata": {},
   "source": [
    "행에 포함된 값 중 하나라도 결측치인 경우 삭제"
   ]
  },
  {
   "cell_type": "code",
   "execution_count": 51,
   "metadata": {},
   "outputs": [
    {
     "data": {
      "text/html": [
       "<div>\n",
       "<style scoped>\n",
       "    .dataframe tbody tr th:only-of-type {\n",
       "        vertical-align: middle;\n",
       "    }\n",
       "\n",
       "    .dataframe tbody tr th {\n",
       "        vertical-align: top;\n",
       "    }\n",
       "\n",
       "    .dataframe thead th {\n",
       "        text-align: right;\n",
       "    }\n",
       "</style>\n",
       "<table border=\"1\" class=\"dataframe\">\n",
       "  <thead>\n",
       "    <tr style=\"text-align: right;\">\n",
       "      <th></th>\n",
       "      <th>국어</th>\n",
       "      <th>영어</th>\n",
       "      <th>수학</th>\n",
       "      <th>과학</th>\n",
       "    </tr>\n",
       "  </thead>\n",
       "  <tbody>\n",
       "    <tr>\n",
       "      <td>영희</td>\n",
       "      <td>88</td>\n",
       "      <td>90.0</td>\n",
       "      <td>62.0</td>\n",
       "      <td>72.0</td>\n",
       "    </tr>\n",
       "    <tr>\n",
       "      <td>수현</td>\n",
       "      <td>63</td>\n",
       "      <td>60.0</td>\n",
       "      <td>31.0</td>\n",
       "      <td>70.0</td>\n",
       "    </tr>\n",
       "  </tbody>\n",
       "</table>\n",
       "</div>"
      ],
      "text/plain": [
       "    국어    영어    수학    과학\n",
       "영희  88  90.0  62.0  72.0\n",
       "수현  63  60.0  31.0  70.0"
      ]
     },
     "execution_count": 51,
     "metadata": {},
     "output_type": "execute_result"
    }
   ],
   "source": [
    "na1=성적표.dropna()\n",
    "na1"
   ]
  },
  {
   "cell_type": "markdown",
   "metadata": {},
   "source": [
    "행에 포함된 모든 값이 결측치인 경우 삭제\n",
    "->삭제될 가능성이 매우 적다"
   ]
  },
  {
   "cell_type": "code",
   "execution_count": 52,
   "metadata": {},
   "outputs": [
    {
     "data": {
      "text/html": [
       "<div>\n",
       "<style scoped>\n",
       "    .dataframe tbody tr th:only-of-type {\n",
       "        vertical-align: middle;\n",
       "    }\n",
       "\n",
       "    .dataframe tbody tr th {\n",
       "        vertical-align: top;\n",
       "    }\n",
       "\n",
       "    .dataframe thead th {\n",
       "        text-align: right;\n",
       "    }\n",
       "</style>\n",
       "<table border=\"1\" class=\"dataframe\">\n",
       "  <thead>\n",
       "    <tr style=\"text-align: right;\">\n",
       "      <th></th>\n",
       "      <th>국어</th>\n",
       "      <th>영어</th>\n",
       "      <th>수학</th>\n",
       "      <th>과학</th>\n",
       "    </tr>\n",
       "  </thead>\n",
       "  <tbody>\n",
       "    <tr>\n",
       "      <td>철수</td>\n",
       "      <td>98</td>\n",
       "      <td>NaN</td>\n",
       "      <td>88.0</td>\n",
       "      <td>64.0</td>\n",
       "    </tr>\n",
       "    <tr>\n",
       "      <td>영희</td>\n",
       "      <td>88</td>\n",
       "      <td>90.0</td>\n",
       "      <td>62.0</td>\n",
       "      <td>72.0</td>\n",
       "    </tr>\n",
       "    <tr>\n",
       "      <td>민철</td>\n",
       "      <td>92</td>\n",
       "      <td>70.0</td>\n",
       "      <td>NaN</td>\n",
       "      <td>NaN</td>\n",
       "    </tr>\n",
       "    <tr>\n",
       "      <td>수현</td>\n",
       "      <td>63</td>\n",
       "      <td>60.0</td>\n",
       "      <td>31.0</td>\n",
       "      <td>70.0</td>\n",
       "    </tr>\n",
       "    <tr>\n",
       "      <td>호영</td>\n",
       "      <td>120</td>\n",
       "      <td>50.0</td>\n",
       "      <td>NaN</td>\n",
       "      <td>88.0</td>\n",
       "    </tr>\n",
       "  </tbody>\n",
       "</table>\n",
       "</div>"
      ],
      "text/plain": [
       "     국어    영어    수학    과학\n",
       "철수   98   NaN  88.0  64.0\n",
       "영희   88  90.0  62.0  72.0\n",
       "민철   92  70.0   NaN   NaN\n",
       "수현   63  60.0  31.0  70.0\n",
       "호영  120  50.0   NaN  88.0"
      ]
     },
     "execution_count": 52,
     "metadata": {},
     "output_type": "execute_result"
    }
   ],
   "source": [
    "na2=성적표.dropna(how='all')\n",
    "na2"
   ]
  },
  {
   "cell_type": "markdown",
   "metadata": {},
   "source": [
    "2) 결측치가 포함된 모든 열\n",
    "- 원본은 변화 없음, 삭제결과 리턴됨\n",
    "- inplace=True 파라미터를 적용할 경우 리턴값 없이 원본에 즉시 반영됨"
   ]
  },
  {
   "cell_type": "markdown",
   "metadata": {},
   "source": [
    "열에 포함된 값 중 하나라도 결측치인 경우 삭제"
   ]
  },
  {
   "cell_type": "code",
   "execution_count": 53,
   "metadata": {},
   "outputs": [
    {
     "data": {
      "text/html": [
       "<div>\n",
       "<style scoped>\n",
       "    .dataframe tbody tr th:only-of-type {\n",
       "        vertical-align: middle;\n",
       "    }\n",
       "\n",
       "    .dataframe tbody tr th {\n",
       "        vertical-align: top;\n",
       "    }\n",
       "\n",
       "    .dataframe thead th {\n",
       "        text-align: right;\n",
       "    }\n",
       "</style>\n",
       "<table border=\"1\" class=\"dataframe\">\n",
       "  <thead>\n",
       "    <tr style=\"text-align: right;\">\n",
       "      <th></th>\n",
       "      <th>국어</th>\n",
       "    </tr>\n",
       "  </thead>\n",
       "  <tbody>\n",
       "    <tr>\n",
       "      <td>철수</td>\n",
       "      <td>98</td>\n",
       "    </tr>\n",
       "    <tr>\n",
       "      <td>영희</td>\n",
       "      <td>88</td>\n",
       "    </tr>\n",
       "    <tr>\n",
       "      <td>민철</td>\n",
       "      <td>92</td>\n",
       "    </tr>\n",
       "    <tr>\n",
       "      <td>수현</td>\n",
       "      <td>63</td>\n",
       "    </tr>\n",
       "    <tr>\n",
       "      <td>호영</td>\n",
       "      <td>120</td>\n",
       "    </tr>\n",
       "  </tbody>\n",
       "</table>\n",
       "</div>"
      ],
      "text/plain": [
       "     국어\n",
       "철수   98\n",
       "영희   88\n",
       "민철   92\n",
       "수현   63\n",
       "호영  120"
      ]
     },
     "execution_count": 53,
     "metadata": {},
     "output_type": "execute_result"
    }
   ],
   "source": [
    "na3=성적표.dropna(axis=1)\n",
    "na3"
   ]
  },
  {
   "cell_type": "markdown",
   "metadata": {},
   "source": [
    "열에 포함된 모든 값이 결측치인 경우 삭제\n",
    "->삭제될 가능성이 매우 적다"
   ]
  },
  {
   "cell_type": "code",
   "execution_count": 54,
   "metadata": {},
   "outputs": [
    {
     "data": {
      "text/html": [
       "<div>\n",
       "<style scoped>\n",
       "    .dataframe tbody tr th:only-of-type {\n",
       "        vertical-align: middle;\n",
       "    }\n",
       "\n",
       "    .dataframe tbody tr th {\n",
       "        vertical-align: top;\n",
       "    }\n",
       "\n",
       "    .dataframe thead th {\n",
       "        text-align: right;\n",
       "    }\n",
       "</style>\n",
       "<table border=\"1\" class=\"dataframe\">\n",
       "  <thead>\n",
       "    <tr style=\"text-align: right;\">\n",
       "      <th></th>\n",
       "      <th>국어</th>\n",
       "      <th>영어</th>\n",
       "      <th>수학</th>\n",
       "      <th>과학</th>\n",
       "    </tr>\n",
       "  </thead>\n",
       "  <tbody>\n",
       "    <tr>\n",
       "      <td>철수</td>\n",
       "      <td>98</td>\n",
       "      <td>NaN</td>\n",
       "      <td>88.0</td>\n",
       "      <td>64.0</td>\n",
       "    </tr>\n",
       "    <tr>\n",
       "      <td>영희</td>\n",
       "      <td>88</td>\n",
       "      <td>90.0</td>\n",
       "      <td>62.0</td>\n",
       "      <td>72.0</td>\n",
       "    </tr>\n",
       "    <tr>\n",
       "      <td>민철</td>\n",
       "      <td>92</td>\n",
       "      <td>70.0</td>\n",
       "      <td>NaN</td>\n",
       "      <td>NaN</td>\n",
       "    </tr>\n",
       "    <tr>\n",
       "      <td>수현</td>\n",
       "      <td>63</td>\n",
       "      <td>60.0</td>\n",
       "      <td>31.0</td>\n",
       "      <td>70.0</td>\n",
       "    </tr>\n",
       "    <tr>\n",
       "      <td>호영</td>\n",
       "      <td>120</td>\n",
       "      <td>50.0</td>\n",
       "      <td>NaN</td>\n",
       "      <td>88.0</td>\n",
       "    </tr>\n",
       "  </tbody>\n",
       "</table>\n",
       "</div>"
      ],
      "text/plain": [
       "     국어    영어    수학    과학\n",
       "철수   98   NaN  88.0  64.0\n",
       "영희   88  90.0  62.0  72.0\n",
       "민철   92  70.0   NaN   NaN\n",
       "수현   63  60.0  31.0  70.0\n",
       "호영  120  50.0   NaN  88.0"
      ]
     },
     "execution_count": 54,
     "metadata": {},
     "output_type": "execute_result"
    }
   ],
   "source": [
    "na4=성적표.dropna(how='all',axis=1)\n",
    "na4"
   ]
  },
  {
   "cell_type": "markdown",
   "metadata": {},
   "source": [
    "## #04.결측치 대체\n",
    "1) 대표값으로 대체하기\n",
    "- 원본은 변화 없음, 삭제결과 리턴됨\n",
    "- inplace=True 파라미터를 적용할 경우 리턴값 없이 원본에 즉시 반영됨"
   ]
  },
  {
   "cell_type": "code",
   "execution_count": 55,
   "metadata": {},
   "outputs": [
    {
     "data": {
      "text/html": [
       "<div>\n",
       "<style scoped>\n",
       "    .dataframe tbody tr th:only-of-type {\n",
       "        vertical-align: middle;\n",
       "    }\n",
       "\n",
       "    .dataframe tbody tr th {\n",
       "        vertical-align: top;\n",
       "    }\n",
       "\n",
       "    .dataframe thead th {\n",
       "        text-align: right;\n",
       "    }\n",
       "</style>\n",
       "<table border=\"1\" class=\"dataframe\">\n",
       "  <thead>\n",
       "    <tr style=\"text-align: right;\">\n",
       "      <th></th>\n",
       "      <th>국어</th>\n",
       "      <th>영어</th>\n",
       "      <th>수학</th>\n",
       "      <th>과학</th>\n",
       "    </tr>\n",
       "  </thead>\n",
       "  <tbody>\n",
       "    <tr>\n",
       "      <td>철수</td>\n",
       "      <td>98</td>\n",
       "      <td>50.0</td>\n",
       "      <td>88.0</td>\n",
       "      <td>64.0</td>\n",
       "    </tr>\n",
       "    <tr>\n",
       "      <td>영희</td>\n",
       "      <td>88</td>\n",
       "      <td>90.0</td>\n",
       "      <td>62.0</td>\n",
       "      <td>72.0</td>\n",
       "    </tr>\n",
       "    <tr>\n",
       "      <td>민철</td>\n",
       "      <td>92</td>\n",
       "      <td>70.0</td>\n",
       "      <td>50.0</td>\n",
       "      <td>50.0</td>\n",
       "    </tr>\n",
       "    <tr>\n",
       "      <td>수현</td>\n",
       "      <td>63</td>\n",
       "      <td>60.0</td>\n",
       "      <td>31.0</td>\n",
       "      <td>70.0</td>\n",
       "    </tr>\n",
       "    <tr>\n",
       "      <td>호영</td>\n",
       "      <td>120</td>\n",
       "      <td>50.0</td>\n",
       "      <td>50.0</td>\n",
       "      <td>88.0</td>\n",
       "    </tr>\n",
       "  </tbody>\n",
       "</table>\n",
       "</div>"
      ],
      "text/plain": [
       "     국어    영어    수학    과학\n",
       "철수   98  50.0  88.0  64.0\n",
       "영희   88  90.0  62.0  72.0\n",
       "민철   92  70.0  50.0  50.0\n",
       "수현   63  60.0  31.0  70.0\n",
       "호영  120  50.0  50.0  88.0"
      ]
     },
     "execution_count": 55,
     "metadata": {},
     "output_type": "execute_result"
    }
   ],
   "source": [
    "대표값_대체=성적표.fillna(value=50)\n",
    "대표값_대체"
   ]
  },
  {
   "cell_type": "markdown",
   "metadata": {},
   "source": [
    "2) 통계분석 기법으로 대체하기\n",
    "\n",
    "결측치를 정제할 규칙 정의\n",
    "- startegy옵션 : mean=평균, median=중앙값, most_frequent : 최빈값(가장 많이 관측되는 수)"
   ]
  },
  {
   "cell_type": "code",
   "execution_count": 56,
   "metadata": {},
   "outputs": [
    {
     "data": {
      "text/plain": [
       "SimpleImputer(add_indicator=False, copy=True, fill_value=None,\n",
       "              missing_values=nan, strategy='mean', verbose=0)"
      ]
     },
     "execution_count": 56,
     "metadata": {},
     "output_type": "execute_result"
    }
   ],
   "source": [
    "# 각 열단위로 평균(strategy='mean')을 결측치(missing_values)에 지정\n",
    "정제규칙=SimpleImputer(missing_values=numpy.nan, strategy='mean')\n",
    "정제규칙"
   ]
  },
  {
   "cell_type": "markdown",
   "metadata": {},
   "source": [
    "정의된 규칙을 데이터프레임의 값들만 추출해서 적용<br>\n",
    "규칙이 적용된 2차배열이 반환된다"
   ]
  },
  {
   "cell_type": "code",
   "execution_count": 57,
   "metadata": {},
   "outputs": [
    {
     "name": "stdout",
     "output_type": "stream",
     "text": [
      "<class 'numpy.ndarray'>\n"
     ]
    },
    {
     "data": {
      "text/plain": [
       "array([[ 98.        ,  67.5       ,  88.        ,  64.        ],\n",
       "       [ 88.        ,  90.        ,  62.        ,  72.        ],\n",
       "       [ 92.        ,  70.        ,  60.33333333,  73.5       ],\n",
       "       [ 63.        ,  60.        ,  31.        ,  70.        ],\n",
       "       [120.        ,  50.        ,  60.33333333,  88.        ]])"
      ]
     },
     "execution_count": 57,
     "metadata": {},
     "output_type": "execute_result"
    }
   ],
   "source": [
    "정제규칙_적용결과 = 정제규칙.fit_transform(성적표.values)\n",
    "print(type(정제규칙_적용결과))\n",
    "정제규칙_적용결과"
   ]
  },
  {
   "cell_type": "markdown",
   "metadata": {},
   "source": [
    "적용된 규칙으로 새로운 데이터 프레임 생성<br>\n",
    "원본 데이터 프레임에서 인덱스 이름과 컬럼이름을 가져와 적용해 준다"
   ]
  },
  {
   "cell_type": "code",
   "execution_count": 58,
   "metadata": {},
   "outputs": [
    {
     "data": {
      "text/html": [
       "<div>\n",
       "<style scoped>\n",
       "    .dataframe tbody tr th:only-of-type {\n",
       "        vertical-align: middle;\n",
       "    }\n",
       "\n",
       "    .dataframe tbody tr th {\n",
       "        vertical-align: top;\n",
       "    }\n",
       "\n",
       "    .dataframe thead th {\n",
       "        text-align: right;\n",
       "    }\n",
       "</style>\n",
       "<table border=\"1\" class=\"dataframe\">\n",
       "  <thead>\n",
       "    <tr style=\"text-align: right;\">\n",
       "      <th></th>\n",
       "      <th>국어</th>\n",
       "      <th>영어</th>\n",
       "      <th>수학</th>\n",
       "      <th>과학</th>\n",
       "    </tr>\n",
       "  </thead>\n",
       "  <tbody>\n",
       "    <tr>\n",
       "      <td>철수</td>\n",
       "      <td>98.0</td>\n",
       "      <td>67.5</td>\n",
       "      <td>88.000000</td>\n",
       "      <td>64.0</td>\n",
       "    </tr>\n",
       "    <tr>\n",
       "      <td>영희</td>\n",
       "      <td>88.0</td>\n",
       "      <td>90.0</td>\n",
       "      <td>62.000000</td>\n",
       "      <td>72.0</td>\n",
       "    </tr>\n",
       "    <tr>\n",
       "      <td>민철</td>\n",
       "      <td>92.0</td>\n",
       "      <td>70.0</td>\n",
       "      <td>60.333333</td>\n",
       "      <td>73.5</td>\n",
       "    </tr>\n",
       "    <tr>\n",
       "      <td>수현</td>\n",
       "      <td>63.0</td>\n",
       "      <td>60.0</td>\n",
       "      <td>31.000000</td>\n",
       "      <td>70.0</td>\n",
       "    </tr>\n",
       "    <tr>\n",
       "      <td>호영</td>\n",
       "      <td>120.0</td>\n",
       "      <td>50.0</td>\n",
       "      <td>60.333333</td>\n",
       "      <td>88.0</td>\n",
       "    </tr>\n",
       "  </tbody>\n",
       "</table>\n",
       "</div>"
      ],
      "text/plain": [
       "       국어    영어         수학    과학\n",
       "철수   98.0  67.5  88.000000  64.0\n",
       "영희   88.0  90.0  62.000000  72.0\n",
       "민철   92.0  70.0  60.333333  73.5\n",
       "수현   63.0  60.0  31.000000  70.0\n",
       "호영  120.0  50.0  60.333333  88.0"
      ]
     },
     "execution_count": 58,
     "metadata": {},
     "output_type": "execute_result"
    }
   ],
   "source": [
    "정제결과 = DataFrame(정제규칙_적용결과,index=성적표.index, columns=성적표.columns)\n",
    "정제결과"
   ]
  },
  {
   "cell_type": "markdown",
   "metadata": {},
   "source": [
    "## #05.이상치(극단치) 정제\n",
    "극단치 제거를 위해 먼저 어디까지를 정상 범위로 볼 것인가를 정해야 한다\n",
    "1. 논리적으로 판단하여 정하기\n",
    "- 예를 들어 성인의 몸무게가 50~150Kg를 벗어나는 경우는 상당히 드물 것으로 판단하고 이 범위를 벗어나면 극단치로 간주하는 것이다\n",
    "2. 통계적인 기준을 이용하기\n",
    "- 상하위 0.3% 또는 +-3 표준편차에 해당할 만큼 극단적으로 크거나 낮으면 극단치로 간주하는 방법"
   ]
  },
  {
   "cell_type": "markdown",
   "metadata": {},
   "source": [
    "1) 이상치 존재 여부 확인하기를 위해 상자그림 표시"
   ]
  },
  {
   "cell_type": "code",
   "execution_count": 70,
   "metadata": {},
   "outputs": [
    {
     "data": {
      "image/png": "[encoded data removed]",
      "text/plain": [
       "<Figure size 864x576 with 1 Axes>"
      ]
     },
     "metadata": {
      "needs_background": "light"
     },
     "output_type": "display_data"
    }
   ],
   "source": [
    "# 앞에서 1차적으로 정제한 결과를 복사해서 진행\n",
    "성적표정제=정제결과.copy()\n",
    "\n",
    "pyplot.rcParams[\"font.family\"] = 'NanumGothic'\n",
    "pyplot.rcParams[\"font.size\"] = 14\n",
    "pyplot.rcParams[\"figure.figsize\"] = (12,8)\n",
    "성적표정제.boxplot()\n",
    "pyplot.show()"
   ]
  },
  {
   "cell_type": "markdown",
   "metadata": {},
   "source": [
    "2) 이상치를 결측치로 변경하기\n",
    "\n",
    "국어점수에 대한 이상치 필터링 --> 직관적으로 판단하여 100점 이상 나올 수 없는 점수를 이상치로 판단"
   ]
  },
  {
   "cell_type": "code",
   "execution_count": 71,
   "metadata": {},
   "outputs": [
    {
     "data": {
      "text/html": [
       "<div>\n",
       "<style scoped>\n",
       "    .dataframe tbody tr th:only-of-type {\n",
       "        vertical-align: middle;\n",
       "    }\n",
       "\n",
       "    .dataframe tbody tr th {\n",
       "        vertical-align: top;\n",
       "    }\n",
       "\n",
       "    .dataframe thead th {\n",
       "        text-align: right;\n",
       "    }\n",
       "</style>\n",
       "<table border=\"1\" class=\"dataframe\">\n",
       "  <thead>\n",
       "    <tr style=\"text-align: right;\">\n",
       "      <th></th>\n",
       "      <th>국어</th>\n",
       "      <th>영어</th>\n",
       "      <th>수학</th>\n",
       "      <th>과학</th>\n",
       "    </tr>\n",
       "  </thead>\n",
       "  <tbody>\n",
       "    <tr>\n",
       "      <td>호영</td>\n",
       "      <td>120.0</td>\n",
       "      <td>50.0</td>\n",
       "      <td>60.333333</td>\n",
       "      <td>88.0</td>\n",
       "    </tr>\n",
       "  </tbody>\n",
       "</table>\n",
       "</div>"
      ],
      "text/plain": [
       "       국어    영어         수학    과학\n",
       "호영  120.0  50.0  60.333333  88.0"
      ]
     },
     "execution_count": 71,
     "metadata": {},
     "output_type": "execute_result"
    }
   ],
   "source": [
    "이상치데이터 = 성적표정제.query('국어>100')\n",
    "이상치데이터"
   ]
  },
  {
   "cell_type": "markdown",
   "metadata": {},
   "source": [
    "필터링 된 이상치 데이터에 대한 인덱스 호출"
   ]
  },
  {
   "cell_type": "code",
   "execution_count": 72,
   "metadata": {},
   "outputs": [
    {
     "data": {
      "text/plain": [
       "['호영']"
      ]
     },
     "execution_count": 72,
     "metadata": {},
     "output_type": "execute_result"
    }
   ],
   "source": [
    "이상치인덱스 = list(이상치데이터.index)\n",
    "이상치인덱스"
   ]
  },
  {
   "cell_type": "markdown",
   "metadata": {},
   "source": [
    "이상치를 갖는 인덱스에 대한 국어 점수를 결측치로 변경"
   ]
  },
  {
   "cell_type": "code",
   "execution_count": 73,
   "metadata": {},
   "outputs": [
    {
     "data": {
      "text/html": [
       "<div>\n",
       "<style scoped>\n",
       "    .dataframe tbody tr th:only-of-type {\n",
       "        vertical-align: middle;\n",
       "    }\n",
       "\n",
       "    .dataframe tbody tr th {\n",
       "        vertical-align: top;\n",
       "    }\n",
       "\n",
       "    .dataframe thead th {\n",
       "        text-align: right;\n",
       "    }\n",
       "</style>\n",
       "<table border=\"1\" class=\"dataframe\">\n",
       "  <thead>\n",
       "    <tr style=\"text-align: right;\">\n",
       "      <th></th>\n",
       "      <th>국어</th>\n",
       "      <th>영어</th>\n",
       "      <th>수학</th>\n",
       "      <th>과학</th>\n",
       "    </tr>\n",
       "  </thead>\n",
       "  <tbody>\n",
       "    <tr>\n",
       "      <td>철수</td>\n",
       "      <td>98.0</td>\n",
       "      <td>67.5</td>\n",
       "      <td>88.000000</td>\n",
       "      <td>64.0</td>\n",
       "    </tr>\n",
       "    <tr>\n",
       "      <td>영희</td>\n",
       "      <td>88.0</td>\n",
       "      <td>90.0</td>\n",
       "      <td>62.000000</td>\n",
       "      <td>72.0</td>\n",
       "    </tr>\n",
       "    <tr>\n",
       "      <td>민철</td>\n",
       "      <td>92.0</td>\n",
       "      <td>70.0</td>\n",
       "      <td>60.333333</td>\n",
       "      <td>73.5</td>\n",
       "    </tr>\n",
       "    <tr>\n",
       "      <td>수현</td>\n",
       "      <td>63.0</td>\n",
       "      <td>60.0</td>\n",
       "      <td>31.000000</td>\n",
       "      <td>70.0</td>\n",
       "    </tr>\n",
       "    <tr>\n",
       "      <td>호영</td>\n",
       "      <td>NaN</td>\n",
       "      <td>50.0</td>\n",
       "      <td>60.333333</td>\n",
       "      <td>88.0</td>\n",
       "    </tr>\n",
       "  </tbody>\n",
       "</table>\n",
       "</div>"
      ],
      "text/plain": [
       "      국어    영어         수학    과학\n",
       "철수  98.0  67.5  88.000000  64.0\n",
       "영희  88.0  90.0  62.000000  72.0\n",
       "민철  92.0  70.0  60.333333  73.5\n",
       "수현  63.0  60.0  31.000000  70.0\n",
       "호영   NaN  50.0  60.333333  88.0"
      ]
     },
     "execution_count": 73,
     "metadata": {},
     "output_type": "execute_result"
    }
   ],
   "source": [
    "for i in 이상치인덱스:\n",
    "    성적표정제.loc[i,'국어']=numpy.nan\n",
    "\n",
    "성적표정제"
   ]
  },
  {
   "cell_type": "markdown",
   "metadata": {},
   "source": [
    "3) 변경된 결측치 정제<br>\n",
    "결측치를 정제할 규칙 정의"
   ]
  },
  {
   "cell_type": "code",
   "execution_count": 74,
   "metadata": {},
   "outputs": [
    {
     "data": {
      "text/plain": [
       "SimpleImputer(add_indicator=False, copy=True, fill_value=None,\n",
       "              missing_values=nan, strategy='mean', verbose=0)"
      ]
     },
     "execution_count": 74,
     "metadata": {},
     "output_type": "execute_result"
    }
   ],
   "source": [
    "# 결측치에 대해 평균점수 부여\n",
    "정제규칙=SimpleImputer(missing_values=numpy.nan, strategy='mean')\n",
    "정제규칙"
   ]
  },
  {
   "cell_type": "markdown",
   "metadata": {},
   "source": [
    "Dataframe의 값에 대해 규칙 적용"
   ]
  },
  {
   "cell_type": "code",
   "execution_count": 75,
   "metadata": {},
   "outputs": [
    {
     "data": {
      "text/plain": [
       "array([[98.        , 67.5       , 88.        , 64.        ],\n",
       "       [88.        , 90.        , 62.        , 72.        ],\n",
       "       [92.        , 70.        , 60.33333333, 73.5       ],\n",
       "       [63.        , 60.        , 31.        , 70.        ],\n",
       "       [85.25      , 50.        , 60.33333333, 88.        ]])"
      ]
     },
     "execution_count": 75,
     "metadata": {},
     "output_type": "execute_result"
    }
   ],
   "source": [
    "성적표정제결과 = 정제규칙.fit_transform(성적표정제.values)\n",
    "성적표정제결과"
   ]
  },
  {
   "cell_type": "markdown",
   "metadata": {},
   "source": [
    "적용된 규칙으로 새로운 데이터 프레임 완성"
   ]
  },
  {
   "cell_type": "code",
   "execution_count": 76,
   "metadata": {},
   "outputs": [
    {
     "data": {
      "text/html": [
       "<div>\n",
       "<style scoped>\n",
       "    .dataframe tbody tr th:only-of-type {\n",
       "        vertical-align: middle;\n",
       "    }\n",
       "\n",
       "    .dataframe tbody tr th {\n",
       "        vertical-align: top;\n",
       "    }\n",
       "\n",
       "    .dataframe thead th {\n",
       "        text-align: right;\n",
       "    }\n",
       "</style>\n",
       "<table border=\"1\" class=\"dataframe\">\n",
       "  <thead>\n",
       "    <tr style=\"text-align: right;\">\n",
       "      <th></th>\n",
       "      <th>국어</th>\n",
       "      <th>영어</th>\n",
       "      <th>수학</th>\n",
       "      <th>과학</th>\n",
       "    </tr>\n",
       "  </thead>\n",
       "  <tbody>\n",
       "    <tr>\n",
       "      <td>철수</td>\n",
       "      <td>98.00</td>\n",
       "      <td>67.5</td>\n",
       "      <td>88.000000</td>\n",
       "      <td>64.0</td>\n",
       "    </tr>\n",
       "    <tr>\n",
       "      <td>영희</td>\n",
       "      <td>88.00</td>\n",
       "      <td>90.0</td>\n",
       "      <td>62.000000</td>\n",
       "      <td>72.0</td>\n",
       "    </tr>\n",
       "    <tr>\n",
       "      <td>민철</td>\n",
       "      <td>92.00</td>\n",
       "      <td>70.0</td>\n",
       "      <td>60.333333</td>\n",
       "      <td>73.5</td>\n",
       "    </tr>\n",
       "    <tr>\n",
       "      <td>수현</td>\n",
       "      <td>63.00</td>\n",
       "      <td>60.0</td>\n",
       "      <td>31.000000</td>\n",
       "      <td>70.0</td>\n",
       "    </tr>\n",
       "    <tr>\n",
       "      <td>호영</td>\n",
       "      <td>85.25</td>\n",
       "      <td>50.0</td>\n",
       "      <td>60.333333</td>\n",
       "      <td>88.0</td>\n",
       "    </tr>\n",
       "  </tbody>\n",
       "</table>\n",
       "</div>"
      ],
      "text/plain": [
       "       국어    영어         수학    과학\n",
       "철수  98.00  67.5  88.000000  64.0\n",
       "영희  88.00  90.0  62.000000  72.0\n",
       "민철  92.00  70.0  60.333333  73.5\n",
       "수현  63.00  60.0  31.000000  70.0\n",
       "호영  85.25  50.0  60.333333  88.0"
      ]
     },
     "execution_count": 76,
     "metadata": {},
     "output_type": "execute_result"
    }
   ],
   "source": [
    "성적표완성 = DataFrame(성적표정제결과,index=성적표.index, columns=성적표.columns)\n",
    "성적표완성\n",
    "# Loc['호영','국어'] 의 값이 NaN에서 평균값인 82.25로 바뀌었음"
   ]
  },
  {
   "cell_type": "code",
   "execution_count": null,
   "metadata": {},
   "outputs": [],
   "source": []
  }
 ],
 "metadata": {
  "kernelspec": {
   "display_name": "Python 3",
   "language": "python",
   "name": "python3"
  },
  "language_info": {
   "codemirror_mode": {
    "name": "ipython",
    "version": 3
   },
   "file_extension": ".py",
   "mimetype": "text/x-python",
   "name": "python",
   "nbconvert_exporter": "python",
   "pygments_lexer": "ipython3",
   "version": "3.7.4"
  }
 },
 "nbformat": 4,
 "nbformat_minor": 4
}
