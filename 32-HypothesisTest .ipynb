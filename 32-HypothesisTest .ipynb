{
 "cells": [
  {
   "cell_type": "markdown",
   "metadata": {},
   "source": [
    "# 가설검정\n",
    "\n",
    "\n",
    "\n",
    "## 1) 통계기반 데이터 분석의 구분\n",
    "\n",
    "| | 기술통계분석 | 추론통계분석 |\n",
    "|--|-------------|-----------|\n",
    "|정의|데이터를 요약해 설명하는 기법 | 단순히 숫자를 요약하는 것을 넘어 어떤 값이 발생할 확률을 계산하는 통계 기법|\n",
    "|예시| 사람들이 받는 월급을 집계해 전체 월급 평균을 구한다. | 수집된 데이터에서 성별에 따라 월급에 차이가 있는 것으로 나타났을 때 이런 차이가 우연히 발생할 확률을 계산한다 |\n",
    "\n",
    "#### **추론 통계 분석의 결론**\n",
    "성별에 따른 월급의 차이가 **우연히 나타날 확률이 작다**면 통계적으로 **유의하다(statistically significant)**라고 결론 내린다.\n",
    "\n",
    "성별에 따른 월급의 차이가 **우연히 나타날 확률이 크다**면 통계적으로 **유의하지 않다(not statistically significant)**고 결론 내린다.\n",
    "\n",
    "일반적으로 통계 분석을 수행했다는 것은 추론 통계를 이용해 가설 검정을 했다는 의미\n",
    "\n",
    "## 2) 가설검정의 정의\n",
    "\n",
    "정의 \n",
    "\n",
    "모집단의 특성에 대한 통계적 가설을 모집단으로부터 추출한 표본을 사용하여 검토하는 통계적인 추론\n",
    "\n",
    "통계적인 유의성을 검정하는 것으로, 유의성 검정(Significance Test)이라고도 함\n",
    "\n",
    "절차\n",
    "\n",
    "> 가설검정 > 유의수준 설정 > 검정통계량 산출 > 기각/채택 판단\n",
    "\n",
    "**용어 설명**\n",
    "\n",
    "- 귀무가설(=영가설=H0):일반적이다라고 가정하는 가설 : 즉 차이가 없다.\n",
    "- 대립가설(=H1):새롭게 맞다고 증명하는 가설\n",
    "\n",
    "**예시**\n",
    "> A반에서 새로운 교육법을 도입했더니 학생 성적이 올랐다\n",
    "\n",
    "만일 새로운 교육법이 학생들의 성적을 올렸다면 기존 교육법에서 새로운 교육법을 도입했을 시 각 평균 성적의 차이가 날 것이라 예상할 수 있다.\n",
    "\n",
    "- 귀무가설(H0):Mean(기존)-Mean(새로운) = 0  : 부정 : 차이가 없고,, 의미가 없다\n",
    "- 대립가설(H1):Mean(기존)-Mean(새로운) != 0 : 긍정 : 차이가 있고,, 의미가 있다\n",
    "\n",
    "위에서는 서로 다른 것만 비교하면 되는 것이므로 검정방법 중 양측검정을 수행한다\n",
    "\n",
    "만일 대소 비교를 한다고 하면 단측검정을 수행해야 한다\n",
    "\n",
    "가설 검정은 귀무가설 H0가 맞다는 전제하에 진행되게 되며 이 H0가 맞다고 가정할 시 나올 확률이 매우 적은 표본통계값이 나오게 될 시에는 이 가설을 기각하고 대립가설을 채택하는 형식으로 검정절차가 진행된다\n",
    "\n",
    "> 대립가설은 우리가 증명하려는 가설이라고 정의하기 때문에 마치 분석기법을 적용할 때 우리가 대립가설이 뭔지 정해줘야 하는 것처럼 착각이 일기도 한다. 하지만 분석기법별 귀무가설/대립가설은 이미 정해져 있다고 보면된다\n",
    ">\n",
    "> 예를 들어 회귀분석의 경우 귀무가설은 \"설명변수(x)는 반응변수(y)에 영향을 주지 않는다.\"이고 대립가설은 \"설명변수(x)는 반응변수(y)에 영향을 준다.\"이다\n",
    ">\n",
    "> 그래서 편하게 기억하자면.\n",
    ">**귀무가설은 차이가 없다, 영향력이 없다, 연관성이 없다, 효과가 없다. 대립가설은 차이가 있다, 영향력이 있다, 연관성이 있다, 효과가 있다.**라고 기억하는게 편하다\n",
    "\n",
    "## 3) 신뢰수준, 유의수준 설정\n",
    "\n",
    "신뢰수준\n",
    "\n",
    "모집단에서 반복해서 표본을 추출할 경우 모집단의 모수를 포함할 구간의 비율\n",
    "\n",
    "즉 100개의 표본을 추출하고 그 표본의 신뢰 구간을 구하면 95%의 확률로 모수가 포함될 것이라는 뜻\n",
    "\n",
    "> 신뢰수준은 얼마만큼 보수적으로(빡빡하게)가설 검정을 할 것인지를 결정하는 척도라고 쉽게 이해해도 무방하다\n",
    "\n",
    "## 유의수준(P-Value)\n",
    "\n",
    "가설이 어느 정해진 수치를 벗어나면 귀무가설이 오류라고 인정할 것인가를 판단하는 기준\n",
    "\n",
    "기호는 보통 α를 쓰며 1-α가 신뢰 수준이다\n",
    "\n",
    "이 신뢰수준값(α값)이 커지면 진보적을 대립가설이 채택될 가능성이 높아지며 이 값이 작아지면 보수적으로 대립가설이 기각될 가능성이 높아진다.\n",
    "\n",
    "> 예를 들어 **95%의 신뢰수준으로 새로운 교육법이 효과가 있다**는 것을 검증한다는 의미는 5%의 유의수준으로 검증한다는 것을 의미한다\n",
    "\n",
    "-----------------------------------------------"
   ]
  },
  {
   "cell_type": "markdown",
   "metadata": {},
   "source": [
    "## t 검정(t-test)\n",
    "\n",
    "두 집단의 평균에 통계적으로 유의한 차이가 있는지 알아볼 때 사용하는 통계 분석 기법"
   ]
  },
  {
   "cell_type": "markdown",
   "metadata": {},
   "source": [
    "## #01. 필요한 패키지 참조"
   ]
  },
  {
   "cell_type": "code",
   "execution_count": 1,
   "metadata": {},
   "outputs": [],
   "source": [
    "import numpy\n",
    "from scipy import stats"
   ]
  },
  {
   "cell_type": "markdown",
   "metadata": {},
   "source": [
    "## #02. 1-sample T-test(단일 표본 t-검정)\n",
    "\n",
    "학생들의 평균키 검증\n",
    "\n",
    "전체 학생들 중 20명의 학생들을 추려 키를 측정해서 전체 학생들의 평균키가 175cm인지 아닌지 알아보고 싶다.\n",
    "\n",
    "- 귀무가설:학생들의 평균키가 175Cm이다\n",
    "- 대립가설:학생들의 평균키가 175Cm가 아니다."
   ]
  },
  {
   "cell_type": "markdown",
   "metadata": {},
   "source": [
    "## 1)학생 키에 대한 리스트 구성(랜덤배치)"
   ]
  },
  {
   "cell_type": "code",
   "execution_count": 8,
   "metadata": {},
   "outputs": [
    {
     "data": {
      "text/plain": [
       "array([163, 172, 173, 173, 165, 167, 177, 181, 164, 179, 165, 170, 167,\n",
       "       174, 169, 175, 177, 177, 173, 170])"
      ]
     },
     "execution_count": 8,
     "metadata": {},
     "output_type": "execute_result"
    }
   ],
   "source": [
    "height_list = numpy.random.randint(low=162, high=182, size=20)\n",
    "#height_list = numpy.array([164,163,173,165,180,173,175,167,176,166,181,163,173,170,172,171,178,168,170,160])\n",
    "height_list"
   ]
  },
  {
   "cell_type": "markdown",
   "metadata": {},
   "source": [
    "## 2) T 테스트 수행\n",
    "\n",
    "p-value가 0.08으로, 기각역을 p <0.05로 설정했을 때 귀무가설을 기각한다. --> 대립가설이 참(맞다)이 된다\n",
    "\n",
    "즉 귀무가설이 참일때(학생들의 실제 평균키가 175Cm 일때) 위와 같은 표본을 얻을 확률이 0.08로, 학생들의 평균키는 175Cm가 맞다고 볼수 있다\n",
    "\n",
    "역으로 0.03이면 내가 새운 기준보다 작으므로(p<0.05) 이므로 내가 새운 가설이 맞음 그러므로 대립가설이 맞고 귀무가설이 틀림..그러므로 175Cm 가 이럴땐 맞지 않음."
   ]
  },
  {
   "cell_type": "code",
   "execution_count": 9,
   "metadata": {},
   "outputs": [
    {
     "data": {
      "text/plain": [
       "Ttest_1sampResult(statistic=-2.9297204933382632, pvalue=0.008597753550984683)"
      ]
     },
     "execution_count": 9,
     "metadata": {},
     "output_type": "execute_result"
    }
   ],
   "source": [
    "tTestResult = stats.ttest_1samp(height_list, 175)\n",
    "tTestResult"
   ]
  },
  {
   "cell_type": "markdown",
   "metadata": {},
   "source": [
    "## #03. Unpaired T-test(독립 표본 t-검정)\n",
    "\n",
    "집단 1과 집단 2에서 각각 20명의 학생들을 추려, 각 집단의 키가 같은지, 다른지 알아보고 싶다.\n",
    "\n",
    "- 귀무 가설 : 두 집단의 평균 키는 같다\n",
    "- 대립 가설 : 두 집단의 평균 키는 같지 않다(양측 검정)"
   ]
  },
  {
   "cell_type": "code",
   "execution_count": 11,
   "metadata": {},
   "outputs": [
    {
     "data": {
      "text/plain": [
       "array([162, 168, 169, 165, 166, 168, 162, 172, 157, 173, 158, 169, 164,\n",
       "       170, 163, 175, 177, 162, 175, 177])"
      ]
     },
     "execution_count": 11,
     "metadata": {},
     "output_type": "execute_result"
    }
   ],
   "source": [
    "numpy.random.seed(1)  #랜덤값을 섞는다\n",
    "group1Heights = numpy.random.randint(low=157, high=178, size=20)\n",
    "group1Heights"
   ]
  },
  {
   "cell_type": "code",
   "execution_count": 14,
   "metadata": {},
   "outputs": [
    {
     "data": {
      "text/plain": [
       "array([173, 172, 176, 180, 166, 171, 179, 162, 175, 171, 171, 169, 163,\n",
       "       162, 179, 170, 175, 181, 177, 172])"
      ]
     },
     "execution_count": 14,
     "metadata": {},
     "output_type": "execute_result"
    }
   ],
   "source": [
    "group2Heights = numpy.random.randint(low=162, high=182, size=20)\n",
    "group2Heights"
   ]
  },
  {
   "cell_type": "markdown",
   "metadata": {},
   "source": [
    "기각역이 p < 0.05 일때 귀무 가설을 기각한다\n",
    "\n",
    "즉, 두 집단의 평균 키는 같지 않다\n",
    "\n",
    "두 집단의 분산이 같다고 가정했을 때보다 같지 않다고 가정했을 때 p-value가 높게 나타난다"
   ]
  },
  {
   "cell_type": "code",
   "execution_count": 15,
   "metadata": {},
   "outputs": [
    {
     "data": {
      "text/plain": [
       "Ttest_indResult(statistic=-2.466231851659976, pvalue=0.01827995629176634)"
      ]
     },
     "execution_count": 15,
     "metadata": {},
     "output_type": "execute_result"
    }
   ],
   "source": [
    "tTestResult = stats.ttest_ind(group1Heights, group2Heights)\n",
    "tTestResult"
   ]
  },
  {
   "cell_type": "markdown",
   "metadata": {},
   "source": [
    "## #04. Paired T-test(대응 표본 t-검정)\n",
    "\n",
    "다이어트약을 복용한 사람들 중 20명을 추려 복용 전/후의 체중 차이가 유의미한지 알아보고 싶다\n",
    "\n",
    "- 귀무가설:복용 전/후의 체중차이가 없다\n",
    "- 대립가설:복용 전/후의 체중차이가 있다"
   ]
  },
  {
   "cell_type": "code",
   "execution_count": 16,
   "metadata": {},
   "outputs": [
    {
     "data": {
      "text/plain": [
       "array([65, 71, 72, 68, 69, 71, 65, 75, 60, 76, 61, 72, 67, 73, 88, 66, 85,\n",
       "       78, 80, 65])"
      ]
     },
     "execution_count": 16,
     "metadata": {},
     "output_type": "execute_result"
    }
   ],
   "source": [
    "numpy.random.seed(1)\n",
    "beforeWeights = numpy.random.randint(low=60, high=90, size=20)\n",
    "beforeWeights"
   ]
  },
  {
   "cell_type": "code",
   "execution_count": 18,
   "metadata": {},
   "outputs": [
    {
     "data": {
      "text/plain": [
       "array([63.02788162, 71.19505378, 70.04173449, 69.73074638, 66.77769898,\n",
       "       70.54732426, 65.08364833, 73.40023466, 60.27597072, 75.80695056,\n",
       "       61.04124931, 71.14755845, 68.89451932, 72.75296381, 89.12981883,\n",
       "       63.84893439, 82.70491096, 78.71887921, 78.85213092, 64.55606935])"
      ]
     },
     "execution_count": 18,
     "metadata": {},
     "output_type": "execute_result"
    }
   ],
   "source": [
    "tmp_list = []\n",
    "for i in beforeWeights:\n",
    "    tmp_list.append(i*numpy.random.normal(0.99,0.02))\n",
    "    \n",
    "afterWeights = numpy.array(tmp_list)\n",
    "afterWeights"
   ]
  },
  {
   "cell_type": "markdown",
   "metadata": {},
   "source": [
    "기각역 p < 0.05에서 귀무가설을 기각한다. 즉 다이어트 약 복용 전/후에 체중 차이는 유의미하다고 할 수 있다"
   ]
  },
  {
   "cell_type": "code",
   "execution_count": 19,
   "metadata": {},
   "outputs": [
    {
     "data": {
      "text/plain": [
       "Ttest_relResult(statistic=1.6391178755144222, pvalue=0.1176417639868609)"
      ]
     },
     "execution_count": 19,
     "metadata": {},
     "output_type": "execute_result"
    }
   ],
   "source": [
    "tTestResult = stats.ttest_rel(beforeWeights, afterWeights)\n",
    "tTestResult"
   ]
  },
  {
   "cell_type": "code",
   "execution_count": null,
   "metadata": {},
   "outputs": [],
   "source": []
  },
  {
   "cell_type": "code",
   "execution_count": null,
   "metadata": {},
   "outputs": [],
   "source": []
  },
  {
   "cell_type": "code",
   "execution_count": null,
   "metadata": {},
   "outputs": [],
   "source": []
  },
  {
   "cell_type": "code",
   "execution_count": null,
   "metadata": {},
   "outputs": [],
   "source": []
  }
 ],
 "metadata": {
  "kernelspec": {
   "display_name": "Python 3",
   "language": "python",
   "name": "python3"
  },
  "language_info": {
   "codemirror_mode": {
    "name": "ipython",
    "version": 3
   },
   "file_extension": ".py",
   "mimetype": "text/x-python",
   "name": "python",
   "nbconvert_exporter": "python",
   "pygments_lexer": "ipython3",
   "version": "3.7.4"
  }
 },
 "nbformat": 4,
 "nbformat_minor": 4
}
